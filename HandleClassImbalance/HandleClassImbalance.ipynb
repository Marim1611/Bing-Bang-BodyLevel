{
 "cells": [
  {
   "cell_type": "code",
   "execution_count": 1,
   "metadata": {},
   "outputs": [],
   "source": [
    "import sys; sys.path.append('../')\n",
    "import matplotlib.pyplot as plt\n",
    "import numpy as np\n",
    "from DataPreparation.DataPreparation import read_data,prior_distribution\n",
    "from sklearn.linear_model import LogisticRegression\n",
    "from sklearn.metrics import classification_report\n",
    "from sklearn.model_selection import cross_val_predict\n",
    "from ClassImbalanceHandle import handle_class_imbalance,show_difference\n",
    "from mlpath import mlquest as mlq\n"
   ]
  },
  {
   "attachments": {},
   "cell_type": "markdown",
   "metadata": {},
   "source": [
    "# Read data"
   ]
  },
  {
   "cell_type": "code",
   "execution_count": 2,
   "metadata": {},
   "outputs": [
    {
     "name": "stderr",
     "output_type": "stream",
     "text": [
      "c:\\Users\\dell\\AppData\\Local\\Programs\\Python\\Python38\\lib\\site-packages\\mlpath\\mlquest\\mlquest.py:115: UserWarning: Attempting to log a function when no run is active will do nothing\n",
      "  warnings.warn(\"Attempting to log a function when no run is active will do nothing\")\n"
     ]
    }
   ],
   "source": [
    "kind=\"Numerical\" # \"Categorical\", \"Numerical\", \"\" means mixed\n",
    "x_data_d, y_data_d = mlq.l(read_data)(kind)"
   ]
  },
  {
   "cell_type": "code",
   "execution_count": 3,
   "metadata": {},
   "outputs": [
    {
     "name": "stdout",
     "output_type": "stream",
     "text": [
      "544\n"
     ]
    }
   ],
   "source": [
    "print(np.bincount(y_data_d)[3])"
   ]
  },
  {
   "attachments": {},
   "cell_type": "markdown",
   "metadata": {},
   "source": [
    "# 1- Oversampling using SMOTE"
   ]
  },
  {
   "cell_type": "code",
   "execution_count": 9,
   "metadata": {},
   "outputs": [],
   "source": [
    "bal_x, bal_y=handle_class_imbalance(x_data_d, y_data_d, method=\"SMOTE\", k=20, sampling_ratio=[0.7,0.8,0])"
   ]
  },
  {
   "cell_type": "code",
   "execution_count": 10,
   "metadata": {},
   "outputs": [
    {
     "name": "stdout",
     "output_type": "stream",
     "text": [
      "\n",
      "Number of samples in each class before resampling:\n",
      "\n",
      "Class 0 : 152\n",
      "Class 1 : 160\n",
      "Class 2 : 324\n",
      "Class 3 : 544\n",
      "\n",
      "Number of samples in each class after resampling:\n",
      "\n",
      "Class 0 : 380\n",
      "Class 1 : 435\n",
      "Class 2 : 544\n",
      "Class 3 : 544\n"
     ]
    }
   ],
   "source": [
    "show_difference(y_data_d,bal_y)"
   ]
  },
  {
   "attachments": {},
   "cell_type": "markdown",
   "metadata": {},
   "source": [
    "# 2- Cost sensitive"
   ]
  },
  {
   "cell_type": "code",
   "execution_count": 6,
   "metadata": {},
   "outputs": [],
   "source": [
    "weights=handle_class_imbalance(x_data_d, y_data_d, method=\"cost\")"
   ]
  },
  {
   "attachments": {},
   "cell_type": "markdown",
   "metadata": {},
   "source": [
    "# 3- Random under sampling"
   ]
  },
  {
   "cell_type": "code",
   "execution_count": 7,
   "metadata": {},
   "outputs": [],
   "source": [
    "bal_x, bal_y=handle_class_imbalance(x_data_d, y_data_d, method=\"under\")"
   ]
  },
  {
   "cell_type": "code",
   "execution_count": 8,
   "metadata": {},
   "outputs": [
    {
     "name": "stdout",
     "output_type": "stream",
     "text": [
      "\n",
      "Number of samples in each class before resampling:\n",
      "\n",
      "Class 0 : 152\n",
      "Class 1 : 160\n",
      "Class 2 : 324\n",
      "Class 3 : 544\n",
      "\n",
      "Number of samples in each class after resampling:\n",
      "\n",
      "Class 0 : 152\n",
      "Class 1 : 152\n",
      "Class 2 : 152\n",
      "Class 3 : 152\n"
     ]
    }
   ],
   "source": [
    "show_difference(y_data_d,bal_y)"
   ]
  }
 ],
 "metadata": {
  "kernelspec": {
   "display_name": "Python 3",
   "language": "python",
   "name": "python3"
  },
  "language_info": {
   "codemirror_mode": {
    "name": "ipython",
    "version": 3
   },
   "file_extension": ".py",
   "mimetype": "text/x-python",
   "name": "python",
   "nbconvert_exporter": "python",
   "pygments_lexer": "ipython3",
   "version": "3.8.5"
  },
  "orig_nbformat": 4
 },
 "nbformat": 4,
 "nbformat_minor": 2
}
