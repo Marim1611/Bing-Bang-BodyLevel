{
 "cells": [
  {
   "cell_type": "code",
   "execution_count": 1,
   "metadata": {},
   "outputs": [],
   "source": [
    "import sys; sys.path.append('../')\n",
    "from DataPreparation.DataPreparation import read_data\n",
    "from sklearn.dummy import DummyClassifier\n"
   ]
  },
  {
   "attachments": {},
   "cell_type": "markdown",
   "metadata": {},
   "source": [
    "### Read the Data"
   ]
  },
  {
   "cell_type": "code",
   "execution_count": 2,
   "metadata": {},
   "outputs": [],
   "source": [
    "x_data_d, y_data_d = read_data()"
   ]
  },
  {
   "attachments": {},
   "cell_type": "markdown",
   "metadata": {},
   "source": [
    "### ZeroR"
   ]
  },
  {
   "cell_type": "code",
   "execution_count": 3,
   "metadata": {},
   "outputs": [
    {
     "name": "stdout",
     "output_type": "stream",
     "text": [
      "Accuracy on the trainset:  0.46\n",
      "Weighted F1 on the trainset:  0.29\n"
     ]
    }
   ],
   "source": [
    "clf = DummyClassifier(strategy=\"most_frequent\")\n",
    "clf.fit(x_data_d, y_data_d)\n",
    "print(\"Accuracy on the trainset: \", round(clf.score(x_data_d, y_data_d),3))\n",
    "# get wf1 on the trainset\n",
    "from sklearn.metrics import f1_score\n",
    "print(\"Weighted F1 on the trainset: \", round(f1_score(y_data_d, clf.predict(x_data_d), average='weighted'),3))"
   ]
  },
  {
   "attachments": {},
   "cell_type": "markdown",
   "metadata": {},
   "source": [
    "### Uniform Random"
   ]
  },
  {
   "cell_type": "code",
   "execution_count": 4,
   "metadata": {},
   "outputs": [
    {
     "name": "stdout",
     "output_type": "stream",
     "text": [
      "Accuracy on the trainset:  0.244\n",
      "Weighted F1 on the trainset:  0.285\n"
     ]
    }
   ],
   "source": [
    "clf = DummyClassifier(strategy=\"uniform\")\n",
    "clf.fit(x_data_d, y_data_d)\n",
    "print(\"Accuracy on the trainset: \", round(clf.score(x_data_d, y_data_d),3))\n",
    "# get wf1 on the trainset\n",
    "from sklearn.metrics import f1_score\n",
    "print(\"Weighted F1 on the trainset: \", round(f1_score(y_data_d, clf.predict(x_data_d), average='weighted'),3))"
   ]
  }
 ],
 "metadata": {
  "kernelspec": {
   "display_name": "Python 3",
   "language": "python",
   "name": "python3"
  },
  "language_info": {
   "codemirror_mode": {
    "name": "ipython",
    "version": 3
   },
   "file_extension": ".py",
   "mimetype": "text/x-python",
   "name": "python",
   "nbconvert_exporter": "python",
   "pygments_lexer": "ipython3",
   "version": "3.9.13"
  },
  "orig_nbformat": 4,
  "vscode": {
   "interpreter": {
    "hash": "3ad933181bd8a04b432d3370b9dc3b0662ad032c4dfaa4e4f1596c548f763858"
   }
  }
 },
 "nbformat": 4,
 "nbformat_minor": 2
}
