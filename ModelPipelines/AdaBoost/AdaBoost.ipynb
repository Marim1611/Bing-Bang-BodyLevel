{
 "cells": [
  {
   "cell_type": "code",
   "execution_count": 82,
   "metadata": {},
   "outputs": [],
   "source": [
    "import sys; sys.path.append('../../')\n",
    "import numpy as np\n",
    "import pandas as pd\n",
    "from DataPreparation.DataPreparation import read_data\n",
    "from sklearn.ensemble import AdaBoostClassifier\n",
    "from sklearn.metrics import classification_report\n",
    "from sklearn.model_selection import cross_val_predict\n",
    "from mlpath import mlquest as mlq\n",
    "mlq.start_quest(\"AdaBoost\", table_dest=\"../../\", log_defs=False)"
   ]
  },
  {
   "attachments": {},
   "cell_type": "markdown",
   "metadata": {},
   "source": [
    "### Read the data"
   ]
  },
  {
   "cell_type": "code",
   "execution_count": 83,
   "metadata": {},
   "outputs": [],
   "source": [
    "x_data_d, y_data_d = mlq.l(read_data)(encode=\"OneHot\", standardize=True)"
   ]
  },
  {
   "attachments": {},
   "cell_type": "markdown",
   "metadata": {},
   "source": [
    "### Initiate model"
   ]
  },
  {
   "cell_type": "code",
   "execution_count": 84,
   "metadata": {},
   "outputs": [],
   "source": [
    "clf = mlq.l(AdaBoostClassifier)(n_estimators=2)"
   ]
  },
  {
   "attachments": {},
   "cell_type": "markdown",
   "metadata": {},
   "source": [
    "### Train and Evaluate"
   ]
  },
  {
   "cell_type": "code",
   "execution_count": 85,
   "metadata": {},
   "outputs": [
    {
     "name": "stdout",
     "output_type": "stream",
     "text": [
      "              precision    recall  f1-score   support\n",
      "\n",
      "           0       0.60      0.98      0.74       152\n",
      "           1       0.00      0.00      0.00       160\n",
      "           2       0.63      0.90      0.74       324\n",
      "           3       0.95      0.83      0.88       544\n",
      "\n",
      "    accuracy                           0.75      1180\n",
      "   macro avg       0.55      0.68      0.59      1180\n",
      "weighted avg       0.69      0.75      0.71      1180\n",
      "\n"
     ]
    },
    {
     "name": "stderr",
     "output_type": "stream",
     "text": [
      "/home/codespace/.local/lib/python3.10/site-packages/sklearn/metrics/_classification.py:1344: UndefinedMetricWarning: Precision and F-score are ill-defined and being set to 0.0 in labels with no predicted samples. Use `zero_division` parameter to control this behavior.\n",
      "  _warn_prf(average, modifier, msg_start, len(result))\n",
      "/home/codespace/.local/lib/python3.10/site-packages/sklearn/metrics/_classification.py:1344: UndefinedMetricWarning: Precision and F-score are ill-defined and being set to 0.0 in labels with no predicted samples. Use `zero_division` parameter to control this behavior.\n",
      "  _warn_prf(average, modifier, msg_start, len(result))\n",
      "/home/codespace/.local/lib/python3.10/site-packages/sklearn/metrics/_classification.py:1344: UndefinedMetricWarning: Precision and F-score are ill-defined and being set to 0.0 in labels with no predicted samples. Use `zero_division` parameter to control this behavior.\n",
      "  _warn_prf(average, modifier, msg_start, len(result))\n"
     ]
    }
   ],
   "source": [
    "y_pred = mlq.l(cross_val_predict)(clf, x_data_d, y_data_d, cv=4)\n",
    "accuracy = np.mean(y_pred == y_data_d)\n",
    "mlq.log_metrics(accuracy=accuracy.item())\n",
    "print(classification_report(y_data_d, y_pred))\n",
    "mlq.end_quest()"
   ]
  },
  {
   "attachments": {},
   "cell_type": "markdown",
   "metadata": {},
   "source": [
    "### Tracking"
   ]
  },
  {
   "cell_type": "code",
   "execution_count": 86,
   "metadata": {},
   "outputs": [
    {
     "data": {
      "text/html": [
       "<table>\n",
       "<tr>\n",
       "<th colspan=4 style=\"text-align: center; vertical-align: middle;\">info</th>\n",
       "<th colspan=1 style=\"text-align: center; vertical-align: middle;\">read_data</th>\n",
       "<th colspan=1 style=\"text-align: center; vertical-align: middle;\">cross_val_predict</th>\n",
       "<th colspan=1 style=\"text-align: center; vertical-align: middle;\">metrics</th>\n",
       "</tr>\n",
       "<th style=\"text-align: center; vertical-align: middle;\">time</th>\n",
       "<th style=\"text-align: center; vertical-align: middle;\">date</th>\n",
       "<th style=\"text-align: center; vertical-align: middle;\">duration</th>\n",
       "<th style=\"text-align: center; vertical-align: middle;\">id</th>\n",
       "<th style=\"text-align: center; vertical-align: middle;\">encode</th>\n",
       "<th style=\"text-align: center; vertical-align: middle;\">cv</th>\n",
       "<th style=\"text-align: center; vertical-align: middle;\">accuracy</th>\n",
       "</tr>\n",
       "<tr>\n",
       "<td style=\"text-align: center; vertical-align: middle;\"> <font color=white>20:57:33</font></td>\n",
       "<td style=\"text-align: center; vertical-align: middle;\"> <font color=white>05/10/23</font></td>\n",
       "<td style=\"text-align: center; vertical-align: middle;\"> <font color=white>3.89 min</font></td>\n",
       "<td style=\"text-align: center; vertical-align: middle;\"> <font color=white>8</font></td>\n",
       "<td style=\"text-align: center; vertical-align: middle;\"> <font color=yellow>OneHot</font></td>\n",
       "<td style=\"text-align: center; vertical-align: middle;\"> <font color=white>4</font></td>\n",
       "<td style=\"text-align: center; vertical-align: middle;\"> <font color=white>0.7533898305084745</font></td>\n",
       "</tr>\n",
       "<tr>\n",
       "<td style=\"text-align: center; vertical-align: middle;\"> <font color=white>21:01:39</font></td>\n",
       "<td style=\"text-align: center; vertical-align: middle;\"> <font color=white>05/10/23</font></td>\n",
       "<td style=\"text-align: center; vertical-align: middle;\"> <font color=white>1.11 s</font></td>\n",
       "<td style=\"text-align: center; vertical-align: middle;\"> <font color=white>9</font></td>\n",
       "<td style=\"text-align: center; vertical-align: middle;\"> <font color=white>OneHot</font></td>\n",
       "<td style=\"text-align: center; vertical-align: middle;\"> <font color=white>4</font></td>\n",
       "<td style=\"text-align: center; vertical-align: middle;\"> <font color=yellow>0.7093220338983051</font></td>\n",
       "</tr>\n",
       "<tr>\n",
       "<td style=\"text-align: center; vertical-align: middle;\"> <font color=white>21:02:07</font></td>\n",
       "<td style=\"text-align: center; vertical-align: middle;\"> <font color=white>05/10/23</font></td>\n",
       "<td style=\"text-align: center; vertical-align: middle;\"> <font color=white>893.91 ms</font></td>\n",
       "<td style=\"text-align: center; vertical-align: middle;\"> <font color=white>10</font></td>\n",
       "<td style=\"text-align: center; vertical-align: middle;\"> <font color=white>OneHot</font></td>\n",
       "<td style=\"text-align: center; vertical-align: middle;\"> <font color=white>4</font></td>\n",
       "<td style=\"text-align: center; vertical-align: middle;\"> <font color=yellow>0.7033898305084746</font></td>\n",
       "</tr>\n",
       "<tr>\n",
       "<td style=\"text-align: center; vertical-align: middle;\"> <font color=white>21:02:17</font></td>\n",
       "<td style=\"text-align: center; vertical-align: middle;\"> <font color=white>05/10/23</font></td>\n",
       "<td style=\"text-align: center; vertical-align: middle;\"> <font color=white>927.17 ms</font></td>\n",
       "<td style=\"text-align: center; vertical-align: middle;\"> <font color=white>11</font></td>\n",
       "<td style=\"text-align: center; vertical-align: middle;\"> <font color=white>OneHot</font></td>\n",
       "<td style=\"text-align: center; vertical-align: middle;\"> <font color=white>4</font></td>\n",
       "<td style=\"text-align: center; vertical-align: middle;\"> <font color=yellow>0.7533898305084745</font></td>\n",
       "</tr>\n",
       "<tr>\n",
       "<td style=\"text-align: center; vertical-align: middle;\"> <font color=white>21:20:30</font></td>\n",
       "<td style=\"text-align: center; vertical-align: middle;\"> <font color=white>05/10/23</font></td>\n",
       "<td style=\"text-align: center; vertical-align: middle;\"> <font color=white>2.69 s</font></td>\n",
       "<td style=\"text-align: center; vertical-align: middle;\"> <font color=white>12</font></td>\n",
       "<td style=\"text-align: center; vertical-align: middle;\"> <font color=white>OneHot</font></td>\n",
       "<td style=\"text-align: center; vertical-align: middle;\"> <font color=white>4</font></td>\n",
       "<td style=\"text-align: center; vertical-align: middle;\"> <font color=yellow>0.5322033898305085</font></td>\n",
       "</tr>\n",
       "<tr>\n",
       "<td style=\"text-align: center; vertical-align: middle;\"> <font color=white>21:20:49</font></td>\n",
       "<td style=\"text-align: center; vertical-align: middle;\"> <font color=white>05/10/23</font></td>\n",
       "<td style=\"text-align: center; vertical-align: middle;\"> <font color=white>940.93 ms</font></td>\n",
       "<td style=\"text-align: center; vertical-align: middle;\"> <font color=white>13</font></td>\n",
       "<td style=\"text-align: center; vertical-align: middle;\"> <font color=white>OneHot</font></td>\n",
       "<td style=\"text-align: center; vertical-align: middle;\"> <font color=white>4</font></td>\n",
       "<td style=\"text-align: center; vertical-align: middle;\"> <font color=yellow>0.7533898305084745</font></td>\n",
       "</tr>\n"
      ],
      "text/plain": [
       "<IPython.core.display.HTML object>"
      ]
     },
     "metadata": {},
     "output_type": "display_data"
    }
   ],
   "source": [
    "mlq.show_logs(\"AdaBoost\", table_dest=\"../../\", last_k=6)"
   ]
  }
 ],
 "metadata": {
  "kernelspec": {
   "display_name": "base",
   "language": "python",
   "name": "python3"
  },
  "language_info": {
   "codemirror_mode": {
    "name": "ipython",
    "version": 3
   },
   "file_extension": ".py",
   "mimetype": "text/x-python",
   "name": "python",
   "nbconvert_exporter": "python",
   "pygments_lexer": "ipython3",
   "version": "3.10.4"
  },
  "orig_nbformat": 4
 },
 "nbformat": 4,
 "nbformat_minor": 2
}
