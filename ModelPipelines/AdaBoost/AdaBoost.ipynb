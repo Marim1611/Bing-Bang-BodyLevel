{
 "cells": [
  {
   "cell_type": "code",
   "execution_count": 1,
   "metadata": {},
   "outputs": [],
   "source": [
    "import sys; sys.path.append('../../')\n",
    "import numpy as np\n",
    "import pandas as pd\n",
    "from DataPreparation.DataPreparation import read_data\n",
    "from sklearn.metrics import classification_report\n",
    "from mlpath import mlquest as mlq\n",
    "from utils import load_hyperparameters, save_model, get_metrics\n",
    "from ModelAnalysis import cross_validation\n",
    "from sklearn.ensemble import AdaBoostClassifier\n",
    "model_name= 'Adaboost'\n",
    "\n",
    "mlq.start_quest(\"Adaboost\", table_dest=\"../../\", log_defs=True)"
   ]
  },
  {
   "attachments": {},
   "cell_type": "markdown",
   "metadata": {},
   "source": [
    "# <font color=\"aqua\">Adaboost</font> Model"
   ]
  },
  {
   "attachments": {},
   "cell_type": "markdown",
   "metadata": {},
   "source": [
    "### Read the data"
   ]
  },
  {
   "cell_type": "code",
   "execution_count": 2,
   "metadata": {},
   "outputs": [],
   "source": [
    "x_data_d, y_data_d = mlq.l(read_data)(kind='Numerical', select=True, standardize=False)\n",
    "x_data_d = x_data_d[['Weight', 'Height']]\n",
    "opt_params = load_hyperparameters(model_name)"
   ]
  },
  {
   "attachments": {},
   "cell_type": "markdown",
   "metadata": {},
   "source": [
    "### Initiate model"
   ]
  },
  {
   "cell_type": "code",
   "execution_count": 3,
   "metadata": {},
   "outputs": [],
   "source": [
    "clf = mlq.l(AdaBoostClassifier)(n_estimators=10000, random_state=42)"
   ]
  },
  {
   "attachments": {},
   "cell_type": "markdown",
   "metadata": {},
   "source": [
    "### Evaluate Model Bias"
   ]
  },
  {
   "cell_type": "code",
   "execution_count": 4,
   "metadata": {},
   "outputs": [
    {
     "name": "stdout",
     "output_type": "stream",
     "text": [
      "              precision    recall  f1-score   support\n",
      "\n",
      "           0      1.000     0.042     0.081       190\n",
      "           1      0.414     0.597     0.489       201\n",
      "           2      0.519     0.892     0.656       406\n",
      "           3      1.000     0.709     0.830       680\n",
      "\n",
      "    accuracy                          0.658      1477\n",
      "   macro avg      0.733     0.560     0.514      1477\n",
      "weighted avg      0.788     0.658     0.639      1477\n",
      "\n"
     ]
    }
   ],
   "source": [
    "clf.fit(x_data_d, y_data_d)\n",
    "y_pred = clf.predict(x_data_d)\n",
    "train_metrics = classification_report(y_data_d, y_pred, digits=3)\n",
    "train_acc, train_wf1 = get_metrics(train_metrics)\n",
    "print(train_metrics)"
   ]
  },
  {
   "attachments": {},
   "cell_type": "markdown",
   "metadata": {},
   "source": [
    "### Evaluate Model Generalization"
   ]
  },
  {
   "cell_type": "code",
   "execution_count": 5,
   "metadata": {},
   "outputs": [
    {
     "data": {
      "text/html": [
       "<h2 style=\"text-align:left;\">Cross-Validation Weighted F1-Score</h2><table style=\"width:50%; border-collapse: collapse; font-size: 16px; text-align:center; padding: 10px; border: 1px solid #fff;\"><tr><td style=\"border: 1px solid #fff; text-align:center; padding: 10px; color: white; border-right: 1px solid #fff;\">1-Repeated 5-fold</td></tr><tr><td style=\"border: 1px solid #fff; text-align:center; padding: 10px; color: white; opacity: 0.8; border-left: 1px solid #fff;\">0.5205</td></tr>"
      ],
      "text/plain": [
       "<IPython.core.display.HTML object>"
      ]
     },
     "metadata": {},
     "output_type": "display_data"
    }
   ],
   "source": [
    "kfold=cross_validation(clf, x_data_d, y_data_d, k=[5], n_repeats=[1], random_state=1,loo=False)\n",
    "\n",
    "val_wf1 = kfold.get(f'1-Repeated 5-fold')[0]"
   ]
  },
  {
   "attachments": {},
   "cell_type": "markdown",
   "metadata": {},
   "source": [
    "#### Save Model"
   ]
  },
  {
   "cell_type": "code",
   "execution_count": 6,
   "metadata": {},
   "outputs": [],
   "source": [
    "save_model(model_name, clf)"
   ]
  },
  {
   "attachments": {},
   "cell_type": "markdown",
   "metadata": {},
   "source": [
    "### Tracking"
   ]
  },
  {
   "cell_type": "code",
   "execution_count": 7,
   "metadata": {},
   "outputs": [
    {
     "data": {
      "text/html": [
       "<table>\n",
       "<tr>\n",
       "<th colspan=4 style=\"text-align: center; vertical-align: middle;\">info</th>\n",
       "<th colspan=4 style=\"text-align: center; vertical-align: middle;\">read_data</th>\n",
       "<th colspan=4 style=\"text-align: center; vertical-align: middle;\">AdaBoostClassifier</th>\n",
       "<th colspan=2 style=\"text-align: center; vertical-align: middle;\">metrics</th>\n",
       "</tr>\n",
       "<th style=\"text-align: center; vertical-align: middle;\">time</th>\n",
       "<th style=\"text-align: center; vertical-align: middle;\">date</th>\n",
       "<th style=\"text-align: center; vertical-align: middle;\">duration</th>\n",
       "<th style=\"text-align: center; vertical-align: middle;\">id</th>\n",
       "<th style=\"text-align: center; vertical-align: middle;\">kind</th>\n",
       "<th style=\"text-align: center; vertical-align: middle;\">select</th>\n",
       "<th style=\"text-align: center; vertical-align: middle;\">standardize</th>\n",
       "<th style=\"text-align: center; vertical-align: middle;\">split</th>\n",
       "<th style=\"text-align: center; vertical-align: middle;\">n_estimators</th>\n",
       "<th style=\"text-align: center; vertical-align: middle;\">random_state</th>\n",
       "<th style=\"text-align: center; vertical-align: middle;\">learning_rate</th>\n",
       "<th style=\"text-align: center; vertical-align: middle;\">algorithm</th>\n",
       "<th style=\"text-align: center; vertical-align: middle;\">train_wf1</th>\n",
       "<th style=\"text-align: center; vertical-align: middle;\">val_wf1</th>\n",
       "</tr>\n",
       "<tr>\n",
       "<td style=\"text-align: center; vertical-align: middle;\"> <font color=white>01:44:44</font></td>\n",
       "<td style=\"text-align: center; vertical-align: middle;\"> <font color=white>05/15/23</font></td>\n",
       "<td style=\"text-align: center; vertical-align: middle;\"> <font color=white>18.23 s</font></td>\n",
       "<td style=\"text-align: center; vertical-align: middle;\"> <font color=white>1</font></td>\n",
       "<td style=\"text-align: center; vertical-align: middle;\"> <font color=white>Numerical</font></td>\n",
       "<td style=\"text-align: center; vertical-align: middle;\"> <font color=white>True</font></td>\n",
       "<td style=\"text-align: center; vertical-align: middle;\"> <font color=white>True</font></td>\n",
       "<td style=\"text-align: center; vertical-align: middle;\"> <font color=white>all</font></td>\n",
       "<td style=\"text-align: center; vertical-align: middle;\"> <font color=white>1000</font></td>\n",
       "<td style=\"text-align: center; vertical-align: middle;\"> <font color=white>42</font></td>\n",
       "<td style=\"text-align: center; vertical-align: middle;\"> <font color=white>1.0</font></td>\n",
       "<td style=\"text-align: center; vertical-align: middle;\"> <font color=white>SAMME.R</font></td>\n",
       "<td style=\"text-align: center; vertical-align: middle;\"> <font color=white>0.639</font></td>\n",
       "<td style=\"text-align: center; vertical-align: middle;\"> <font color=white>0.5515</font></td>\n",
       "</tr>\n",
       "<tr>\n",
       "<td style=\"text-align: center; vertical-align: middle;\"> <font color=white>01:45:25</font></td>\n",
       "<td style=\"text-align: center; vertical-align: middle;\"> <font color=white>05/15/23</font></td>\n",
       "<td style=\"text-align: center; vertical-align: middle;\"> <font color=white>2.35 min</font></td>\n",
       "<td style=\"text-align: center; vertical-align: middle;\"> <font color=white>2</font></td>\n",
       "<td style=\"text-align: center; vertical-align: middle;\"> <font color=white>Numerical</font></td>\n",
       "<td style=\"text-align: center; vertical-align: middle;\"> <font color=white>True</font></td>\n",
       "<td style=\"text-align: center; vertical-align: middle;\"> <font color=white>True</font></td>\n",
       "<td style=\"text-align: center; vertical-align: middle;\"> <font color=white>all</font></td>\n",
       "<td style=\"text-align: center; vertical-align: middle;\"> <font color=yellow>10000</font></td>\n",
       "<td style=\"text-align: center; vertical-align: middle;\"> <font color=white>42</font></td>\n",
       "<td style=\"text-align: center; vertical-align: middle;\"> <font color=white>1.0</font></td>\n",
       "<td style=\"text-align: center; vertical-align: middle;\"> <font color=white>SAMME.R</font></td>\n",
       "<td style=\"text-align: center; vertical-align: middle;\"> <font color=white>0.639</font></td>\n",
       "<td style=\"text-align: center; vertical-align: middle;\"> <font color=yellow>0.5205</font></td>\n",
       "</tr>\n",
       "<tr>\n",
       "<td style=\"text-align: center; vertical-align: middle;\"> <font color=white>01:48:07</font></td>\n",
       "<td style=\"text-align: center; vertical-align: middle;\"> <font color=white>05/15/23</font></td>\n",
       "<td style=\"text-align: center; vertical-align: middle;\"> <font color=white>10.75 min</font></td>\n",
       "<td style=\"text-align: center; vertical-align: middle;\"> <font color=white>3</font></td>\n",
       "<td style=\"text-align: center; vertical-align: middle;\"> <font color=white>Numerical</font></td>\n",
       "<td style=\"text-align: center; vertical-align: middle;\"> <font color=white>True</font></td>\n",
       "<td style=\"text-align: center; vertical-align: middle;\"> <font color=white>True</font></td>\n",
       "<td style=\"text-align: center; vertical-align: middle;\"> <font color=white>all</font></td>\n",
       "<td style=\"text-align: center; vertical-align: middle;\"> <font color=yellow>100000</font></td>\n",
       "<td style=\"text-align: center; vertical-align: middle;\"> <font color=white>42</font></td>\n",
       "<td style=\"text-align: center; vertical-align: middle;\"> <font color=white>1.0</font></td>\n",
       "<td style=\"text-align: center; vertical-align: middle;\"> <font color=white>SAMME.R</font></td>\n",
       "<td style=\"text-align: center; vertical-align: middle;\"> <font color=white>0.639</font></td>\n",
       "<td style=\"text-align: center; vertical-align: middle;\"> <font color=yellow>0.5306</font></td>\n",
       "</tr>\n",
       "<tr>\n",
       "<td style=\"text-align: center; vertical-align: middle;\"> <font color=white>23:50:08</font></td>\n",
       "<td style=\"text-align: center; vertical-align: middle;\"> <font color=white>05/16/23</font></td>\n",
       "<td style=\"text-align: center; vertical-align: middle;\"> <font color=white>1.20 min</font></td>\n",
       "<td style=\"text-align: center; vertical-align: middle;\"> <font color=white>4</font></td>\n",
       "<td style=\"text-align: center; vertical-align: middle;\"> <font color=white>Numerical</font></td>\n",
       "<td style=\"text-align: center; vertical-align: middle;\"> <font color=white>True</font></td>\n",
       "<td style=\"text-align: center; vertical-align: middle;\"> <font color=yellow>False</font></td>\n",
       "<td style=\"text-align: center; vertical-align: middle;\"> <font color=white>all</font></td>\n",
       "<td style=\"text-align: center; vertical-align: middle;\"> <font color=yellow>10000</font></td>\n",
       "<td style=\"text-align: center; vertical-align: middle;\"> <font color=white>42</font></td>\n",
       "<td style=\"text-align: center; vertical-align: middle;\"> <font color=white>1.0</font></td>\n",
       "<td style=\"text-align: center; vertical-align: middle;\"> <font color=white>SAMME.R</font></td>\n",
       "<td style=\"text-align: center; vertical-align: middle;\"> <font color=white>0.639</font></td>\n",
       "<td style=\"text-align: center; vertical-align: middle;\"> <font color=yellow>0.5205</font></td>\n",
       "</tr>\n"
      ],
      "text/plain": [
       "<IPython.core.display.HTML object>"
      ]
     },
     "metadata": {},
     "output_type": "display_data"
    }
   ],
   "source": [
    "mlq.log_metrics( train_wf1, val_wf1)\n",
    "mlq.end_quest()\n",
    "mlq.show_logs(\"Adaboost\", table_dest=\"../../\", last_k=6)"
   ]
  }
 ],
 "metadata": {
  "kernelspec": {
   "display_name": "base",
   "language": "python",
   "name": "python3"
  },
  "language_info": {
   "codemirror_mode": {
    "name": "ipython",
    "version": 3
   },
   "file_extension": ".py",
   "mimetype": "text/x-python",
   "name": "python",
   "nbconvert_exporter": "python",
   "pygments_lexer": "ipython3",
   "version": "3.9.13"
  },
  "orig_nbformat": 4
 },
 "nbformat": 4,
 "nbformat_minor": 2
}
