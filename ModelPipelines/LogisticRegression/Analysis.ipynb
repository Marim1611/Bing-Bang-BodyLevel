{
 "cells": [
  {
   "cell_type": "code",
   "execution_count": 1,
   "metadata": {},
   "outputs": [],
   "source": [
    "import sys; sys.path.append('../../')\n",
    "from DataPreparation.DataPreparation import read_data\n",
    "from ModelPipelines.ModelAnalysis import recursive_feature_elimination, test_log_linearity, show_hyperparams, vc_dimension_check\n",
    "from sklearn.linear_model import LogisticRegression\n",
    "from ClassImbalanceHandle.ClassImbalanceHandle import *\n",
    "import numpy as np\n",
    "from sklearn.model_selection import cross_val_predict\n",
    "from mlpath import mlquest as mlq\n",
    "from utils import nice_table\n",
    "from IPython.display import display, HTML\n"
   ]
  },
  {
   "attachments": {},
   "cell_type": "markdown",
   "metadata": {},
   "source": [
    "### Initalize Model"
   ]
  },
  {
   "cell_type": "code",
   "execution_count": 2,
   "metadata": {},
   "outputs": [
    {
     "data": {
      "text/html": [
       "<style>#sk-container-id-1 {color: black;background-color: white;}#sk-container-id-1 pre{padding: 0;}#sk-container-id-1 div.sk-toggleable {background-color: white;}#sk-container-id-1 label.sk-toggleable__label {cursor: pointer;display: block;width: 100%;margin-bottom: 0;padding: 0.3em;box-sizing: border-box;text-align: center;}#sk-container-id-1 label.sk-toggleable__label-arrow:before {content: \"▸\";float: left;margin-right: 0.25em;color: #696969;}#sk-container-id-1 label.sk-toggleable__label-arrow:hover:before {color: black;}#sk-container-id-1 div.sk-estimator:hover label.sk-toggleable__label-arrow:before {color: black;}#sk-container-id-1 div.sk-toggleable__content {max-height: 0;max-width: 0;overflow: hidden;text-align: left;background-color: #f0f8ff;}#sk-container-id-1 div.sk-toggleable__content pre {margin: 0.2em;color: black;border-radius: 0.25em;background-color: #f0f8ff;}#sk-container-id-1 input.sk-toggleable__control:checked~div.sk-toggleable__content {max-height: 200px;max-width: 100%;overflow: auto;}#sk-container-id-1 input.sk-toggleable__control:checked~label.sk-toggleable__label-arrow:before {content: \"▾\";}#sk-container-id-1 div.sk-estimator input.sk-toggleable__control:checked~label.sk-toggleable__label {background-color: #d4ebff;}#sk-container-id-1 div.sk-label input.sk-toggleable__control:checked~label.sk-toggleable__label {background-color: #d4ebff;}#sk-container-id-1 input.sk-hidden--visually {border: 0;clip: rect(1px 1px 1px 1px);clip: rect(1px, 1px, 1px, 1px);height: 1px;margin: -1px;overflow: hidden;padding: 0;position: absolute;width: 1px;}#sk-container-id-1 div.sk-estimator {font-family: monospace;background-color: #f0f8ff;border: 1px dotted black;border-radius: 0.25em;box-sizing: border-box;margin-bottom: 0.5em;}#sk-container-id-1 div.sk-estimator:hover {background-color: #d4ebff;}#sk-container-id-1 div.sk-parallel-item::after {content: \"\";width: 100%;border-bottom: 1px solid gray;flex-grow: 1;}#sk-container-id-1 div.sk-label:hover label.sk-toggleable__label {background-color: #d4ebff;}#sk-container-id-1 div.sk-serial::before {content: \"\";position: absolute;border-left: 1px solid gray;box-sizing: border-box;top: 0;bottom: 0;left: 50%;z-index: 0;}#sk-container-id-1 div.sk-serial {display: flex;flex-direction: column;align-items: center;background-color: white;padding-right: 0.2em;padding-left: 0.2em;position: relative;}#sk-container-id-1 div.sk-item {position: relative;z-index: 1;}#sk-container-id-1 div.sk-parallel {display: flex;align-items: stretch;justify-content: center;background-color: white;position: relative;}#sk-container-id-1 div.sk-item::before, #sk-container-id-1 div.sk-parallel-item::before {content: \"\";position: absolute;border-left: 1px solid gray;box-sizing: border-box;top: 0;bottom: 0;left: 50%;z-index: -1;}#sk-container-id-1 div.sk-parallel-item {display: flex;flex-direction: column;z-index: 1;position: relative;background-color: white;}#sk-container-id-1 div.sk-parallel-item:first-child::after {align-self: flex-end;width: 50%;}#sk-container-id-1 div.sk-parallel-item:last-child::after {align-self: flex-start;width: 50%;}#sk-container-id-1 div.sk-parallel-item:only-child::after {width: 0;}#sk-container-id-1 div.sk-dashed-wrapped {border: 1px dashed gray;margin: 0 0.4em 0.5em 0.4em;box-sizing: border-box;padding-bottom: 0.4em;background-color: white;}#sk-container-id-1 div.sk-label label {font-family: monospace;font-weight: bold;display: inline-block;line-height: 1.2em;}#sk-container-id-1 div.sk-label-container {text-align: center;}#sk-container-id-1 div.sk-container {/* jupyter's `normalize.less` sets `[hidden] { display: none; }` but bootstrap.min.css set `[hidden] { display: none !important; }` so we also need the `!important` here to be able to override the default hidden behavior on the sphinx rendered scikit-learn.org. See: https://github.com/scikit-learn/scikit-learn/issues/21755 */display: inline-block !important;position: relative;}#sk-container-id-1 div.sk-text-repr-fallback {display: none;}</style><div id=\"sk-container-id-1\" class=\"sk-top-container\"><div class=\"sk-text-repr-fallback\"><pre>LogisticRegression(multi_class=&#x27;multinomial&#x27;)</pre><b>In a Jupyter environment, please rerun this cell to show the HTML representation or trust the notebook. <br />On GitHub, the HTML representation is unable to render, please try loading this page with nbviewer.org.</b></div><div class=\"sk-container\" hidden><div class=\"sk-item\"><div class=\"sk-estimator sk-toggleable\"><input class=\"sk-toggleable__control sk-hidden--visually\" id=\"sk-estimator-id-1\" type=\"checkbox\" checked><label for=\"sk-estimator-id-1\" class=\"sk-toggleable__label sk-toggleable__label-arrow\">LogisticRegression</label><div class=\"sk-toggleable__content\"><pre>LogisticRegression(multi_class=&#x27;multinomial&#x27;)</pre></div></div></div></div></div>"
      ],
      "text/plain": [
       "LogisticRegression(multi_class='multinomial')"
      ]
     },
     "execution_count": 2,
     "metadata": {},
     "output_type": "execute_result"
    }
   ],
   "source": [
    "x_data_d, y_data_d = read_data(kind='Numerical')\n",
    "clf = LogisticRegression(multi_class='multinomial')\n",
    "clf.fit(x_data_d, y_data_d)"
   ]
  },
  {
   "attachments": {},
   "cell_type": "markdown",
   "metadata": {},
   "source": [
    "### Hyperparameters"
   ]
  },
  {
   "cell_type": "code",
   "execution_count": 3,
   "metadata": {},
   "outputs": [
    {
     "data": {
      "text/html": [
       "<h2 style=\"text-align:left;\">Hyperparameters</h2><table style=\"width:50%; border-collapse: collapse; font-size: 16px; text-align:left; padding: 10px; border: 1px solid #fff;\"><tr><td style=\"border: 1px solid #fff; text-align:left; padding: 10px; color: white; border-right: 1px solid #fff;\">C</td><td style=\"border: 1px solid #fff; text-align:left; padding: 10px; color: white; opacity: 0.8; border-left: 1px solid #fff;\">1.0</td></tr><tr><td style=\"border: 1px solid #fff; text-align:left; padding: 10px; color: white; border-right: 1px solid #fff;\">class_weight</td><td style=\"border: 1px solid #fff; text-align:left; padding: 10px; color: white; opacity: 0.8; border-left: 1px solid #fff;\">None</td></tr><tr><td style=\"border: 1px solid #fff; text-align:left; padding: 10px; color: white; border-right: 1px solid #fff;\">dual</td><td style=\"border: 1px solid #fff; text-align:left; padding: 10px; color: white; opacity: 0.8; border-left: 1px solid #fff;\">False</td></tr><tr><td style=\"border: 1px solid #fff; text-align:left; padding: 10px; color: white; border-right: 1px solid #fff;\">fit_intercept</td><td style=\"border: 1px solid #fff; text-align:left; padding: 10px; color: white; opacity: 0.8; border-left: 1px solid #fff;\">True</td></tr><tr><td style=\"border: 1px solid #fff; text-align:left; padding: 10px; color: white; border-right: 1px solid #fff;\">intercept_scaling</td><td style=\"border: 1px solid #fff; text-align:left; padding: 10px; color: white; opacity: 0.8; border-left: 1px solid #fff;\">1</td></tr><tr><td style=\"border: 1px solid #fff; text-align:left; padding: 10px; color: white; border-right: 1px solid #fff;\">l1_ratio</td><td style=\"border: 1px solid #fff; text-align:left; padding: 10px; color: white; opacity: 0.8; border-left: 1px solid #fff;\">None</td></tr><tr><td style=\"border: 1px solid #fff; text-align:left; padding: 10px; color: white; border-right: 1px solid #fff;\">max_iter</td><td style=\"border: 1px solid #fff; text-align:left; padding: 10px; color: white; opacity: 0.8; border-left: 1px solid #fff;\">100</td></tr><tr><td style=\"border: 1px solid #fff; text-align:left; padding: 10px; color: white; border-right: 1px solid #fff;\">multi_class</td><td style=\"border: 1px solid #fff; text-align:left; padding: 10px; color: white; opacity: 0.8; border-left: 1px solid #fff;\">multinomial</td></tr><tr><td style=\"border: 1px solid #fff; text-align:left; padding: 10px; color: white; border-right: 1px solid #fff;\">n_jobs</td><td style=\"border: 1px solid #fff; text-align:left; padding: 10px; color: white; opacity: 0.8; border-left: 1px solid #fff;\">None</td></tr><tr><td style=\"border: 1px solid #fff; text-align:left; padding: 10px; color: white; border-right: 1px solid #fff;\">penalty</td><td style=\"border: 1px solid #fff; text-align:left; padding: 10px; color: white; opacity: 0.8; border-left: 1px solid #fff;\">l2</td></tr><tr><td style=\"border: 1px solid #fff; text-align:left; padding: 10px; color: white; border-right: 1px solid #fff;\">random_state</td><td style=\"border: 1px solid #fff; text-align:left; padding: 10px; color: white; opacity: 0.8; border-left: 1px solid #fff;\">None</td></tr><tr><td style=\"border: 1px solid #fff; text-align:left; padding: 10px; color: white; border-right: 1px solid #fff;\">solver</td><td style=\"border: 1px solid #fff; text-align:left; padding: 10px; color: white; opacity: 0.8; border-left: 1px solid #fff;\">lbfgs</td></tr><tr><td style=\"border: 1px solid #fff; text-align:left; padding: 10px; color: white; border-right: 1px solid #fff;\">tol</td><td style=\"border: 1px solid #fff; text-align:left; padding: 10px; color: white; opacity: 0.8; border-left: 1px solid #fff;\">0.0001</td></tr><tr><td style=\"border: 1px solid #fff; text-align:left; padding: 10px; color: white; border-right: 1px solid #fff;\">verbose</td><td style=\"border: 1px solid #fff; text-align:left; padding: 10px; color: white; opacity: 0.8; border-left: 1px solid #fff;\">0</td></tr><tr><td style=\"border: 1px solid #fff; text-align:left; padding: 10px; color: white; border-right: 1px solid #fff;\">warm_start</td><td style=\"border: 1px solid #fff; text-align:left; padding: 10px; color: white; opacity: 0.8; border-left: 1px solid #fff;\">False</td></tr></table>"
      ],
      "text/plain": [
       "<IPython.core.display.HTML object>"
      ]
     },
     "metadata": {},
     "output_type": "display_data"
    }
   ],
   "source": [
    "show_hyperparams(clf)"
   ]
  },
  {
   "attachments": {},
   "cell_type": "markdown",
   "metadata": {},
   "source": [
    "### VC Dimension"
   ]
  },
  {
   "cell_type": "code",
   "execution_count": 4,
   "metadata": {},
   "outputs": [
    {
     "name": "stdout",
     "output_type": "stream",
     "text": [
      "Model generalization is safe. VC Bound is satisfied where 10dvc=370 < N=1180\n"
     ]
    }
   ],
   "source": [
    "vc_dimension_check(clf, x_data_d)"
   ]
  },
  {
   "attachments": {},
   "cell_type": "markdown",
   "metadata": {},
   "source": [
    "### Recursive Feature Elimination"
   ]
  },
  {
   "cell_type": "code",
   "execution_count": 5,
   "metadata": {},
   "outputs": [
    {
     "name": "stdout",
     "output_type": "stream",
     "text": [
      "Features to keep ['Age' 'Height' 'Weight' 'Veg_Consump']\n"
     ]
    },
    {
     "ename": "ModuleNotFoundError",
     "evalue": "No module named 'matplotlib_inline'",
     "output_type": "error",
     "traceback": [
      "\u001b[1;31m---------------------------------------------------------------------------\u001b[0m",
      "\u001b[1;31mModuleNotFoundError\u001b[0m                       Traceback (most recent call last)",
      "Cell \u001b[1;32mIn[5], line 1\u001b[0m\n\u001b[1;32m----> 1\u001b[0m recursive_feature_elimination(clf, min_feats\u001b[39m=\u001b[39;49m\u001b[39m1\u001b[39;49m, cv\u001b[39m=\u001b[39;49m\u001b[39m5\u001b[39;49m, x_data_d\u001b[39m=\u001b[39;49mx_data_d, y_data_d\u001b[39m=\u001b[39;49my_data_d)\n",
      "File \u001b[1;32me:\\fourth year\\second term\\ML\\ML_Project\\ModelPipelines\\ModelAnalysis.py:23\u001b[0m, in \u001b[0;36mrecursive_feature_elimination\u001b[1;34m(clf, min_feats, cv, x_data_d, y_data_d, display)\u001b[0m\n\u001b[0;32m     21\u001b[0m plt\u001b[39m.\u001b[39mrcParams[\u001b[39m'\u001b[39m\u001b[39mfigure.dpi\u001b[39m\u001b[39m'\u001b[39m] \u001b[39m=\u001b[39m \u001b[39m300\u001b[39m\n\u001b[0;32m     22\u001b[0m plt\u001b[39m.\u001b[39mstyle\u001b[39m.\u001b[39muse(\u001b[39m'\u001b[39m\u001b[39mdark_background\u001b[39m\u001b[39m'\u001b[39m)\n\u001b[1;32m---> 23\u001b[0m plt\u001b[39m.\u001b[39;49mfigure()\n\u001b[0;32m     24\u001b[0m plt\u001b[39m.\u001b[39mxlabel(\u001b[39m\"\u001b[39m\u001b[39mNumber of features selected\u001b[39m\u001b[39m\"\u001b[39m)\n\u001b[0;32m     25\u001b[0m plt\u001b[39m.\u001b[39mylabel(\u001b[39m\"\u001b[39m\u001b[39mMean test accuracy\u001b[39m\u001b[39m\"\u001b[39m)\n",
      "File \u001b[1;32m~\\AppData\\Roaming\\Python\\Python38\\site-packages\\matplotlib\\_api\\deprecation.py:454\u001b[0m, in \u001b[0;36mmake_keyword_only.<locals>.wrapper\u001b[1;34m(*args, **kwargs)\u001b[0m\n\u001b[0;32m    448\u001b[0m \u001b[39mif\u001b[39;00m \u001b[39mlen\u001b[39m(args) \u001b[39m>\u001b[39m name_idx:\n\u001b[0;32m    449\u001b[0m     warn_deprecated(\n\u001b[0;32m    450\u001b[0m         since, message\u001b[39m=\u001b[39m\u001b[39m\"\u001b[39m\u001b[39mPassing the \u001b[39m\u001b[39m%(name)s\u001b[39;00m\u001b[39m \u001b[39m\u001b[39m%(obj_type)s\u001b[39;00m\u001b[39m \u001b[39m\u001b[39m\"\u001b[39m\n\u001b[0;32m    451\u001b[0m         \u001b[39m\"\u001b[39m\u001b[39mpositionally is deprecated since Matplotlib \u001b[39m\u001b[39m%(since)s\u001b[39;00m\u001b[39m; the \u001b[39m\u001b[39m\"\u001b[39m\n\u001b[0;32m    452\u001b[0m         \u001b[39m\"\u001b[39m\u001b[39mparameter will become keyword-only \u001b[39m\u001b[39m%(removal)s\u001b[39;00m\u001b[39m.\u001b[39m\u001b[39m\"\u001b[39m,\n\u001b[0;32m    453\u001b[0m         name\u001b[39m=\u001b[39mname, obj_type\u001b[39m=\u001b[39m\u001b[39mf\u001b[39m\u001b[39m\"\u001b[39m\u001b[39mparameter of \u001b[39m\u001b[39m{\u001b[39;00mfunc\u001b[39m.\u001b[39m\u001b[39m__name__\u001b[39m\u001b[39m}\u001b[39;00m\u001b[39m()\u001b[39m\u001b[39m\"\u001b[39m)\n\u001b[1;32m--> 454\u001b[0m \u001b[39mreturn\u001b[39;00m func(\u001b[39m*\u001b[39;49margs, \u001b[39m*\u001b[39;49m\u001b[39m*\u001b[39;49mkwargs)\n",
      "File \u001b[1;32m~\\AppData\\Roaming\\Python\\Python38\\site-packages\\matplotlib\\pyplot.py:840\u001b[0m, in \u001b[0;36mfigure\u001b[1;34m(num, figsize, dpi, facecolor, edgecolor, frameon, FigureClass, clear, **kwargs)\u001b[0m\n\u001b[0;32m    830\u001b[0m \u001b[39mif\u001b[39;00m \u001b[39mlen\u001b[39m(allnums) \u001b[39m==\u001b[39m max_open_warning \u001b[39m>\u001b[39m\u001b[39m=\u001b[39m \u001b[39m1\u001b[39m:\n\u001b[0;32m    831\u001b[0m     _api\u001b[39m.\u001b[39mwarn_external(\n\u001b[0;32m    832\u001b[0m         \u001b[39mf\u001b[39m\u001b[39m\"\u001b[39m\u001b[39mMore than \u001b[39m\u001b[39m{\u001b[39;00mmax_open_warning\u001b[39m}\u001b[39;00m\u001b[39m figures have been opened. \u001b[39m\u001b[39m\"\u001b[39m\n\u001b[0;32m    833\u001b[0m         \u001b[39mf\u001b[39m\u001b[39m\"\u001b[39m\u001b[39mFigures created through the pyplot interface \u001b[39m\u001b[39m\"\u001b[39m\n\u001b[1;32m   (...)\u001b[0m\n\u001b[0;32m    837\u001b[0m         \u001b[39mf\u001b[39m\u001b[39m\"\u001b[39m\u001b[39mConsider using `matplotlib.pyplot.close()`.\u001b[39m\u001b[39m\"\u001b[39m,\n\u001b[0;32m    838\u001b[0m         \u001b[39mRuntimeWarning\u001b[39;00m)\n\u001b[1;32m--> 840\u001b[0m manager \u001b[39m=\u001b[39m new_figure_manager(\n\u001b[0;32m    841\u001b[0m     num, figsize\u001b[39m=\u001b[39;49mfigsize, dpi\u001b[39m=\u001b[39;49mdpi,\n\u001b[0;32m    842\u001b[0m     facecolor\u001b[39m=\u001b[39;49mfacecolor, edgecolor\u001b[39m=\u001b[39;49medgecolor, frameon\u001b[39m=\u001b[39;49mframeon,\n\u001b[0;32m    843\u001b[0m     FigureClass\u001b[39m=\u001b[39;49mFigureClass, \u001b[39m*\u001b[39;49m\u001b[39m*\u001b[39;49mkwargs)\n\u001b[0;32m    844\u001b[0m fig \u001b[39m=\u001b[39m manager\u001b[39m.\u001b[39mcanvas\u001b[39m.\u001b[39mfigure\n\u001b[0;32m    845\u001b[0m \u001b[39mif\u001b[39;00m fig_label:\n",
      "File \u001b[1;32m~\\AppData\\Roaming\\Python\\Python38\\site-packages\\matplotlib\\pyplot.py:383\u001b[0m, in \u001b[0;36mnew_figure_manager\u001b[1;34m(*args, **kwargs)\u001b[0m\n\u001b[0;32m    381\u001b[0m \u001b[39mdef\u001b[39;00m \u001b[39mnew_figure_manager\u001b[39m(\u001b[39m*\u001b[39margs, \u001b[39m*\u001b[39m\u001b[39m*\u001b[39mkwargs):\n\u001b[0;32m    382\u001b[0m \u001b[39m    \u001b[39m\u001b[39m\"\"\"Create a new figure manager instance.\"\"\"\u001b[39;00m\n\u001b[1;32m--> 383\u001b[0m     _warn_if_gui_out_of_main_thread()\n\u001b[0;32m    384\u001b[0m     \u001b[39mreturn\u001b[39;00m _get_backend_mod()\u001b[39m.\u001b[39mnew_figure_manager(\u001b[39m*\u001b[39margs, \u001b[39m*\u001b[39m\u001b[39m*\u001b[39mkwargs)\n",
      "File \u001b[1;32m~\\AppData\\Roaming\\Python\\Python38\\site-packages\\matplotlib\\pyplot.py:361\u001b[0m, in \u001b[0;36m_warn_if_gui_out_of_main_thread\u001b[1;34m()\u001b[0m\n\u001b[0;32m    359\u001b[0m \u001b[39mdef\u001b[39;00m \u001b[39m_warn_if_gui_out_of_main_thread\u001b[39m():\n\u001b[0;32m    360\u001b[0m     warn \u001b[39m=\u001b[39m \u001b[39mFalse\u001b[39;00m\n\u001b[1;32m--> 361\u001b[0m     \u001b[39mif\u001b[39;00m _get_required_interactive_framework(_get_backend_mod()):\n\u001b[0;32m    362\u001b[0m         \u001b[39mif\u001b[39;00m \u001b[39mhasattr\u001b[39m(threading, \u001b[39m'\u001b[39m\u001b[39mget_native_id\u001b[39m\u001b[39m'\u001b[39m):\n\u001b[0;32m    363\u001b[0m             \u001b[39m# This compares native thread ids because even if Python-level\u001b[39;00m\n\u001b[0;32m    364\u001b[0m             \u001b[39m# Thread objects match, the underlying OS thread (which is what\u001b[39;00m\n\u001b[0;32m    365\u001b[0m             \u001b[39m# really matters) may be different on Python implementations with\u001b[39;00m\n\u001b[0;32m    366\u001b[0m             \u001b[39m# green threads.\u001b[39;00m\n\u001b[0;32m    367\u001b[0m             \u001b[39mif\u001b[39;00m threading\u001b[39m.\u001b[39mget_native_id() \u001b[39m!=\u001b[39m threading\u001b[39m.\u001b[39mmain_thread()\u001b[39m.\u001b[39mnative_id:\n",
      "File \u001b[1;32m~\\AppData\\Roaming\\Python\\Python38\\site-packages\\matplotlib\\pyplot.py:208\u001b[0m, in \u001b[0;36m_get_backend_mod\u001b[1;34m()\u001b[0m\n\u001b[0;32m    199\u001b[0m \u001b[39m\u001b[39m\u001b[39m\"\"\"\u001b[39;00m\n\u001b[0;32m    200\u001b[0m \u001b[39mEnsure that a backend is selected and return it.\u001b[39;00m\n\u001b[0;32m    201\u001b[0m \n\u001b[0;32m    202\u001b[0m \u001b[39mThis is currently private, but may be made public in the future.\u001b[39;00m\n\u001b[0;32m    203\u001b[0m \u001b[39m\"\"\"\u001b[39;00m\n\u001b[0;32m    204\u001b[0m \u001b[39mif\u001b[39;00m _backend_mod \u001b[39mis\u001b[39;00m \u001b[39mNone\u001b[39;00m:\n\u001b[0;32m    205\u001b[0m     \u001b[39m# Use rcParams._get(\"backend\") to avoid going through the fallback\u001b[39;00m\n\u001b[0;32m    206\u001b[0m     \u001b[39m# logic (which will (re)import pyplot and then call switch_backend if\u001b[39;00m\n\u001b[0;32m    207\u001b[0m     \u001b[39m# we need to resolve the auto sentinel)\u001b[39;00m\n\u001b[1;32m--> 208\u001b[0m     switch_backend(rcParams\u001b[39m.\u001b[39;49m_get(\u001b[39m\"\u001b[39;49m\u001b[39mbackend\u001b[39;49m\u001b[39m\"\u001b[39;49m))\n\u001b[0;32m    209\u001b[0m \u001b[39mreturn\u001b[39;00m _backend_mod\n",
      "File \u001b[1;32m~\\AppData\\Roaming\\Python\\Python38\\site-packages\\matplotlib\\pyplot.py:271\u001b[0m, in \u001b[0;36mswitch_backend\u001b[1;34m(newbackend)\u001b[0m\n\u001b[0;32m    268\u001b[0m \u001b[39m# have to escape the switch on access logic\u001b[39;00m\n\u001b[0;32m    269\u001b[0m old_backend \u001b[39m=\u001b[39m \u001b[39mdict\u001b[39m\u001b[39m.\u001b[39m\u001b[39m__getitem__\u001b[39m(rcParams, \u001b[39m'\u001b[39m\u001b[39mbackend\u001b[39m\u001b[39m'\u001b[39m)\n\u001b[1;32m--> 271\u001b[0m backend_mod \u001b[39m=\u001b[39m importlib\u001b[39m.\u001b[39;49mimport_module(\n\u001b[0;32m    272\u001b[0m     cbook\u001b[39m.\u001b[39;49m_backend_module_name(newbackend))\n\u001b[0;32m    274\u001b[0m required_framework \u001b[39m=\u001b[39m _get_required_interactive_framework(backend_mod)\n\u001b[0;32m    275\u001b[0m \u001b[39mif\u001b[39;00m required_framework \u001b[39mis\u001b[39;00m \u001b[39mnot\u001b[39;00m \u001b[39mNone\u001b[39;00m:\n",
      "File \u001b[1;32mc:\\Users\\dell\\AppData\\Local\\Programs\\Python\\Python38\\lib\\importlib\\__init__.py:127\u001b[0m, in \u001b[0;36mimport_module\u001b[1;34m(name, package)\u001b[0m\n\u001b[0;32m    125\u001b[0m             \u001b[39mbreak\u001b[39;00m\n\u001b[0;32m    126\u001b[0m         level \u001b[39m+\u001b[39m\u001b[39m=\u001b[39m \u001b[39m1\u001b[39m\n\u001b[1;32m--> 127\u001b[0m \u001b[39mreturn\u001b[39;00m _bootstrap\u001b[39m.\u001b[39;49m_gcd_import(name[level:], package, level)\n",
      "File \u001b[1;32m<frozen importlib._bootstrap>:1014\u001b[0m, in \u001b[0;36m_gcd_import\u001b[1;34m(name, package, level)\u001b[0m\n",
      "File \u001b[1;32m<frozen importlib._bootstrap>:991\u001b[0m, in \u001b[0;36m_find_and_load\u001b[1;34m(name, import_)\u001b[0m\n",
      "File \u001b[1;32m<frozen importlib._bootstrap>:961\u001b[0m, in \u001b[0;36m_find_and_load_unlocked\u001b[1;34m(name, import_)\u001b[0m\n",
      "File \u001b[1;32m<frozen importlib._bootstrap>:219\u001b[0m, in \u001b[0;36m_call_with_frames_removed\u001b[1;34m(f, *args, **kwds)\u001b[0m\n",
      "File \u001b[1;32m<frozen importlib._bootstrap>:1014\u001b[0m, in \u001b[0;36m_gcd_import\u001b[1;34m(name, package, level)\u001b[0m\n",
      "File \u001b[1;32m<frozen importlib._bootstrap>:991\u001b[0m, in \u001b[0;36m_find_and_load\u001b[1;34m(name, import_)\u001b[0m\n",
      "File \u001b[1;32m<frozen importlib._bootstrap>:973\u001b[0m, in \u001b[0;36m_find_and_load_unlocked\u001b[1;34m(name, import_)\u001b[0m\n",
      "\u001b[1;31mModuleNotFoundError\u001b[0m: No module named 'matplotlib_inline'"
     ]
    }
   ],
   "source": [
    "recursive_feature_elimination(clf, min_feats=1, cv=5, x_data_d=x_data_d, y_data_d=y_data_d)"
   ]
  },
  {
   "attachments": {},
   "cell_type": "markdown",
   "metadata": {},
   "source": [
    "### Test Log-Linearity"
   ]
  },
  {
   "cell_type": "code",
   "execution_count": null,
   "metadata": {},
   "outputs": [],
   "source": [
    "test_log_linearity(clf, class_index=3, x_data_d=x_data_d, y_data_d=y_data_d)"
   ]
  },
  {
   "attachments": {},
   "cell_type": "markdown",
   "metadata": {},
   "source": [
    "# Handling class imbalance"
   ]
  },
  {
   "attachments": {},
   "cell_type": "markdown",
   "metadata": {},
   "source": [
    "1- oversampling"
   ]
  },
  {
   "cell_type": "code",
   "execution_count": 26,
   "metadata": {},
   "outputs": [
    {
     "name": "stderr",
     "output_type": "stream",
     "text": [
      "c:\\Users\\dell\\AppData\\Local\\Programs\\Python\\Python38\\lib\\site-packages\\mlpath\\mlquest\\mlquest.py:115: UserWarning: Attempting to log a function when no run is active will do nothing\n",
      "  warnings.warn(\"Attempting to log a function when no run is active will do nothing\")\n",
      "c:\\Users\\dell\\AppData\\Local\\Programs\\Python\\Python38\\lib\\site-packages\\mlpath\\mlquest\\mlquest.py:115: UserWarning: Attempting to log a function when no run is active will do nothing\n",
      "  warnings.warn(\"Attempting to log a function when no run is active will do nothing\")\n",
      "c:\\Users\\dell\\AppData\\Local\\Programs\\Python\\Python38\\lib\\site-packages\\mlpath\\mlquest\\mlquest.py:115: UserWarning: Attempting to log a function when no run is active will do nothing\n",
      "  warnings.warn(\"Attempting to log a function when no run is active will do nothing\")\n",
      "c:\\Users\\dell\\AppData\\Local\\Programs\\Python\\Python38\\lib\\site-packages\\mlpath\\mlquest\\mlquest.py:115: UserWarning: Attempting to log a function when no run is active will do nothing\n",
      "  warnings.warn(\"Attempting to log a function when no run is active will do nothing\")\n",
      "c:\\Users\\dell\\AppData\\Local\\Programs\\Python\\Python38\\lib\\site-packages\\mlpath\\mlquest\\mlquest.py:115: UserWarning: Attempting to log a function when no run is active will do nothing\n",
      "  warnings.warn(\"Attempting to log a function when no run is active will do nothing\")\n"
     ]
    }
   ],
   "source": [
    "methods=['no resampling', 'SMOTE','BorderlineSMOTE','under','cost']\n",
    "accuracies = []\n",
    "for method in methods:\n",
    "    if method == \"cost\":\n",
    "        w = handle_class_imbalance(x_data_d, y_data_d, method=method,k=5)\n",
    "        clf = LogisticRegression(multi_class='multinomial', class_weight=w)\n",
    "        clf.fit(x_data_d, y_data_d)\n",
    "        y_pred = mlq.l(cross_val_predict)(clf, x_data_d, y_data_d, cv=4)\n",
    "        accuracies.append( np.mean(y_pred == y_data_d))\n",
    "    else:\n",
    "        bal_x, bal_y = handle_class_imbalance(x_data_d, y_data_d, method=method,k=5)\n",
    "        clf = LogisticRegression(multi_class='multinomial')\n",
    "        clf.fit(bal_x, bal_y)\n",
    "        y_pred = mlq.l(cross_val_predict)(clf, bal_x, bal_y, cv=4)\n",
    "        accuracies.append( np.mean(y_pred == bal_y))\n",
    "    \n"
   ]
  },
  {
   "cell_type": "code",
   "execution_count": 27,
   "metadata": {},
   "outputs": [
    {
     "data": {
      "text/html": [
       "<div>\n",
       "<style scoped>\n",
       "    .dataframe tbody tr th:only-of-type {\n",
       "        vertical-align: middle;\n",
       "    }\n",
       "\n",
       "    .dataframe tbody tr th {\n",
       "        vertical-align: top;\n",
       "    }\n",
       "\n",
       "    .dataframe thead th {\n",
       "        text-align: right;\n",
       "    }\n",
       "</style>\n",
       "<table border=\"1\" class=\"dataframe\">\n",
       "  <thead>\n",
       "    <tr style=\"text-align: right;\">\n",
       "      <th></th>\n",
       "      <th>Method</th>\n",
       "      <th>Accuracy</th>\n",
       "    </tr>\n",
       "  </thead>\n",
       "  <tbody>\n",
       "    <tr>\n",
       "      <th>0</th>\n",
       "      <td>no resampling</td>\n",
       "      <td>0.933051</td>\n",
       "    </tr>\n",
       "    <tr>\n",
       "      <th>1</th>\n",
       "      <td>SMOTE</td>\n",
       "      <td>0.961857</td>\n",
       "    </tr>\n",
       "    <tr>\n",
       "      <th>2</th>\n",
       "      <td>BorderlineSMOTE</td>\n",
       "      <td>0.965074</td>\n",
       "    </tr>\n",
       "    <tr>\n",
       "      <th>3</th>\n",
       "      <td>under</td>\n",
       "      <td>0.914474</td>\n",
       "    </tr>\n",
       "    <tr>\n",
       "      <th>4</th>\n",
       "      <td>cost</td>\n",
       "      <td>0.668644</td>\n",
       "    </tr>\n",
       "  </tbody>\n",
       "</table>\n",
       "</div>"
      ],
      "text/plain": [
       "            Method  Accuracy\n",
       "0    no resampling  0.933051\n",
       "1            SMOTE  0.961857\n",
       "2  BorderlineSMOTE  0.965074\n",
       "3            under  0.914474\n",
       "4             cost  0.668644"
      ]
     },
     "metadata": {},
     "output_type": "display_data"
    }
   ],
   "source": [
    "show_results(accuracies, methods,title=\"Resampling\")"
   ]
  },
  {
   "attachments": {},
   "cell_type": "markdown",
   "metadata": {},
   "source": [
    "2-SMOTE with const k and multiple sample strategy"
   ]
  },
  {
   "cell_type": "code",
   "execution_count": 8,
   "metadata": {},
   "outputs": [
    {
     "name": "stderr",
     "output_type": "stream",
     "text": [
      "c:\\Users\\dell\\AppData\\Local\\Programs\\Python\\Python38\\lib\\site-packages\\mlpath\\mlquest\\mlquest.py:115: UserWarning: Attempting to log a function when no run is active will do nothing\n",
      "  warnings.warn(\"Attempting to log a function when no run is active will do nothing\")\n",
      "c:\\Users\\dell\\AppData\\Local\\Programs\\Python\\Python38\\lib\\site-packages\\mlpath\\mlquest\\mlquest.py:115: UserWarning: Attempting to log a function when no run is active will do nothing\n",
      "  warnings.warn(\"Attempting to log a function when no run is active will do nothing\")\n",
      "c:\\Users\\dell\\AppData\\Local\\Programs\\Python\\Python38\\lib\\site-packages\\mlpath\\mlquest\\mlquest.py:115: UserWarning: Attempting to log a function when no run is active will do nothing\n",
      "  warnings.warn(\"Attempting to log a function when no run is active will do nothing\")\n",
      "c:\\Users\\dell\\AppData\\Local\\Programs\\Python\\Python38\\lib\\site-packages\\mlpath\\mlquest\\mlquest.py:115: UserWarning: Attempting to log a function when no run is active will do nothing\n",
      "  warnings.warn(\"Attempting to log a function when no run is active will do nothing\")\n"
     ]
    }
   ],
   "source": [
    "methods=['SMOTE','SMOTE','SMOTE','SMOTE']\n",
    "sampling_ratios=[[1,1,1],[0.5,0.6,0.9] , [0.4,0.5,.8] , [0.7,0.8,1]]\n",
    "accuracies = []\n",
    "for i,r in enumerate(sampling_ratios):\n",
    "    bal_x, bal_y = handle_class_imbalance(x_data_d, y_data_d, method=\"SMOTE\",k=5, sampling_ratio=sampling_ratios[i])\n",
    "    clf = LogisticRegression(multi_class='multinomial')\n",
    "    clf.fit(bal_x, bal_y)\n",
    "    y_pred = mlq.l(cross_val_predict)(clf, bal_x, bal_y, cv=4)\n",
    "    accuracies.append( np.mean(y_pred == bal_y))"
   ]
  },
  {
   "cell_type": "code",
   "execution_count": 9,
   "metadata": {},
   "outputs": [
    {
     "data": {
      "text/html": [
       "<div>\n",
       "<style scoped>\n",
       "    .dataframe tbody tr th:only-of-type {\n",
       "        vertical-align: middle;\n",
       "    }\n",
       "\n",
       "    .dataframe tbody tr th {\n",
       "        vertical-align: top;\n",
       "    }\n",
       "\n",
       "    .dataframe thead th {\n",
       "        text-align: right;\n",
       "    }\n",
       "</style>\n",
       "<table border=\"1\" class=\"dataframe\">\n",
       "  <thead>\n",
       "    <tr style=\"text-align: right;\">\n",
       "      <th></th>\n",
       "      <th>Method</th>\n",
       "      <th>Sampling Ratio</th>\n",
       "      <th>Accuracy</th>\n",
       "    </tr>\n",
       "  </thead>\n",
       "  <tbody>\n",
       "    <tr>\n",
       "      <th>0</th>\n",
       "      <td>SMOTE</td>\n",
       "      <td>[1, 1, 1]</td>\n",
       "      <td>0.962316</td>\n",
       "    </tr>\n",
       "    <tr>\n",
       "      <th>1</th>\n",
       "      <td>SMOTE</td>\n",
       "      <td>[0.5, 0.6, 0.9]</td>\n",
       "      <td>0.950950</td>\n",
       "    </tr>\n",
       "    <tr>\n",
       "      <th>2</th>\n",
       "      <td>SMOTE</td>\n",
       "      <td>[0.4, 0.5, 0.8]</td>\n",
       "      <td>0.950272</td>\n",
       "    </tr>\n",
       "    <tr>\n",
       "      <th>3</th>\n",
       "      <td>SMOTE</td>\n",
       "      <td>[0.7, 0.8, 1]</td>\n",
       "      <td>0.960589</td>\n",
       "    </tr>\n",
       "  </tbody>\n",
       "</table>\n",
       "</div>"
      ],
      "text/plain": [
       "  Method   Sampling Ratio  Accuracy\n",
       "0  SMOTE        [1, 1, 1]  0.962316\n",
       "1  SMOTE  [0.5, 0.6, 0.9]  0.950950\n",
       "2  SMOTE  [0.4, 0.5, 0.8]  0.950272\n",
       "3  SMOTE    [0.7, 0.8, 1]  0.960589"
      ]
     },
     "metadata": {},
     "output_type": "display_data"
    }
   ],
   "source": [
    "show_results(accuracies, methods, sample_ratio= sampling_ratios, title=\"SMOTE, k=5\")"
   ]
  },
  {
   "attachments": {},
   "cell_type": "markdown",
   "metadata": {},
   "source": [
    "2-SMOTE with const sample strategy and multiple values of k"
   ]
  },
  {
   "cell_type": "code",
   "execution_count": 20,
   "metadata": {},
   "outputs": [
    {
     "name": "stderr",
     "output_type": "stream",
     "text": [
      "c:\\Users\\dell\\AppData\\Local\\Programs\\Python\\Python38\\lib\\site-packages\\mlpath\\mlquest\\mlquest.py:115: UserWarning: Attempting to log a function when no run is active will do nothing\n",
      "  warnings.warn(\"Attempting to log a function when no run is active will do nothing\")\n",
      "c:\\Users\\dell\\AppData\\Local\\Programs\\Python\\Python38\\lib\\site-packages\\mlpath\\mlquest\\mlquest.py:115: UserWarning: Attempting to log a function when no run is active will do nothing\n",
      "  warnings.warn(\"Attempting to log a function when no run is active will do nothing\")\n",
      "c:\\Users\\dell\\AppData\\Local\\Programs\\Python\\Python38\\lib\\site-packages\\mlpath\\mlquest\\mlquest.py:115: UserWarning: Attempting to log a function when no run is active will do nothing\n",
      "  warnings.warn(\"Attempting to log a function when no run is active will do nothing\")\n",
      "c:\\Users\\dell\\AppData\\Local\\Programs\\Python\\Python38\\lib\\site-packages\\mlpath\\mlquest\\mlquest.py:115: UserWarning: Attempting to log a function when no run is active will do nothing\n",
      "  warnings.warn(\"Attempting to log a function when no run is active will do nothing\")\n"
     ]
    }
   ],
   "source": [
    "Ks=[5,15,25,70]\n",
    "sampling_ratio=[0.5,0.6,0.9]\n",
    "accuracies = []\n",
    "for i,k in enumerate(Ks):\n",
    "    bal_x, bal_y = handle_class_imbalance(x_data_d, y_data_d, method=\"SMOTE\",k=k, sampling_ratio=sampling_ratio)\n",
    "    clf = LogisticRegression(multi_class='multinomial')\n",
    "    clf.fit(bal_x, bal_y)\n",
    "    y_pred = mlq.l(cross_val_predict)(clf, bal_x, bal_y, cv=4)\n",
    "    accuracies.append( np.mean(y_pred == bal_y))"
   ]
  },
  {
   "cell_type": "code",
   "execution_count": 21,
   "metadata": {},
   "outputs": [
    {
     "data": {
      "text/html": [
       "<div>\n",
       "<style scoped>\n",
       "    .dataframe tbody tr th:only-of-type {\n",
       "        vertical-align: middle;\n",
       "    }\n",
       "\n",
       "    .dataframe tbody tr th {\n",
       "        vertical-align: top;\n",
       "    }\n",
       "\n",
       "    .dataframe thead th {\n",
       "        text-align: right;\n",
       "    }\n",
       "</style>\n",
       "<table border=\"1\" class=\"dataframe\">\n",
       "  <thead>\n",
       "    <tr style=\"text-align: right;\">\n",
       "      <th></th>\n",
       "      <th>Method</th>\n",
       "      <th>K</th>\n",
       "      <th>Accuracy</th>\n",
       "    </tr>\n",
       "  </thead>\n",
       "  <tbody>\n",
       "    <tr>\n",
       "      <th>0</th>\n",
       "      <td>BorderlineSMOTE</td>\n",
       "      <td>5</td>\n",
       "      <td>0.954016</td>\n",
       "    </tr>\n",
       "    <tr>\n",
       "      <th>1</th>\n",
       "      <td>BorderlineSMOTE</td>\n",
       "      <td>15</td>\n",
       "      <td>0.958308</td>\n",
       "    </tr>\n",
       "    <tr>\n",
       "      <th>2</th>\n",
       "      <td>BorderlineSMOTE</td>\n",
       "      <td>25</td>\n",
       "      <td>0.955855</td>\n",
       "    </tr>\n",
       "    <tr>\n",
       "      <th>3</th>\n",
       "      <td>BorderlineSMOTE</td>\n",
       "      <td>70</td>\n",
       "      <td>0.952177</td>\n",
       "    </tr>\n",
       "  </tbody>\n",
       "</table>\n",
       "</div>"
      ],
      "text/plain": [
       "            Method   K  Accuracy\n",
       "0  BorderlineSMOTE   5  0.954016\n",
       "1  BorderlineSMOTE  15  0.958308\n",
       "2  BorderlineSMOTE  25  0.955855\n",
       "3  BorderlineSMOTE  70  0.952177"
      ]
     },
     "metadata": {},
     "output_type": "display_data"
    }
   ],
   "source": [
    "show_results(accuracies, methods,k=Ks, title=\"SMOTE, k=5\")"
   ]
  },
  {
   "attachments": {},
   "cell_type": "markdown",
   "metadata": {},
   "source": [
    "4- BorderlineSMOTE with const k and multiple sample strategy"
   ]
  },
  {
   "cell_type": "code",
   "execution_count": 22,
   "metadata": {},
   "outputs": [
    {
     "name": "stderr",
     "output_type": "stream",
     "text": [
      "c:\\Users\\dell\\AppData\\Local\\Programs\\Python\\Python38\\lib\\site-packages\\mlpath\\mlquest\\mlquest.py:115: UserWarning: Attempting to log a function when no run is active will do nothing\n",
      "  warnings.warn(\"Attempting to log a function when no run is active will do nothing\")\n",
      "c:\\Users\\dell\\AppData\\Local\\Programs\\Python\\Python38\\lib\\site-packages\\mlpath\\mlquest\\mlquest.py:115: UserWarning: Attempting to log a function when no run is active will do nothing\n",
      "  warnings.warn(\"Attempting to log a function when no run is active will do nothing\")\n",
      "c:\\Users\\dell\\AppData\\Local\\Programs\\Python\\Python38\\lib\\site-packages\\mlpath\\mlquest\\mlquest.py:115: UserWarning: Attempting to log a function when no run is active will do nothing\n",
      "  warnings.warn(\"Attempting to log a function when no run is active will do nothing\")\n",
      "c:\\Users\\dell\\AppData\\Local\\Programs\\Python\\Python38\\lib\\site-packages\\mlpath\\mlquest\\mlquest.py:115: UserWarning: Attempting to log a function when no run is active will do nothing\n",
      "  warnings.warn(\"Attempting to log a function when no run is active will do nothing\")\n"
     ]
    }
   ],
   "source": [
    "methods=['BorderlineSMOTE','BorderlineSMOTE','BorderlineSMOTE','BorderlineSMOTE']\n",
    "sampling_ratios=[[1,1,1],[0.5,0.6,0.9] , [0.4,0.5,.8] , [0.7,0.8,1]]\n",
    "accuracies = []\n",
    "for i,r in enumerate(sampling_ratios):\n",
    "    bal_x, bal_y = handle_class_imbalance(x_data_d, y_data_d, method=\"BorderlineSMOTE\",k=5, sampling_ratio=sampling_ratios[i])\n",
    "    clf = LogisticRegression(multi_class='multinomial')\n",
    "    clf.fit(bal_x, bal_y)\n",
    "    y_pred = mlq.l(cross_val_predict)(clf, bal_x, bal_y, cv=4)\n",
    "    accuracies.append( np.mean(y_pred == bal_y))"
   ]
  },
  {
   "cell_type": "code",
   "execution_count": 23,
   "metadata": {},
   "outputs": [
    {
     "data": {
      "text/html": [
       "<div>\n",
       "<style scoped>\n",
       "    .dataframe tbody tr th:only-of-type {\n",
       "        vertical-align: middle;\n",
       "    }\n",
       "\n",
       "    .dataframe tbody tr th {\n",
       "        vertical-align: top;\n",
       "    }\n",
       "\n",
       "    .dataframe thead th {\n",
       "        text-align: right;\n",
       "    }\n",
       "</style>\n",
       "<table border=\"1\" class=\"dataframe\">\n",
       "  <thead>\n",
       "    <tr style=\"text-align: right;\">\n",
       "      <th></th>\n",
       "      <th>Method</th>\n",
       "      <th>Sampling Ratio</th>\n",
       "      <th>Accuracy</th>\n",
       "    </tr>\n",
       "  </thead>\n",
       "  <tbody>\n",
       "    <tr>\n",
       "      <th>0</th>\n",
       "      <td>BorderlineSMOTE</td>\n",
       "      <td>[1, 1, 1]</td>\n",
       "      <td>0.966912</td>\n",
       "    </tr>\n",
       "    <tr>\n",
       "      <th>1</th>\n",
       "      <td>BorderlineSMOTE</td>\n",
       "      <td>[0.5, 0.6, 0.9]</td>\n",
       "      <td>0.952790</td>\n",
       "    </tr>\n",
       "    <tr>\n",
       "      <th>2</th>\n",
       "      <td>BorderlineSMOTE</td>\n",
       "      <td>[0.4, 0.5, 0.8]</td>\n",
       "      <td>0.948229</td>\n",
       "    </tr>\n",
       "    <tr>\n",
       "      <th>3</th>\n",
       "      <td>BorderlineSMOTE</td>\n",
       "      <td>[0.7, 0.8, 1]</td>\n",
       "      <td>0.962690</td>\n",
       "    </tr>\n",
       "  </tbody>\n",
       "</table>\n",
       "</div>"
      ],
      "text/plain": [
       "            Method   Sampling Ratio  Accuracy\n",
       "0  BorderlineSMOTE        [1, 1, 1]  0.966912\n",
       "1  BorderlineSMOTE  [0.5, 0.6, 0.9]  0.952790\n",
       "2  BorderlineSMOTE  [0.4, 0.5, 0.8]  0.948229\n",
       "3  BorderlineSMOTE    [0.7, 0.8, 1]  0.962690"
      ]
     },
     "metadata": {},
     "output_type": "display_data"
    }
   ],
   "source": [
    "show_results(accuracies, methods, sample_ratio= sampling_ratios, title=\"BorderlineSMOTE, k=5\")"
   ]
  },
  {
   "attachments": {},
   "cell_type": "markdown",
   "metadata": {},
   "source": [
    "5- BorderlineSMOTE with const sample strategy and multiple k values"
   ]
  },
  {
   "cell_type": "code",
   "execution_count": 24,
   "metadata": {},
   "outputs": [
    {
     "name": "stderr",
     "output_type": "stream",
     "text": [
      "c:\\Users\\dell\\AppData\\Local\\Programs\\Python\\Python38\\lib\\site-packages\\mlpath\\mlquest\\mlquest.py:115: UserWarning: Attempting to log a function when no run is active will do nothing\n",
      "  warnings.warn(\"Attempting to log a function when no run is active will do nothing\")\n",
      "c:\\Users\\dell\\AppData\\Local\\Programs\\Python\\Python38\\lib\\site-packages\\mlpath\\mlquest\\mlquest.py:115: UserWarning: Attempting to log a function when no run is active will do nothing\n",
      "  warnings.warn(\"Attempting to log a function when no run is active will do nothing\")\n",
      "c:\\Users\\dell\\AppData\\Local\\Programs\\Python\\Python38\\lib\\site-packages\\mlpath\\mlquest\\mlquest.py:115: UserWarning: Attempting to log a function when no run is active will do nothing\n",
      "  warnings.warn(\"Attempting to log a function when no run is active will do nothing\")\n",
      "c:\\Users\\dell\\AppData\\Local\\Programs\\Python\\Python38\\lib\\site-packages\\mlpath\\mlquest\\mlquest.py:115: UserWarning: Attempting to log a function when no run is active will do nothing\n",
      "  warnings.warn(\"Attempting to log a function when no run is active will do nothing\")\n"
     ]
    }
   ],
   "source": [
    "Ks=[5,15,25,50]\n",
    "sampling_ratio=[0.5,0.6,0.9]\n",
    "accuracies = []\n",
    "for i,k in enumerate(Ks):\n",
    "    bal_x, bal_y = handle_class_imbalance(x_data_d, y_data_d, method=\"BorderlineSMOTE\",k=k, sampling_ratio=sampling_ratio)\n",
    "    clf = LogisticRegression(multi_class='multinomial')\n",
    "    clf.fit(bal_x, bal_y)\n",
    "    y_pred = mlq.l(cross_val_predict)(clf, bal_x, bal_y, cv=4)\n",
    "    accuracies.append( np.mean(y_pred == bal_y))"
   ]
  },
  {
   "cell_type": "code",
   "execution_count": 25,
   "metadata": {},
   "outputs": [
    {
     "data": {
      "text/html": [
       "<div>\n",
       "<style scoped>\n",
       "    .dataframe tbody tr th:only-of-type {\n",
       "        vertical-align: middle;\n",
       "    }\n",
       "\n",
       "    .dataframe tbody tr th {\n",
       "        vertical-align: top;\n",
       "    }\n",
       "\n",
       "    .dataframe thead th {\n",
       "        text-align: right;\n",
       "    }\n",
       "</style>\n",
       "<table border=\"1\" class=\"dataframe\">\n",
       "  <thead>\n",
       "    <tr style=\"text-align: right;\">\n",
       "      <th></th>\n",
       "      <th>Method</th>\n",
       "      <th>K</th>\n",
       "      <th>Accuracy</th>\n",
       "    </tr>\n",
       "  </thead>\n",
       "  <tbody>\n",
       "    <tr>\n",
       "      <th>0</th>\n",
       "      <td>BorderlineSMOTE</td>\n",
       "      <td>5</td>\n",
       "      <td>0.953403</td>\n",
       "    </tr>\n",
       "    <tr>\n",
       "      <th>1</th>\n",
       "      <td>BorderlineSMOTE</td>\n",
       "      <td>15</td>\n",
       "      <td>0.951563</td>\n",
       "    </tr>\n",
       "    <tr>\n",
       "      <th>2</th>\n",
       "      <td>BorderlineSMOTE</td>\n",
       "      <td>25</td>\n",
       "      <td>0.952177</td>\n",
       "    </tr>\n",
       "    <tr>\n",
       "      <th>3</th>\n",
       "      <td>BorderlineSMOTE</td>\n",
       "      <td>50</td>\n",
       "      <td>0.952790</td>\n",
       "    </tr>\n",
       "  </tbody>\n",
       "</table>\n",
       "</div>"
      ],
      "text/plain": [
       "            Method   K  Accuracy\n",
       "0  BorderlineSMOTE   5  0.953403\n",
       "1  BorderlineSMOTE  15  0.951563\n",
       "2  BorderlineSMOTE  25  0.952177\n",
       "3  BorderlineSMOTE  50  0.952790"
      ]
     },
     "metadata": {},
     "output_type": "display_data"
    }
   ],
   "source": [
    "show_results(accuracies, methods,k=Ks, title=\"SMOTE, k=5\")"
   ]
  }
 ],
 "metadata": {
  "kernelspec": {
   "display_name": "base",
   "language": "python",
   "name": "python3"
  },
  "language_info": {
   "codemirror_mode": {
    "name": "ipython",
    "version": 3
   },
   "file_extension": ".py",
   "mimetype": "text/x-python",
   "name": "python",
   "nbconvert_exporter": "python",
   "pygments_lexer": "ipython3",
   "version": "3.8.5"
  },
  "orig_nbformat": 4
 },
 "nbformat": 4,
 "nbformat_minor": 2
}
