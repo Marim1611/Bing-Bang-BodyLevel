{
 "cells": [
  {
   "cell_type": "code",
   "execution_count": 119,
   "metadata": {},
   "outputs": [
    {
     "name": "stderr",
     "output_type": "stream",
     "text": [
      "/opt/anaconda3/envs/arm/lib/python3.9/site-packages/mlpath/mlquest/mlquest.py:66: UserWarning: Attempting to start a run while another one is active may cause data overwrite\n",
      "  if mlquest.active == True: warnings.warn(\"Attempting to start a run while another one is active may cause data overwrite\")\n"
     ]
    }
   ],
   "source": [
    "import sys; sys.path.append('../../')\n",
    "import numpy as np\n",
    "from DataPreparation.DataPreparation import read_data\n",
    "\n",
    "from sklearn.linear_model import LogisticRegression\n",
    "from sklearn.metrics import classification_report\n",
    "from sklearn.model_selection import cross_val_predict\n",
    "from mlpath import mlquest as mlq\n",
    "\n",
    "mlq.start_quest(\"LogisticRegression\", table_dest=\"../../\", log_defs=False)"
   ]
  },
  {
   "attachments": {},
   "cell_type": "markdown",
   "metadata": {},
   "source": [
    "### Read the data"
   ]
  },
  {
   "cell_type": "code",
   "execution_count": 120,
   "metadata": {},
   "outputs": [],
   "source": [
    "x_data_d, y_data_d = mlq.l(read_data)(kind='Numerical')"
   ]
  },
  {
   "attachments": {},
   "cell_type": "markdown",
   "metadata": {},
   "source": [
    "### Initiate model"
   ]
  },
  {
   "cell_type": "code",
   "execution_count": 123,
   "metadata": {},
   "outputs": [],
   "source": [
    "clf = mlq.l(LogisticRegression)(multi_class='multinomial')"
   ]
  },
  {
   "attachments": {},
   "cell_type": "markdown",
   "metadata": {},
   "source": [
    "### Train and Evaluate"
   ]
  },
  {
   "cell_type": "code",
   "execution_count": 31,
   "metadata": {},
   "outputs": [
    {
     "name": "stdout",
     "output_type": "stream",
     "text": [
      "              precision    recall  f1-score   support\n",
      "\n",
      "           0       0.27      0.22      0.25       152\n",
      "           1       0.13      0.03      0.05       160\n",
      "           2       0.36      0.01      0.02       324\n",
      "           3       0.52      0.96      0.67       544\n",
      "\n",
      "    accuracy                           0.48      1180\n",
      "   macro avg       0.32      0.31      0.25      1180\n",
      "weighted avg       0.39      0.48      0.36      1180\n",
      "\n"
     ]
    }
   ],
   "source": [
    "y_pred = mlq.l(cross_val_predict)(clf, x_data_d, y_data_d, cv=4)\n",
    "accuracy = np.mean(y_pred == y_data_d)\n",
    "mlq.log_metrics(accuracy=accuracy.item())\n",
    "print(classification_report(y_data_d, y_pred))\n",
    "mlq.end_quest()"
   ]
  },
  {
   "attachments": {},
   "cell_type": "markdown",
   "metadata": {},
   "source": [
    "### Tracking"
   ]
  },
  {
   "cell_type": "code",
   "execution_count": 15,
   "metadata": {},
   "outputs": [
    {
     "data": {
      "text/html": [
       "<table>\n",
       "<tr>\n",
       "<th colspan=4 style=\"text-align: center; vertical-align: middle;\">info</th>\n",
       "<th colspan=1 style=\"text-align: center; vertical-align: middle;\">read_data</th>\n",
       "<th colspan=1 style=\"text-align: center; vertical-align: middle;\">LogisticRegression</th>\n",
       "<th colspan=2 style=\"text-align: center; vertical-align: middle;\">cross_val_predict</th>\n",
       "<th colspan=1 style=\"text-align: center; vertical-align: middle;\">metrics</th>\n",
       "</tr>\n",
       "<th style=\"text-align: center; vertical-align: middle;\">time</th>\n",
       "<th style=\"text-align: center; vertical-align: middle;\">date</th>\n",
       "<th style=\"text-align: center; vertical-align: middle;\">duration</th>\n",
       "<th style=\"text-align: center; vertical-align: middle;\">id</th>\n",
       "<th style=\"text-align: center; vertical-align: middle;\">kind</th>\n",
       "<th style=\"text-align: center; vertical-align: middle;\">multi_class</th>\n",
       "<th style=\"text-align: center; vertical-align: middle;\">estimator</th>\n",
       "<th style=\"text-align: center; vertical-align: middle;\">cv</th>\n",
       "<th style=\"text-align: center; vertical-align: middle;\">accuracy</th>\n",
       "</tr>\n",
       "<tr>\n",
       "<td style=\"text-align: center; vertical-align: middle;\"> <font color=white>19:10:18</font></td>\n",
       "<td style=\"text-align: center; vertical-align: middle;\"> <font color=white>04/15/23</font></td>\n",
       "<td style=\"text-align: center; vertical-align: middle;\"> <font color=white>19.34 s</font></td>\n",
       "<td style=\"text-align: center; vertical-align: middle;\"> <font color=white>5</font></td>\n",
       "<td style=\"text-align: center; vertical-align: middle;\"> <font color=yellow>Numerical</font></td>\n",
       "<td style=\"text-align: center; vertical-align: middle;\"> <font color=white>ovr</font></td>\n",
       "<td style=\"text-align: center; vertical-align: middle;\"> <font color=white>LogisticRegression(multi_class='ovr')</font></td>\n",
       "<td style=\"text-align: center; vertical-align: middle;\"> <font color=white>4</font></td>\n",
       "<td style=\"text-align: center; vertical-align: middle;\"> <font color=yellow>0.861864406779661</font></td>\n",
       "</tr>\n",
       "<tr>\n",
       "<td style=\"text-align: center; vertical-align: middle;\"> <font color=white>19:12:15</font></td>\n",
       "<td style=\"text-align: center; vertical-align: middle;\"> <font color=white>04/15/23</font></td>\n",
       "<td style=\"text-align: center; vertical-align: middle;\"> <font color=white>312.87 ms</font></td>\n",
       "<td style=\"text-align: center; vertical-align: middle;\"> <font color=white>6</font></td>\n",
       "<td style=\"text-align: center; vertical-align: middle;\"> <font color=yellow></font></td>\n",
       "<td style=\"text-align: center; vertical-align: middle;\"> <font color=white>ovr</font></td>\n",
       "<td style=\"text-align: center; vertical-align: middle;\"> <font color=white>LogisticRegression(multi_class='ovr')</font></td>\n",
       "<td style=\"text-align: center; vertical-align: middle;\"> <font color=white>4</font></td>\n",
       "<td style=\"text-align: center; vertical-align: middle;\"> <font color=yellow>0.8686440677966102</font></td>\n",
       "</tr>\n",
       "<tr>\n",
       "<td style=\"text-align: center; vertical-align: middle;\"> <font color=white>19:20:53</font></td>\n",
       "<td style=\"text-align: center; vertical-align: middle;\"> <font color=white>04/15/23</font></td>\n",
       "<td style=\"text-align: center; vertical-align: middle;\"> <font color=white>18.13 s</font></td>\n",
       "<td style=\"text-align: center; vertical-align: middle;\"> <font color=white>7</font></td>\n",
       "<td style=\"text-align: center; vertical-align: middle;\"> <font color=yellow>Numerical</font></td>\n",
       "<td style=\"text-align: center; vertical-align: middle;\"> <font color=white>ovr</font></td>\n",
       "<td style=\"text-align: center; vertical-align: middle;\"> <font color=white>LogisticRegression(multi_class='ovr')</font></td>\n",
       "<td style=\"text-align: center; vertical-align: middle;\"> <font color=white>4</font></td>\n",
       "<td style=\"text-align: center; vertical-align: middle;\"> <font color=yellow>0.861864406779661</font></td>\n",
       "</tr>\n",
       "<tr>\n",
       "<td style=\"text-align: center; vertical-align: middle;\"> <font color=white>19:35:21</font></td>\n",
       "<td style=\"text-align: center; vertical-align: middle;\"> <font color=white>04/15/23</font></td>\n",
       "<td style=\"text-align: center; vertical-align: middle;\"> <font color=white>348.04 ms</font></td>\n",
       "<td style=\"text-align: center; vertical-align: middle;\"> <font color=white>13</font></td>\n",
       "<td style=\"text-align: center; vertical-align: middle;\"> <font color=white>Numerical</font></td>\n",
       "<td style=\"text-align: center; vertical-align: middle;\"> <font color=yellow>multinomial</font></td>\n",
       "<td style=\"text-align: center; vertical-align: middle;\"> <font color=yellow>LogisticRegression(multi_class='multinomial')</font></td>\n",
       "<td style=\"text-align: center; vertical-align: middle;\"> <font color=white>4</font></td>\n",
       "<td style=\"text-align: center; vertical-align: middle;\"> <font color=yellow>0.9330508474576271</font></td>\n",
       "</tr>\n",
       "<tr>\n",
       "<td style=\"text-align: center; vertical-align: middle;\"> <font color=white>20:23:27</font></td>\n",
       "<td style=\"text-align: center; vertical-align: middle;\"> <font color=white>04/15/23</font></td>\n",
       "<td style=\"text-align: center; vertical-align: middle;\"> <font color=white>287.96 ms</font></td>\n",
       "<td style=\"text-align: center; vertical-align: middle;\"> <font color=white>15</font></td>\n",
       "<td style=\"text-align: center; vertical-align: middle;\"> <font color=white>Numerical</font></td>\n",
       "<td style=\"text-align: center; vertical-align: middle;\"> <font color=yellow>ovr</font></td>\n",
       "<td style=\"text-align: center; vertical-align: middle;\"> <font color=yellow>LogisticRegression(multi_class='ovr')</font></td>\n",
       "<td style=\"text-align: center; vertical-align: middle;\"> <font color=white>4</font></td>\n",
       "<td style=\"text-align: center; vertical-align: middle;\"> <font color=yellow>0.861864406779661</font></td>\n",
       "</tr>\n",
       "<tr>\n",
       "<td style=\"text-align: center; vertical-align: middle;\"> <font color=white>20:23:51</font></td>\n",
       "<td style=\"text-align: center; vertical-align: middle;\"> <font color=white>04/15/23</font></td>\n",
       "<td style=\"text-align: center; vertical-align: middle;\"> <font color=white>300.73 ms</font></td>\n",
       "<td style=\"text-align: center; vertical-align: middle;\"> <font color=white>16</font></td>\n",
       "<td style=\"text-align: center; vertical-align: middle;\"> <font color=white>Numerical</font></td>\n",
       "<td style=\"text-align: center; vertical-align: middle;\"> <font color=yellow>multinomial</font></td>\n",
       "<td style=\"text-align: center; vertical-align: middle;\"> <font color=yellow>LogisticRegression(multi_class='multinomial')</font></td>\n",
       "<td style=\"text-align: center; vertical-align: middle;\"> <font color=white>4</font></td>\n",
       "<td style=\"text-align: center; vertical-align: middle;\"> <font color=yellow>0.9330508474576271</font></td>\n",
       "</tr>\n"
      ],
      "text/plain": [
       "<IPython.core.display.HTML object>"
      ]
     },
     "metadata": {},
     "output_type": "display_data"
    }
   ],
   "source": [
    "mlq.show_logs(\"LogisticRegression\", table_dest=\"../../\", last_k=6)"
   ]
  }
 ],
 "metadata": {
  "kernelspec": {
   "display_name": "base",
   "language": "python",
   "name": "python3"
  },
  "language_info": {
   "codemirror_mode": {
    "name": "ipython",
    "version": 3
   },
   "file_extension": ".py",
   "mimetype": "text/x-python",
   "name": "python",
   "nbconvert_exporter": "python",
   "pygments_lexer": "ipython3",
   "version": "3.9.13"
  },
  "orig_nbformat": 4
 },
 "nbformat": 4,
 "nbformat_minor": 2
}
