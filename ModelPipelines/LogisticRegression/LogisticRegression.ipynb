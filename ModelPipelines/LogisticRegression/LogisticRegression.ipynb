{
 "cells": [
  {
   "cell_type": "code",
   "execution_count": 1,
   "metadata": {},
   "outputs": [],
   "source": [
    "import sys; sys.path.append('../../')\n",
    "import numpy as np\n",
    "from DataPreparation.DataPreparation import read_data\n",
    "from utils import load_hyperparameters, save_model, get_metrics\n",
    "from sklearn.linear_model import LogisticRegression\n",
    "from sklearn.metrics import classification_report\n",
    "from mlpath import mlquest as mlq\n",
    "from sklearn.model_selection import cross_val_predict\n",
    "import pickle\n",
    "model_name = 'LogisticRegression'\n",
    "\n",
    "mlq.start_quest(model_name, table_dest=\"../../\")"
   ]
  },
  {
   "attachments": {},
   "cell_type": "markdown",
   "metadata": {},
   "source": [
    "# <font color=\"aqua\">Logistic Regression</font> Model"
   ]
  },
  {
   "attachments": {},
   "cell_type": "markdown",
   "metadata": {},
   "source": [
    "### Read the data"
   ]
  },
  {
   "cell_type": "code",
   "execution_count": 3,
   "metadata": {},
   "outputs": [],
   "source": [
    "x_data_d, y_data_d = mlq.l(read_data)(kind='Numerical')\n",
    "opt_params = load_hyperparameters(model_name)"
   ]
  },
  {
   "attachments": {},
   "cell_type": "markdown",
   "metadata": {},
   "source": [
    "### Initiate model"
   ]
  },
  {
   "cell_type": "code",
   "execution_count": 4,
   "metadata": {},
   "outputs": [],
   "source": [
    "#clf = mlq.l(LogisticRegression)(**opt_params)\n",
    "clf = mlq.l(LogisticRegression)(multi_class='multinomial', C=1400, solver='newton-cg')"
   ]
  },
  {
   "attachments": {},
   "cell_type": "markdown",
   "metadata": {},
   "source": [
    "### Evaluate Model Bias"
   ]
  },
  {
   "cell_type": "code",
   "execution_count": 5,
   "metadata": {},
   "outputs": [
    {
     "name": "stdout",
     "output_type": "stream",
     "text": [
      "              precision    recall  f1-score   support\n",
      "\n",
      "           0      0.987     0.987     0.987       152\n",
      "           1      0.975     0.963     0.969       160\n",
      "           2      0.988     0.994     0.991       324\n",
      "           3      1.000     1.000     1.000       544\n",
      "\n",
      "    accuracy                          0.992      1180\n",
      "   macro avg      0.987     0.986     0.987      1180\n",
      "weighted avg      0.992     0.992     0.992      1180\n",
      "\n"
     ]
    }
   ],
   "source": [
    "clf.fit(x_data_d, y_data_d)\n",
    "y_pred = clf.predict(x_data_d)\n",
    "train_metrics = classification_report(y_data_d, y_pred, digits=3)\n",
    "train_acc, train_wf1 = get_metrics(train_metrics)\n",
    "print(train_metrics)"
   ]
  },
  {
   "attachments": {},
   "cell_type": "markdown",
   "metadata": {},
   "source": [
    "### Evaluate Model Generalization"
   ]
  },
  {
   "cell_type": "code",
   "execution_count": 6,
   "metadata": {},
   "outputs": [
    {
     "name": "stdout",
     "output_type": "stream",
     "text": [
      "              precision    recall  f1-score   support\n",
      "\n",
      "           0      0.968     0.987     0.977       152\n",
      "           1      0.962     0.950     0.956       160\n",
      "           2      0.978     0.978     0.978       324\n",
      "           3      0.994     0.993     0.994       544\n",
      "\n",
      "    accuracy                          0.982      1180\n",
      "   macro avg      0.976     0.977     0.976      1180\n",
      "weighted avg      0.982     0.982     0.982      1180\n",
      "\n"
     ]
    }
   ],
   "source": [
    "y_pred = mlq.l(cross_val_predict)(clf, x_data_d, y_data_d, cv=4)\n",
    "val_metrics = classification_report(y_data_d, y_pred, digits=3)\n",
    "val_acc, val_wf1 = get_metrics(val_metrics)\n",
    "print(val_metrics)"
   ]
  },
  {
   "attachments": {},
   "cell_type": "markdown",
   "metadata": {},
   "source": [
    "#### Save Model"
   ]
  },
  {
   "cell_type": "code",
   "execution_count": 7,
   "metadata": {},
   "outputs": [],
   "source": [
    "save_model(model_name, clf)"
   ]
  },
  {
   "attachments": {},
   "cell_type": "markdown",
   "metadata": {},
   "source": [
    "### Tracking"
   ]
  },
  {
   "cell_type": "code",
   "execution_count": 42,
   "metadata": {},
   "outputs": [
    {
     "data": {
      "text/html": [
       "<table>\n",
       "<tr>\n",
       "<th colspan=4 style=\"text-align: center; vertical-align: middle;\">info</th>\n",
       "<th colspan=1 style=\"text-align: center; vertical-align: middle;\">read_data</th>\n",
       "<th colspan=3 style=\"text-align: center; vertical-align: middle;\">LogisticRegression</th>\n",
       "<th colspan=2 style=\"text-align: center; vertical-align: middle;\">cross_val_predict</th>\n",
       "<th colspan=4 style=\"text-align: center; vertical-align: middle;\">metrics</th>\n",
       "</tr>\n",
       "<th style=\"text-align: center; vertical-align: middle;\">time</th>\n",
       "<th style=\"text-align: center; vertical-align: middle;\">date</th>\n",
       "<th style=\"text-align: center; vertical-align: middle;\">duration</th>\n",
       "<th style=\"text-align: center; vertical-align: middle;\">id</th>\n",
       "<th style=\"text-align: center; vertical-align: middle;\">kind</th>\n",
       "<th style=\"text-align: center; vertical-align: middle;\">multi_class</th>\n",
       "<th style=\"text-align: center; vertical-align: middle;\">C</th>\n",
       "<th style=\"text-align: center; vertical-align: middle;\">solver</th>\n",
       "<th style=\"text-align: center; vertical-align: middle;\">estimator</th>\n",
       "<th style=\"text-align: center; vertical-align: middle;\">cv</th>\n",
       "<th style=\"text-align: center; vertical-align: middle;\">train_acc</th>\n",
       "<th style=\"text-align: center; vertical-align: middle;\">train_wf1</th>\n",
       "<th style=\"text-align: center; vertical-align: middle;\">val_acc</th>\n",
       "<th style=\"text-align: center; vertical-align: middle;\">val_wf1</th>\n",
       "</tr>\n",
       "<tr>\n",
       "<td style=\"text-align: center; vertical-align: middle;\"> <font color=white>11:44:38</font></td>\n",
       "<td style=\"text-align: center; vertical-align: middle;\"> <font color=white>05/12/23</font></td>\n",
       "<td style=\"text-align: center; vertical-align: middle;\"> <font color=white>576.23 ms</font></td>\n",
       "<td style=\"text-align: center; vertical-align: middle;\"> <font color=white>1</font></td>\n",
       "<td style=\"text-align: center; vertical-align: middle;\"> <font color=white>Numerical</font></td>\n",
       "<td style=\"text-align: center; vertical-align: middle;\"> <font color=white>multinomial</font></td>\n",
       "<td style=\"text-align: center; vertical-align: middle;\"> <font color=white>140</font></td>\n",
       "<td style=\"text-align: center; vertical-align: middle;\"> <font color=white>lbfgs</font></td>\n",
       "<td style=\"text-align: center; vertical-align: middle;\"> <font color=white>LogisticRegression(C=140, multi_class='multinomial')</font></td>\n",
       "<td style=\"text-align: center; vertical-align: middle;\"> <font color=white>4</font></td>\n",
       "<td style=\"text-align: center; vertical-align: middle;\"> <font color=white>0.988</font></td>\n",
       "<td style=\"text-align: center; vertical-align: middle;\"> <font color=white>0.988</font></td>\n",
       "<td style=\"text-align: center; vertical-align: middle;\"> <font color=white>0.978</font></td>\n",
       "<td style=\"text-align: center; vertical-align: middle;\"> <font color=white>0.978</font></td>\n",
       "</tr>\n",
       "<tr>\n",
       "<td style=\"text-align: center; vertical-align: middle;\"> <font color=white>11:45:26</font></td>\n",
       "<td style=\"text-align: center; vertical-align: middle;\"> <font color=white>05/12/23</font></td>\n",
       "<td style=\"text-align: center; vertical-align: middle;\"> <font color=white>526.39 ms</font></td>\n",
       "<td style=\"text-align: center; vertical-align: middle;\"> <font color=white>2</font></td>\n",
       "<td style=\"text-align: center; vertical-align: middle;\"> <font color=white>Numerical</font></td>\n",
       "<td style=\"text-align: center; vertical-align: middle;\"> <font color=white>multinomial</font></td>\n",
       "<td style=\"text-align: center; vertical-align: middle;\"> <font color=white>140</font></td>\n",
       "<td style=\"text-align: center; vertical-align: middle;\"> <font color=yellow>newton-cg</font></td>\n",
       "<td style=\"text-align: center; vertical-align: middle;\"> <font color=yellow>LogisticRegression(C=140, multi_class='multinomial', solver=...</font></td>\n",
       "<td style=\"text-align: center; vertical-align: middle;\"> <font color=white>4</font></td>\n",
       "<td style=\"text-align: center; vertical-align: middle;\"> <font color=yellow>0.987</font></td>\n",
       "<td style=\"text-align: center; vertical-align: middle;\"> <font color=yellow>0.987</font></td>\n",
       "<td style=\"text-align: center; vertical-align: middle;\"> <font color=white>0.978</font></td>\n",
       "<td style=\"text-align: center; vertical-align: middle;\"> <font color=white>0.978</font></td>\n",
       "</tr>\n",
       "<tr>\n",
       "<td style=\"text-align: center; vertical-align: middle;\"> <font color=white>11:47:28</font></td>\n",
       "<td style=\"text-align: center; vertical-align: middle;\"> <font color=white>05/12/23</font></td>\n",
       "<td style=\"text-align: center; vertical-align: middle;\"> <font color=white>749.53 ms</font></td>\n",
       "<td style=\"text-align: center; vertical-align: middle;\"> <font color=white>6</font></td>\n",
       "<td style=\"text-align: center; vertical-align: middle;\"> <font color=white>Numerical</font></td>\n",
       "<td style=\"text-align: center; vertical-align: middle;\"> <font color=white>multinomial</font></td>\n",
       "<td style=\"text-align: center; vertical-align: middle;\"> <font color=yellow>1400</font></td>\n",
       "<td style=\"text-align: center; vertical-align: middle;\"> <font color=white>newton-cg</font></td>\n",
       "<td style=\"text-align: center; vertical-align: middle;\"> <font color=yellow>LogisticRegression(C=1400, multi_class='multinomial', solver...</font></td>\n",
       "<td style=\"text-align: center; vertical-align: middle;\"> <font color=white>4</font></td>\n",
       "<td style=\"text-align: center; vertical-align: middle;\"> <font color=yellow>0.992</font></td>\n",
       "<td style=\"text-align: center; vertical-align: middle;\"> <font color=yellow>0.992</font></td>\n",
       "<td style=\"text-align: center; vertical-align: middle;\"> <font color=yellow>0.982</font></td>\n",
       "<td style=\"text-align: center; vertical-align: middle;\"> <font color=yellow>0.982</font></td>\n",
       "</tr>\n"
      ],
      "text/plain": [
       "<IPython.core.display.HTML object>"
      ]
     },
     "metadata": {},
     "output_type": "display_data"
    }
   ],
   "source": [
    "mlq.log_metrics(train_acc, train_wf1, val_acc, val_wf1)\n",
    "mlq.end_quest()\n",
    "mlq.show_logs(\"LogisticRegression\", table_dest=\"../../\", last_k=6)"
   ]
  }
 ],
 "metadata": {
  "kernelspec": {
   "display_name": "base",
   "language": "python",
   "name": "python3"
  },
  "language_info": {
   "codemirror_mode": {
    "name": "ipython",
    "version": 3
   },
   "file_extension": ".py",
   "mimetype": "text/x-python",
   "name": "python",
   "nbconvert_exporter": "python",
   "pygments_lexer": "ipython3",
   "version": "3.9.13"
  },
  "orig_nbformat": 4
 },
 "nbformat": 4,
 "nbformat_minor": 2
}
