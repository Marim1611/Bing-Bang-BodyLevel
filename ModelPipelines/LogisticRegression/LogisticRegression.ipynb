{
 "cells": [
  {
   "cell_type": "code",
   "execution_count": 1,
   "metadata": {},
   "outputs": [],
   "source": [
    "import sys; sys.path.append('../../')\n",
    "import numpy as np\n",
    "from DataPreparation.DataPreparation import read_data\n",
    "from utils import load_hyperparameters, save_model, get_metrics\n",
    "from sklearn.linear_model import LogisticRegression\n",
    "from sklearn.metrics import classification_report\n",
    "from mlpath import mlquest as mlq\n",
    "from ModelAnalysis import cross_validation\n",
    "import pickle\n",
    "model_name = 'LogisticRegression'\n",
    "\n",
    "mlq.start_quest(model_name, table_dest=\"../../\",log_defs=True)"
   ]
  },
  {
   "attachments": {},
   "cell_type": "markdown",
   "metadata": {},
   "source": [
    "# <font color=\"aqua\">Logistic Regression</font> Model"
   ]
  },
  {
   "attachments": {},
   "cell_type": "markdown",
   "metadata": {},
   "source": [
    "### Read the data"
   ]
  },
  {
   "cell_type": "code",
   "execution_count": 2,
   "metadata": {},
   "outputs": [],
   "source": [
    "x_data_d, y_data_d = mlq.l(read_data)(split='all',kind='Numerical')\n",
    "opt_params = load_hyperparameters(model_name)"
   ]
  },
  {
   "attachments": {},
   "cell_type": "markdown",
   "metadata": {},
   "source": [
    "### Initiate model"
   ]
  },
  {
   "cell_type": "code",
   "execution_count": 3,
   "metadata": {},
   "outputs": [],
   "source": [
    "clf = mlq.l(LogisticRegression)(**opt_params)\n",
    "# clf = mlq.l(LogisticRegression)(multi_class='multinomial', C=1400, solver='newton-cg')"
   ]
  },
  {
   "attachments": {},
   "cell_type": "markdown",
   "metadata": {},
   "source": [
    "### Evaluate Model Bias"
   ]
  },
  {
   "cell_type": "code",
   "execution_count": 4,
   "metadata": {},
   "outputs": [
    {
     "name": "stdout",
     "output_type": "stream",
     "text": [
      "              precision    recall  f1-score   support\n",
      "\n",
      "           0      0.984     0.995     0.990       190\n",
      "           1      0.966     0.980     0.973       201\n",
      "           2      0.993     0.985     0.989       406\n",
      "           3      1.000     0.997     0.999       680\n",
      "\n",
      "    accuracy                          0.991      1477\n",
      "   macro avg      0.986     0.989     0.987      1477\n",
      "weighted avg      0.991     0.991     0.991      1477\n",
      "\n"
     ]
    }
   ],
   "source": [
    "clf.fit(x_data_d, y_data_d)\n",
    "y_pred = clf.predict(x_data_d)\n",
    "train_metrics = classification_report(y_data_d, y_pred, digits=3)\n",
    "_, train_wf1 = get_metrics(train_metrics)\n",
    "print(train_metrics)"
   ]
  },
  {
   "attachments": {},
   "cell_type": "markdown",
   "metadata": {},
   "source": [
    "### Evaluate Model Generalization"
   ]
  },
  {
   "cell_type": "code",
   "execution_count": 5,
   "metadata": {},
   "outputs": [
    {
     "data": {
      "text/html": [
       "<h2 style=\"text-align:left;\">Cross-Validation Weighted F1-Score</h2><table style=\"width:50%; border-collapse: collapse; font-size: 16px; text-align:center; padding: 10px; border: 1px solid #fff;\"><tr><td style=\"border: 1px solid #fff; text-align:center; padding: 10px; color: white; border-right: 1px solid #fff;\">10-Repeated 10-fold</td></tr><tr><td style=\"border: 1px solid #fff; text-align:center; padding: 10px; color: white; opacity: 0.8; border-left: 1px solid #fff;\">0.9831</td></tr>"
      ],
      "text/plain": [
       "<IPython.core.display.HTML object>"
      ]
     },
     "metadata": {},
     "output_type": "display_data"
    }
   ],
   "source": [
    "kfold=cross_validation(clf, x_data_d, y_data_d, k=[10], n_repeats=[10], random_state=1,loo=False)\n",
    "\n",
    "val_wf1 = kfold.get(f'10-Repeated 10-fold')[0] \n",
    "# repeated_10fold_report= kfold.get(f'10-Repeated 10-fold')[1]\n",
    "# print(f'10-Repeated 10-fold Report:\\n {repeated_10fold_report}')\n",
    "\n",
    "# loo_wf1=loo.get('loo_wf1')\n",
    "# loo_report=loo.get('loo_report')\n",
    "# print(f'Leave-One-Out Report:\\n {loo_report}')"
   ]
  },
  {
   "attachments": {},
   "cell_type": "markdown",
   "metadata": {},
   "source": [
    "#### Save Model"
   ]
  },
  {
   "cell_type": "code",
   "execution_count": 6,
   "metadata": {},
   "outputs": [],
   "source": [
    "save_model(model_name, clf)"
   ]
  },
  {
   "attachments": {},
   "cell_type": "markdown",
   "metadata": {},
   "source": [
    "### Tracking"
   ]
  },
  {
   "cell_type": "code",
   "execution_count": 7,
   "metadata": {},
   "outputs": [
    {
     "data": {
      "text/html": [
       "<table>\n",
       "<tr>\n",
       "<th colspan=4 style=\"text-align: center; vertical-align: middle;\">info</th>\n",
       "<th colspan=5 style=\"text-align: center; vertical-align: middle;\">read_data</th>\n",
       "<th colspan=11 style=\"text-align: center; vertical-align: middle;\">LogisticRegression</th>\n",
       "<th colspan=2 style=\"text-align: center; vertical-align: middle;\">metrics</th>\n",
       "</tr>\n",
       "<th style=\"text-align: center; vertical-align: middle;\">time</th>\n",
       "<th style=\"text-align: center; vertical-align: middle;\">date</th>\n",
       "<th style=\"text-align: center; vertical-align: middle;\">duration</th>\n",
       "<th style=\"text-align: center; vertical-align: middle;\">id</th>\n",
       "<th style=\"text-align: center; vertical-align: middle;\">split</th>\n",
       "<th style=\"text-align: center; vertical-align: middle;\">kind</th>\n",
       "<th style=\"text-align: center; vertical-align: middle;\">standardize</th>\n",
       "<th style=\"text-align: center; vertical-align: middle;\">selected</th>\n",
       "<th style=\"text-align: center; vertical-align: middle;\">encode</th>\n",
       "<th style=\"text-align: center; vertical-align: middle;\">class_weight</th>\n",
       "<th style=\"text-align: center; vertical-align: middle;\">multi_class</th>\n",
       "<th style=\"text-align: center; vertical-align: middle;\">penalty</th>\n",
       "<th style=\"text-align: center; vertical-align: middle;\">solver</th>\n",
       "<th style=\"text-align: center; vertical-align: middle;\">dual</th>\n",
       "<th style=\"text-align: center; vertical-align: middle;\">tol</th>\n",
       "<th style=\"text-align: center; vertical-align: middle;\">fit_intercept</th>\n",
       "<th style=\"text-align: center; vertical-align: middle;\">intercept_scaling</th>\n",
       "<th style=\"text-align: center; vertical-align: middle;\">max_iter</th>\n",
       "<th style=\"text-align: center; vertical-align: middle;\">verbose</th>\n",
       "<th style=\"text-align: center; vertical-align: middle;\">warm_start</th>\n",
       "<th style=\"text-align: center; vertical-align: middle;\">train_wf1</th>\n",
       "<th style=\"text-align: center; vertical-align: middle;\">val_wf1</th>\n",
       "</tr>\n",
       "<tr>\n",
       "<td style=\"text-align: center; vertical-align: middle;\"> <font color=white>15:54:31</font></td>\n",
       "<td style=\"text-align: center; vertical-align: middle;\"> <font color=white>05/14/23</font></td>\n",
       "<td style=\"text-align: center; vertical-align: middle;\"> <font color=white>7.54 s</font></td>\n",
       "<td style=\"text-align: center; vertical-align: middle;\"> <font color=white>1</font></td>\n",
       "<td style=\"text-align: center; vertical-align: middle;\"> <font color=white>train</font></td>\n",
       "<td style=\"text-align: center; vertical-align: middle;\"> <font color=white>Numerical</font></td>\n",
       "<td style=\"text-align: center; vertical-align: middle;\"> <font color=white>True</font></td>\n",
       "<td style=\"text-align: center; vertical-align: middle;\"> <font color=white></font></td>\n",
       "<td style=\"text-align: center; vertical-align: middle;\"> <font color=white></font></td>\n",
       "<td style=\"text-align: center; vertical-align: middle;\"> <font color=white>balanced</font></td>\n",
       "<td style=\"text-align: center; vertical-align: middle;\"> <font color=white>multinomial</font></td>\n",
       "<td style=\"text-align: center; vertical-align: middle;\"> <font color=white>l2</font></td>\n",
       "<td style=\"text-align: center; vertical-align: middle;\"> <font color=white>newton-cg</font></td>\n",
       "<td style=\"text-align: center; vertical-align: middle;\"> <font color=white>False</font></td>\n",
       "<td style=\"text-align: center; vertical-align: middle;\"> <font color=white>0.0</font></td>\n",
       "<td style=\"text-align: center; vertical-align: middle;\"> <font color=white>True</font></td>\n",
       "<td style=\"text-align: center; vertical-align: middle;\"> <font color=white>1</font></td>\n",
       "<td style=\"text-align: center; vertical-align: middle;\"> <font color=white>100</font></td>\n",
       "<td style=\"text-align: center; vertical-align: middle;\"> <font color=white>0</font></td>\n",
       "<td style=\"text-align: center; vertical-align: middle;\"> <font color=white>False</font></td>\n",
       "<td style=\"text-align: center; vertical-align: middle;\"> <font color=white>0.987</font></td>\n",
       "<td style=\"text-align: center; vertical-align: middle;\"> <font color=white>0.9822</font></td>\n",
       "</tr>\n",
       "<tr>\n",
       "<td style=\"text-align: center; vertical-align: middle;\"> <font color=white>15:56:09</font></td>\n",
       "<td style=\"text-align: center; vertical-align: middle;\"> <font color=white>05/14/23</font></td>\n",
       "<td style=\"text-align: center; vertical-align: middle;\"> <font color=white>11.66 s</font></td>\n",
       "<td style=\"text-align: center; vertical-align: middle;\"> <font color=white>2</font></td>\n",
       "<td style=\"text-align: center; vertical-align: middle;\"> <font color=white>train</font></td>\n",
       "<td style=\"text-align: center; vertical-align: middle;\"> <font color=yellow></font></td>\n",
       "<td style=\"text-align: center; vertical-align: middle;\"> <font color=white>True</font></td>\n",
       "<td style=\"text-align: center; vertical-align: middle;\"> <font color=white></font></td>\n",
       "<td style=\"text-align: center; vertical-align: middle;\"> <font color=yellow>Frequency</font></td>\n",
       "<td style=\"text-align: center; vertical-align: middle;\"> <font color=white>balanced</font></td>\n",
       "<td style=\"text-align: center; vertical-align: middle;\"> <font color=white>multinomial</font></td>\n",
       "<td style=\"text-align: center; vertical-align: middle;\"> <font color=white>l2</font></td>\n",
       "<td style=\"text-align: center; vertical-align: middle;\"> <font color=white>newton-cg</font></td>\n",
       "<td style=\"text-align: center; vertical-align: middle;\"> <font color=white>False</font></td>\n",
       "<td style=\"text-align: center; vertical-align: middle;\"> <font color=white>0.0</font></td>\n",
       "<td style=\"text-align: center; vertical-align: middle;\"> <font color=white>True</font></td>\n",
       "<td style=\"text-align: center; vertical-align: middle;\"> <font color=white>1</font></td>\n",
       "<td style=\"text-align: center; vertical-align: middle;\"> <font color=white>100</font></td>\n",
       "<td style=\"text-align: center; vertical-align: middle;\"> <font color=white>0</font></td>\n",
       "<td style=\"text-align: center; vertical-align: middle;\"> <font color=white>False</font></td>\n",
       "<td style=\"text-align: center; vertical-align: middle;\"> <font color=yellow>0.995</font></td>\n",
       "<td style=\"text-align: center; vertical-align: middle;\"> <font color=yellow>0.9814</font></td>\n",
       "</tr>\n",
       "<tr>\n",
       "<td style=\"text-align: center; vertical-align: middle;\"> <font color=white>16:00:51</font></td>\n",
       "<td style=\"text-align: center; vertical-align: middle;\"> <font color=white>05/14/23</font></td>\n",
       "<td style=\"text-align: center; vertical-align: middle;\"> <font color=white>49.76 s</font></td>\n",
       "<td style=\"text-align: center; vertical-align: middle;\"> <font color=white>3</font></td>\n",
       "<td style=\"text-align: center; vertical-align: middle;\"> <font color=white>train</font></td>\n",
       "<td style=\"text-align: center; vertical-align: middle;\"> <font color=yellow>Numerical</font></td>\n",
       "<td style=\"text-align: center; vertical-align: middle;\"> <font color=white>True</font></td>\n",
       "<td style=\"text-align: center; vertical-align: middle;\"> <font color=yellow>True</font></td>\n",
       "<td style=\"text-align: center; vertical-align: middle;\"> <font color=yellow></font></td>\n",
       "<td style=\"text-align: center; vertical-align: middle;\"> <font color=white>balanced</font></td>\n",
       "<td style=\"text-align: center; vertical-align: middle;\"> <font color=white>multinomial</font></td>\n",
       "<td style=\"text-align: center; vertical-align: middle;\"> <font color=white>l2</font></td>\n",
       "<td style=\"text-align: center; vertical-align: middle;\"> <font color=white>newton-cg</font></td>\n",
       "<td style=\"text-align: center; vertical-align: middle;\"> <font color=white>False</font></td>\n",
       "<td style=\"text-align: center; vertical-align: middle;\"> <font color=white>0.0</font></td>\n",
       "<td style=\"text-align: center; vertical-align: middle;\"> <font color=white>True</font></td>\n",
       "<td style=\"text-align: center; vertical-align: middle;\"> <font color=white>1</font></td>\n",
       "<td style=\"text-align: center; vertical-align: middle;\"> <font color=white>100</font></td>\n",
       "<td style=\"text-align: center; vertical-align: middle;\"> <font color=white>0</font></td>\n",
       "<td style=\"text-align: center; vertical-align: middle;\"> <font color=white>False</font></td>\n",
       "<td style=\"text-align: center; vertical-align: middle;\"> <font color=yellow>0.985</font></td>\n",
       "<td style=\"text-align: center; vertical-align: middle;\"> <font color=white>0.9814</font></td>\n",
       "</tr>\n",
       "<tr>\n",
       "<td style=\"text-align: center; vertical-align: middle;\"> <font color=white>16:19:45</font></td>\n",
       "<td style=\"text-align: center; vertical-align: middle;\"> <font color=white>05/14/23</font></td>\n",
       "<td style=\"text-align: center; vertical-align: middle;\"> <font color=white>7.69 s</font></td>\n",
       "<td style=\"text-align: center; vertical-align: middle;\"> <font color=white>4</font></td>\n",
       "<td style=\"text-align: center; vertical-align: middle;\"> <font color=yellow>all</font></td>\n",
       "<td style=\"text-align: center; vertical-align: middle;\"> <font color=white>Numerical</font></td>\n",
       "<td style=\"text-align: center; vertical-align: middle;\"> <font color=white>True</font></td>\n",
       "<td style=\"text-align: center; vertical-align: middle;\"> <font color=yellow></font></td>\n",
       "<td style=\"text-align: center; vertical-align: middle;\"> <font color=white></font></td>\n",
       "<td style=\"text-align: center; vertical-align: middle;\"> <font color=white>balanced</font></td>\n",
       "<td style=\"text-align: center; vertical-align: middle;\"> <font color=white>multinomial</font></td>\n",
       "<td style=\"text-align: center; vertical-align: middle;\"> <font color=white>l2</font></td>\n",
       "<td style=\"text-align: center; vertical-align: middle;\"> <font color=white>newton-cg</font></td>\n",
       "<td style=\"text-align: center; vertical-align: middle;\"> <font color=white>False</font></td>\n",
       "<td style=\"text-align: center; vertical-align: middle;\"> <font color=white>0.0</font></td>\n",
       "<td style=\"text-align: center; vertical-align: middle;\"> <font color=white>True</font></td>\n",
       "<td style=\"text-align: center; vertical-align: middle;\"> <font color=white>1</font></td>\n",
       "<td style=\"text-align: center; vertical-align: middle;\"> <font color=white>100</font></td>\n",
       "<td style=\"text-align: center; vertical-align: middle;\"> <font color=white>0</font></td>\n",
       "<td style=\"text-align: center; vertical-align: middle;\"> <font color=white>False</font></td>\n",
       "<td style=\"text-align: center; vertical-align: middle;\"> <font color=yellow>0.991</font></td>\n",
       "<td style=\"text-align: center; vertical-align: middle;\"> <font color=yellow>0.9831</font></td>\n",
       "</tr>\n"
      ],
      "text/plain": [
       "<IPython.core.display.HTML object>"
      ]
     },
     "metadata": {},
     "output_type": "display_data"
    }
   ],
   "source": [
    "mlq.log_metrics(train_wf1,val_wf1)\n",
    "mlq.end_quest()\n",
    "mlq.show_logs(\"LogisticRegression\", table_dest=\"../../\", last_k=6)"
   ]
  }
 ],
 "metadata": {
  "kernelspec": {
   "display_name": "base",
   "language": "python",
   "name": "python3"
  },
  "language_info": {
   "codemirror_mode": {
    "name": "ipython",
    "version": 3
   },
   "file_extension": ".py",
   "mimetype": "text/x-python",
   "name": "python",
   "nbconvert_exporter": "python",
   "pygments_lexer": "ipython3",
   "version": "3.10.9"
  },
  "orig_nbformat": 4
 },
 "nbformat": 4,
 "nbformat_minor": 2
}
