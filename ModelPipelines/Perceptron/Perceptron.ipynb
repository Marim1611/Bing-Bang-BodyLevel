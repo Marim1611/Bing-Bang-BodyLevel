{
 "cells": [
  {
   "cell_type": "code",
   "execution_count": 1,
   "metadata": {},
   "outputs": [],
   "source": [
    "import sys; sys.path.append('../../')\n",
    "import numpy as np\n",
    "from DataPreparation.DataPreparation import read_data\n",
    "from utils import load_hyperparameters, save_model, get_metrics\n",
    "from sklearn.linear_model import Perceptron\n",
    "from sklearn.metrics import classification_report\n",
    "from mlpath import mlquest as mlq\n",
    "from ModelAnalysis import cross_validation\n",
    "import pickle\n",
    "model_name = 'Perceptron'\n",
    "\n",
    "mlq.start_quest(model_name, table_dest=\"../../\")"
   ]
  },
  {
   "attachments": {},
   "cell_type": "markdown",
   "metadata": {},
   "source": [
    "# <font color=\"aqua\">Perceptron</font> Model"
   ]
  },
  {
   "attachments": {},
   "cell_type": "markdown",
   "metadata": {},
   "source": [
    "### Read the data"
   ]
  },
  {
   "cell_type": "code",
   "execution_count": 2,
   "metadata": {},
   "outputs": [],
   "source": [
    "x_data_d, y_data_d = mlq.l(read_data)(kind=\"Numerical\")\n",
    "opt_params = load_hyperparameters(model_name)"
   ]
  },
  {
   "attachments": {},
   "cell_type": "markdown",
   "metadata": {},
   "source": [
    "### Initiate model"
   ]
  },
  {
   "cell_type": "code",
   "execution_count": 3,
   "metadata": {},
   "outputs": [],
   "source": [
    "clf = mlq.l(Perceptron)(**opt_params)\n",
    "# clf = mlq.l(Perceptron)(tol=1e-3, random_state=0)"
   ]
  },
  {
   "attachments": {},
   "cell_type": "markdown",
   "metadata": {},
   "source": [
    "### Evaluate Model Bias"
   ]
  },
  {
   "cell_type": "code",
   "execution_count": 4,
   "metadata": {},
   "outputs": [
    {
     "name": "stdout",
     "output_type": "stream",
     "text": [
      "              precision    recall  f1-score   support\n",
      "\n",
      "           0      0.899     0.763     0.826       152\n",
      "           1      0.327     0.350     0.338       160\n",
      "           2      0.591     0.593     0.592       324\n",
      "           3      0.966     0.985     0.975       544\n",
      "\n",
      "    accuracy                          0.763      1180\n",
      "   macro avg      0.696     0.673     0.683      1180\n",
      "weighted avg      0.768     0.763     0.764      1180\n",
      "\n"
     ]
    }
   ],
   "source": [
    "clf.fit(x_data_d, y_data_d)\n",
    "y_pred = clf.predict(x_data_d)\n",
    "train_metrics = classification_report(y_data_d, y_pred, digits=3)\n",
    "train_acc, train_wf1 = get_metrics(train_metrics)\n",
    "print(train_metrics)"
   ]
  },
  {
   "attachments": {},
   "cell_type": "markdown",
   "metadata": {},
   "source": [
    "### Evaluate Model Generalization"
   ]
  },
  {
   "cell_type": "code",
   "execution_count": 5,
   "metadata": {},
   "outputs": [
    {
     "data": {
      "text/html": [
       "<h2 style=\"text-align:left;\">Cross-Validation Weighted F1-Score</h2><table style=\"width:50%; border-collapse: collapse; font-size: 16px; text-align:center; padding: 10px; border: 1px solid #fff;\"><tr><td style=\"border: 1px solid #fff; text-align:center; padding: 10px; color: white; border-right: 1px solid #fff;\">10-Repeated 10-fold</td></tr><tr><td style=\"border: 1px solid #fff; text-align:center; padding: 10px; color: white; opacity: 0.8; border-left: 1px solid #fff;\">0.764</td></tr>"
      ],
      "text/plain": [
       "<IPython.core.display.HTML object>"
      ]
     },
     "metadata": {},
     "output_type": "display_data"
    }
   ],
   "source": [
    "kfold=cross_validation(clf, x_data_d, y_data_d, k=[10], n_repeats=[10], random_state=1,loo=False)\n",
    "\n",
    "repeated_10fold_wf1 = kfold.get(f'10-Repeated 10-fold')[0] \n",
    "# repeated_10fold_report= kfold.get(f'10-Repeated 10-fold')[1]\n",
    "# print(f'10-Repeated 10-fold Report:\\n {repeated_10fold_report}')\n",
    "\n",
    "# loo_wf1=loo.get('loo_wf1')\n",
    "# loo_report=loo.get('loo_report')\n",
    "# print(f'Leave-One-Out Report:\\n {loo_report}')"
   ]
  },
  {
   "attachments": {},
   "cell_type": "markdown",
   "metadata": {},
   "source": [
    "#### Save Model"
   ]
  },
  {
   "cell_type": "code",
   "execution_count": 6,
   "metadata": {},
   "outputs": [],
   "source": [
    "save_model(model_name, clf)"
   ]
  },
  {
   "attachments": {},
   "cell_type": "markdown",
   "metadata": {},
   "source": [
    "### Tracking"
   ]
  },
  {
   "cell_type": "code",
   "execution_count": 7,
   "metadata": {},
   "outputs": [
    {
     "data": {
      "text/html": [
       "<table>\n",
       "<tr>\n",
       "<th colspan=4 style=\"text-align: center; vertical-align: middle;\">info</th>\n",
       "<th colspan=1 style=\"text-align: center; vertical-align: middle;\">read_data</th>\n",
       "<th colspan=4 style=\"text-align: center; vertical-align: middle;\">metrics</th>\n",
       "<th colspan=5 style=\"text-align: center; vertical-align: middle;\">cross_val_predict</th>\n",
       "</tr>\n",
       "<th style=\"text-align: center; vertical-align: middle;\">time</th>\n",
       "<th style=\"text-align: center; vertical-align: middle;\">date</th>\n",
       "<th style=\"text-align: center; vertical-align: middle;\">duration</th>\n",
       "<th style=\"text-align: center; vertical-align: middle;\">id</th>\n",
       "<th style=\"text-align: center; vertical-align: middle;\">kind</th>\n",
       "<th style=\"text-align: center; vertical-align: middle;\">train_acc</th>\n",
       "<th style=\"text-align: center; vertical-align: middle;\">train_wf1</th>\n",
       "<th style=\"text-align: center; vertical-align: middle;\">repeated_10fold_wf1</th>\n",
       "<th style=\"text-align: center; vertical-align: middle;\">accuracy</th>\n",
       "<th style=\"text-align: center; vertical-align: middle;\">estimator</th>\n",
       "<th style=\"text-align: center; vertical-align: middle;\">cv</th>\n",
       "<th style=\"text-align: center; vertical-align: middle;\">verbose</th>\n",
       "<th style=\"text-align: center; vertical-align: middle;\">pre_dispatch</th>\n",
       "<th style=\"text-align: center; vertical-align: middle;\">method</th>\n",
       "</tr>\n",
       "<tr>\n",
       "<td style=\"text-align: center; vertical-align: middle;\"> <font color=white>20:43:22</font></td>\n",
       "<td style=\"text-align: center; vertical-align: middle;\"> <font color=white>04/13/23</font></td>\n",
       "<td style=\"text-align: center; vertical-align: middle;\"> <font color=white>12.60 s</font></td>\n",
       "<td style=\"text-align: center; vertical-align: middle;\"> <font color=white>1</font></td>\n",
       "<td style=\"text-align: center; vertical-align: middle;\"> <font color=white>Numerical</font></td>\n",
       "<td style=\"text-align: center; vertical-align: middle;\"> <font color=white></font></td>\n",
       "<td style=\"text-align: center; vertical-align: middle;\"> <font color=white></font></td>\n",
       "<td style=\"text-align: center; vertical-align: middle;\"> <font color=white></font></td>\n",
       "<td style=\"text-align: center; vertical-align: middle;\"> <font color=white>0.5949152542372881</font></td>\n",
       "<td style=\"text-align: center; vertical-align: middle;\"> <font color=white>Perceptron()</font></td>\n",
       "<td style=\"text-align: center; vertical-align: middle;\"> <font color=white>4</font></td>\n",
       "<td style=\"text-align: center; vertical-align: middle;\"> <font color=white>0</font></td>\n",
       "<td style=\"text-align: center; vertical-align: middle;\"> <font color=white>2*n_jobs</font></td>\n",
       "<td style=\"text-align: center; vertical-align: middle;\"> <font color=white>predict</font></td>\n",
       "</tr>\n",
       "<tr>\n",
       "<td style=\"text-align: center; vertical-align: middle;\"> <font color=white>23:16:40</font></td>\n",
       "<td style=\"text-align: center; vertical-align: middle;\"> <font color=white>04/13/23</font></td>\n",
       "<td style=\"text-align: center; vertical-align: middle;\"> <font color=white>119.36 ms</font></td>\n",
       "<td style=\"text-align: center; vertical-align: middle;\"> <font color=white>2</font></td>\n",
       "<td style=\"text-align: center; vertical-align: middle;\"> <font color=white>Numerical</font></td>\n",
       "<td style=\"text-align: center; vertical-align: middle;\"> <font color=white></font></td>\n",
       "<td style=\"text-align: center; vertical-align: middle;\"> <font color=white></font></td>\n",
       "<td style=\"text-align: center; vertical-align: middle;\"> <font color=white></font></td>\n",
       "<td style=\"text-align: center; vertical-align: middle;\"> <font color=yellow>0.7991525423728814</font></td>\n",
       "<td style=\"text-align: center; vertical-align: middle;\"> <font color=white>Perceptron()</font></td>\n",
       "<td style=\"text-align: center; vertical-align: middle;\"> <font color=white>4</font></td>\n",
       "<td style=\"text-align: center; vertical-align: middle;\"> <font color=white>0</font></td>\n",
       "<td style=\"text-align: center; vertical-align: middle;\"> <font color=white>2*n_jobs</font></td>\n",
       "<td style=\"text-align: center; vertical-align: middle;\"> <font color=white>predict</font></td>\n",
       "</tr>\n",
       "<tr>\n",
       "<td style=\"text-align: center; vertical-align: middle;\"> <font color=white>14:46:16</font></td>\n",
       "<td style=\"text-align: center; vertical-align: middle;\"> <font color=white>05/14/23</font></td>\n",
       "<td style=\"text-align: center; vertical-align: middle;\"> <font color=white>1.96 s</font></td>\n",
       "<td style=\"text-align: center; vertical-align: middle;\"> <font color=white>4</font></td>\n",
       "<td style=\"text-align: center; vertical-align: middle;\"> <font color=white>Numerical</font></td>\n",
       "<td style=\"text-align: center; vertical-align: middle;\"> <font color=yellow>0.763</font></td>\n",
       "<td style=\"text-align: center; vertical-align: middle;\"> <font color=yellow>0.764</font></td>\n",
       "<td style=\"text-align: center; vertical-align: middle;\"> <font color=yellow>0.764</font></td>\n",
       "<td style=\"text-align: center; vertical-align: middle;\"> <font color=yellow></font></td>\n",
       "<td style=\"text-align: center; vertical-align: middle;\"> <font color=yellow></font></td>\n",
       "<td style=\"text-align: center; vertical-align: middle;\"> <font color=yellow></font></td>\n",
       "<td style=\"text-align: center; vertical-align: middle;\"> <font color=yellow></font></td>\n",
       "<td style=\"text-align: center; vertical-align: middle;\"> <font color=yellow></font></td>\n",
       "<td style=\"text-align: center; vertical-align: middle;\"> <font color=yellow></font></td>\n",
       "</tr>\n"
      ],
      "text/plain": [
       "<IPython.core.display.HTML object>"
      ]
     },
     "metadata": {},
     "output_type": "display_data"
    }
   ],
   "source": [
    "mlq.log_metrics(train_acc, train_wf1, repeated_10fold_wf1)\n",
    "mlq.end_quest()\n",
    "mlq.show_logs(\"Perceptron\", table_dest=\"../../\", last_k=6)"
   ]
  }
 ],
 "metadata": {
  "kernelspec": {
   "display_name": "base",
   "language": "python",
   "name": "python3"
  },
  "language_info": {
   "codemirror_mode": {
    "name": "ipython",
    "version": 3
   },
   "file_extension": ".py",
   "mimetype": "text/x-python",
   "name": "python",
   "nbconvert_exporter": "python",
   "pygments_lexer": "ipython3",
   "version": "3.10.9"
  },
  "orig_nbformat": 4
 },
 "nbformat": 4,
 "nbformat_minor": 2
}
