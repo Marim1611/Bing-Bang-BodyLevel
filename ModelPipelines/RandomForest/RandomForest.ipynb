{
 "cells": [
  {
   "cell_type": "code",
   "execution_count": 16,
   "metadata": {},
   "outputs": [],
   "source": [
    "import sys; sys.path.append('../../')\n",
    "import numpy as np\n",
    "import pandas as pd\n",
    "from DataPreparation.DataPreparation import read_data\n",
    "from sklearn.metrics import classification_report\n",
    "from mlpath import mlquest as mlq\n",
    "from sklearn.model_selection import cross_val_predict\n",
    "from utils import load_hyperparameters, save_model, get_metrics\n",
    "from ModelAnalysis import cross_validation\n",
    "from sklearn.ensemble import RandomForestClassifier\n",
    "model_name= 'RandomForest'\n",
    "\n",
    "mlq.start_quest(\"RandomForest\", table_dest=\"../../\", log_defs=True)"
   ]
  },
  {
   "attachments": {},
   "cell_type": "markdown",
   "metadata": {},
   "source": [
    "# <font color=\"aqua\">Random Forest</font> Model"
   ]
  },
  {
   "attachments": {},
   "cell_type": "markdown",
   "metadata": {},
   "source": [
    "### Read the data"
   ]
  },
  {
   "cell_type": "code",
   "execution_count": 17,
   "metadata": {},
   "outputs": [],
   "source": [
    "x_data_d, y_data_d = mlq.l(read_data)(kind='Numerical', select=True)\n",
    "x_data_d = x_data_d[['Weight', 'Height','Age']]\n",
    "opt_params = load_hyperparameters(model_name)"
   ]
  },
  {
   "attachments": {},
   "cell_type": "markdown",
   "metadata": {},
   "source": [
    "### Initiate model"
   ]
  },
  {
   "cell_type": "code",
   "execution_count": 18,
   "metadata": {},
   "outputs": [],
   "source": [
    "opt_params['n_estimators'] = 500\n",
    "opt_params['max_features'] = 1\n",
    "clf = mlq.l(RandomForestClassifier)(**opt_params)"
   ]
  },
  {
   "attachments": {},
   "cell_type": "markdown",
   "metadata": {},
   "source": [
    "### Evaluate Model Bias"
   ]
  },
  {
   "cell_type": "code",
   "execution_count": 19,
   "metadata": {},
   "outputs": [
    {
     "name": "stdout",
     "output_type": "stream",
     "text": [
      "              precision    recall  f1-score   support\n",
      "\n",
      "           0      0.984     0.984     0.984       190\n",
      "           1      0.974     0.925     0.949       201\n",
      "           2      0.969     0.993     0.981       406\n",
      "           3      0.999     0.999     0.999       680\n",
      "\n",
      "    accuracy                          0.985      1477\n",
      "   macro avg      0.981     0.975     0.978      1477\n",
      "weighted avg      0.985     0.985     0.985      1477\n",
      "\n"
     ]
    }
   ],
   "source": [
    "clf.fit(x_data_d, y_data_d)\n",
    "y_pred = clf.predict(x_data_d)\n",
    "train_metrics = classification_report(y_data_d, y_pred, digits=3)\n",
    "train_acc, train_wf1 = get_metrics(train_metrics)\n",
    "print(train_metrics)"
   ]
  },
  {
   "attachments": {},
   "cell_type": "markdown",
   "metadata": {},
   "source": [
    "### Evaluate Model Generalization"
   ]
  },
  {
   "cell_type": "code",
   "execution_count": 21,
   "metadata": {},
   "outputs": [
    {
     "data": {
      "text/html": [
       "<h2 style=\"text-align:left;\">Cross-Validation Weighted F1-Score</h2><table style=\"width:50%; border-collapse: collapse; font-size: 16px; text-align:center; padding: 10px; border: 1px solid #fff;\"><tr><td style=\"border: 1px solid #fff; text-align:center; padding: 10px; color: white; border-right: 1px solid #fff;\">10-Repeated 10-fold</td></tr><tr><td style=\"border: 1px solid #fff; text-align:center; padding: 10px; color: white; opacity: 0.8; border-left: 1px solid #fff;\">0.9451</td></tr>"
      ],
      "text/plain": [
       "<IPython.core.display.HTML object>"
      ]
     },
     "metadata": {},
     "output_type": "display_data"
    }
   ],
   "source": [
    "kfold=cross_validation(clf, x_data_d, y_data_d, k=[10], n_repeats=[10], random_state=1,loo=False)\n",
    "\n",
    "val_wf1 = kfold.get(f'10-Repeated 10-fold')[0]"
   ]
  },
  {
   "attachments": {},
   "cell_type": "markdown",
   "metadata": {},
   "source": [
    "#### Save Model"
   ]
  },
  {
   "cell_type": "code",
   "execution_count": 22,
   "metadata": {},
   "outputs": [],
   "source": [
    "save_model(model_name, clf)"
   ]
  },
  {
   "attachments": {},
   "cell_type": "markdown",
   "metadata": {},
   "source": [
    "### Tracking"
   ]
  },
  {
   "cell_type": "code",
   "execution_count": 23,
   "metadata": {},
   "outputs": [
    {
     "data": {
      "text/html": [
       "<table>\n",
       "<tr>\n",
       "<th colspan=4 style=\"text-align: center; vertical-align: middle;\">info</th>\n",
       "<th colspan=4 style=\"text-align: center; vertical-align: middle;\">read_data</th>\n",
       "<th colspan=10 style=\"text-align: center; vertical-align: middle;\">RandomForestClassifier</th>\n",
       "<th colspan=2 style=\"text-align: center; vertical-align: middle;\">metrics</th>\n",
       "</tr>\n",
       "<th style=\"text-align: center; vertical-align: middle;\">time</th>\n",
       "<th style=\"text-align: center; vertical-align: middle;\">date</th>\n",
       "<th style=\"text-align: center; vertical-align: middle;\">duration</th>\n",
       "<th style=\"text-align: center; vertical-align: middle;\">id</th>\n",
       "<th style=\"text-align: center; vertical-align: middle;\">kind</th>\n",
       "<th style=\"text-align: center; vertical-align: middle;\">select</th>\n",
       "<th style=\"text-align: center; vertical-align: middle;\">split</th>\n",
       "<th style=\"text-align: center; vertical-align: middle;\">standardize</th>\n",
       "<th style=\"text-align: center; vertical-align: middle;\">max_features</th>\n",
       "<th style=\"text-align: center; vertical-align: middle;\">criterion</th>\n",
       "<th style=\"text-align: center; vertical-align: middle;\">n_estimators</th>\n",
       "<th style=\"text-align: center; vertical-align: middle;\">min_weight_fraction_leaf</th>\n",
       "<th style=\"text-align: center; vertical-align: middle;\">min_impurity_decrease</th>\n",
       "<th style=\"text-align: center; vertical-align: middle;\">bootstrap</th>\n",
       "<th style=\"text-align: center; vertical-align: middle;\">oob_score</th>\n",
       "<th style=\"text-align: center; vertical-align: middle;\">verbose</th>\n",
       "<th style=\"text-align: center; vertical-align: middle;\">warm_start</th>\n",
       "<th style=\"text-align: center; vertical-align: middle;\">ccp_alpha</th>\n",
       "<th style=\"text-align: center; vertical-align: middle;\">train_wf1</th>\n",
       "<th style=\"text-align: center; vertical-align: middle;\">val_wf1</th>\n",
       "</tr>\n",
       "<tr>\n",
       "<td style=\"text-align: center; vertical-align: middle;\"> <font color=white>01:05:41</font></td>\n",
       "<td style=\"text-align: center; vertical-align: middle;\"> <font color=white>05/15/23</font></td>\n",
       "<td style=\"text-align: center; vertical-align: middle;\"> <font color=white>13.91 s</font></td>\n",
       "<td style=\"text-align: center; vertical-align: middle;\"> <font color=white>1</font></td>\n",
       "<td style=\"text-align: center; vertical-align: middle;\"> <font color=white>Numerical</font></td>\n",
       "<td style=\"text-align: center; vertical-align: middle;\"> <font color=white>True</font></td>\n",
       "<td style=\"text-align: center; vertical-align: middle;\"> <font color=white>all</font></td>\n",
       "<td style=\"text-align: center; vertical-align: middle;\"> <font color=white>True</font></td>\n",
       "<td style=\"text-align: center; vertical-align: middle;\"> <font color=white>log2</font></td>\n",
       "<td style=\"text-align: center; vertical-align: middle;\"> <font color=white>entropy</font></td>\n",
       "<td style=\"text-align: center; vertical-align: middle;\"> <font color=white>100</font></td>\n",
       "<td style=\"text-align: center; vertical-align: middle;\"> <font color=white>0.0</font></td>\n",
       "<td style=\"text-align: center; vertical-align: middle;\"> <font color=white>0.0</font></td>\n",
       "<td style=\"text-align: center; vertical-align: middle;\"> <font color=white>True</font></td>\n",
       "<td style=\"text-align: center; vertical-align: middle;\"> <font color=white>False</font></td>\n",
       "<td style=\"text-align: center; vertical-align: middle;\"> <font color=white>0</font></td>\n",
       "<td style=\"text-align: center; vertical-align: middle;\"> <font color=white>False</font></td>\n",
       "<td style=\"text-align: center; vertical-align: middle;\"> <font color=white>0.0</font></td>\n",
       "<td style=\"text-align: center; vertical-align: middle;\"> <font color=white>0.993</font></td>\n",
       "<td style=\"text-align: center; vertical-align: middle;\"> <font color=white>0.9728</font></td>\n",
       "</tr>\n",
       "<tr>\n",
       "<td style=\"text-align: center; vertical-align: middle;\"> <font color=white>01:06:33</font></td>\n",
       "<td style=\"text-align: center; vertical-align: middle;\"> <font color=white>05/15/23</font></td>\n",
       "<td style=\"text-align: center; vertical-align: middle;\"> <font color=white>2.22 min</font></td>\n",
       "<td style=\"text-align: center; vertical-align: middle;\"> <font color=white>2</font></td>\n",
       "<td style=\"text-align: center; vertical-align: middle;\"> <font color=white>Numerical</font></td>\n",
       "<td style=\"text-align: center; vertical-align: middle;\"> <font color=white>True</font></td>\n",
       "<td style=\"text-align: center; vertical-align: middle;\"> <font color=white>all</font></td>\n",
       "<td style=\"text-align: center; vertical-align: middle;\"> <font color=white>True</font></td>\n",
       "<td style=\"text-align: center; vertical-align: middle;\"> <font color=white>log2</font></td>\n",
       "<td style=\"text-align: center; vertical-align: middle;\"> <font color=white>entropy</font></td>\n",
       "<td style=\"text-align: center; vertical-align: middle;\"> <font color=yellow>1000</font></td>\n",
       "<td style=\"text-align: center; vertical-align: middle;\"> <font color=white>0.0</font></td>\n",
       "<td style=\"text-align: center; vertical-align: middle;\"> <font color=white>0.0</font></td>\n",
       "<td style=\"text-align: center; vertical-align: middle;\"> <font color=white>True</font></td>\n",
       "<td style=\"text-align: center; vertical-align: middle;\"> <font color=white>False</font></td>\n",
       "<td style=\"text-align: center; vertical-align: middle;\"> <font color=white>0</font></td>\n",
       "<td style=\"text-align: center; vertical-align: middle;\"> <font color=white>False</font></td>\n",
       "<td style=\"text-align: center; vertical-align: middle;\"> <font color=white>0.0</font></td>\n",
       "<td style=\"text-align: center; vertical-align: middle;\"> <font color=yellow>0.995</font></td>\n",
       "<td style=\"text-align: center; vertical-align: middle;\"> <font color=yellow>0.9763</font></td>\n",
       "</tr>\n",
       "<tr>\n",
       "<td style=\"text-align: center; vertical-align: middle;\"> <font color=white>02:03:48</font></td>\n",
       "<td style=\"text-align: center; vertical-align: middle;\"> <font color=white>05/15/23</font></td>\n",
       "<td style=\"text-align: center; vertical-align: middle;\"> <font color=white>2.81 min</font></td>\n",
       "<td style=\"text-align: center; vertical-align: middle;\"> <font color=white>3</font></td>\n",
       "<td style=\"text-align: center; vertical-align: middle;\"> <font color=white>Numerical</font></td>\n",
       "<td style=\"text-align: center; vertical-align: middle;\"> <font color=white>True</font></td>\n",
       "<td style=\"text-align: center; vertical-align: middle;\"> <font color=white>all</font></td>\n",
       "<td style=\"text-align: center; vertical-align: middle;\"> <font color=white>True</font></td>\n",
       "<td style=\"text-align: center; vertical-align: middle;\"> <font color=yellow>1</font></td>\n",
       "<td style=\"text-align: center; vertical-align: middle;\"> <font color=white>entropy</font></td>\n",
       "<td style=\"text-align: center; vertical-align: middle;\"> <font color=yellow>500</font></td>\n",
       "<td style=\"text-align: center; vertical-align: middle;\"> <font color=white>0.0</font></td>\n",
       "<td style=\"text-align: center; vertical-align: middle;\"> <font color=white>0.0</font></td>\n",
       "<td style=\"text-align: center; vertical-align: middle;\"> <font color=white>True</font></td>\n",
       "<td style=\"text-align: center; vertical-align: middle;\"> <font color=white>False</font></td>\n",
       "<td style=\"text-align: center; vertical-align: middle;\"> <font color=white>0</font></td>\n",
       "<td style=\"text-align: center; vertical-align: middle;\"> <font color=white>False</font></td>\n",
       "<td style=\"text-align: center; vertical-align: middle;\"> <font color=white>0.0</font></td>\n",
       "<td style=\"text-align: center; vertical-align: middle;\"> <font color=yellow>0.985</font></td>\n",
       "<td style=\"text-align: center; vertical-align: middle;\"> <font color=yellow>0.9451</font></td>\n",
       "</tr>\n"
      ],
      "text/plain": [
       "<IPython.core.display.HTML object>"
      ]
     },
     "metadata": {},
     "output_type": "display_data"
    }
   ],
   "source": [
    "mlq.log_metrics( train_wf1, val_wf1)\n",
    "mlq.end_quest()\n",
    "mlq.show_logs(\"RandomForest\", table_dest=\"../../\", last_k=6)"
   ]
  }
 ],
 "metadata": {
  "kernelspec": {
   "display_name": "base",
   "language": "python",
   "name": "python3"
  },
  "language_info": {
   "codemirror_mode": {
    "name": "ipython",
    "version": 3
   },
   "file_extension": ".py",
   "mimetype": "text/x-python",
   "name": "python",
   "nbconvert_exporter": "python",
   "pygments_lexer": "ipython3",
   "version": "3.9.13"
  },
  "orig_nbformat": 4
 },
 "nbformat": 4,
 "nbformat_minor": 2
}
