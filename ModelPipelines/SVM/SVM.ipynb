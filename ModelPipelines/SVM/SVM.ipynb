{
 "cells": [
  {
   "cell_type": "code",
   "execution_count": 2,
   "metadata": {},
   "outputs": [
    {
     "name": "stderr",
     "output_type": "stream",
     "text": [
      "c:\\Users\\dell\\AppData\\Local\\Programs\\Python\\Python38\\lib\\site-packages\\mlpath\\mlquest\\mlquest.py:65: UserWarning: Attempting to start a run while another one is active may cause data overwrite\n",
      "  if mlquest.active == True: warnings.warn(\"Attempting to start a run while another one is active may cause data overwrite\")\n"
     ]
    }
   ],
   "source": [
    "import sys; sys.path.append('../../')\n",
    "from DataPreparation.DataPreparation import read_data\n",
    "from sklearn import svm\n",
    "import numpy as np\n",
    "from sklearn.metrics import classification_report\n",
    "from sklearn.model_selection import cross_val_predict\n",
    "from ModelPipelines.ModelAnalysis import recursive_feature_elimination\n",
    "from utils import load_hyperparameters, save_model, get_metrics\n",
    "from mlpath import mlquest as mlq\n",
    "mlq.start_quest(\"SVM\", table_dest=\"../../\", log_defs=True)\n",
    "model_name = 'SVM'\n"
   ]
  },
  {
   "attachments": {},
   "cell_type": "markdown",
   "metadata": {},
   "source": [
    "### Read the data"
   ]
  },
  {
   "cell_type": "code",
   "execution_count": 3,
   "metadata": {},
   "outputs": [],
   "source": [
    "x_data_d, y_data_d = mlq.l(read_data)(kind=\"Numerical\")\n",
    "opt_params = load_hyperparameters(model_name)"
   ]
  },
  {
   "attachments": {},
   "cell_type": "markdown",
   "metadata": {},
   "source": [
    "### Initiate SVM"
   ]
  },
  {
   "cell_type": "code",
   "execution_count": 4,
   "metadata": {},
   "outputs": [],
   "source": [
    "clf = mlq.l(svm.SVC)(kernel='linear', C=53)"
   ]
  },
  {
   "attachments": {},
   "cell_type": "markdown",
   "metadata": {},
   "source": [
    "### Train & Evaluate SVM"
   ]
  },
  {
   "cell_type": "code",
   "execution_count": 5,
   "metadata": {},
   "outputs": [
    {
     "name": "stdout",
     "output_type": "stream",
     "text": [
      "Leave-One-Out gives Accuracy: 0.9771186440677966\n",
      "              precision    recall  f1-score   support\n",
      "\n",
      "           0       0.95      0.99      0.97       152\n",
      "           1       0.95      0.92      0.94       160\n",
      "           2       0.97      0.98      0.97       324\n",
      "           3       0.99      0.99      0.99       544\n",
      "\n",
      "    accuracy                           0.98      1180\n",
      "   macro avg       0.97      0.97      0.97      1180\n",
      "weighted avg       0.98      0.98      0.98      1180\n",
      "\n",
      "10-Repeated 10-fold gives Accuracy: 0.9838983050847457\n",
      "              precision    recall  f1-score   support\n",
      "\n",
      "           0       0.97      0.99      0.98       152\n",
      "           1       0.96      0.94      0.95       160\n",
      "           2       0.98      0.98      0.98       324\n",
      "           3       1.00      1.00      1.00       544\n",
      "\n",
      "    accuracy                           0.98      1180\n",
      "   macro avg       0.98      0.98      0.98      1180\n",
      "weighted avg       0.98      0.98      0.98      1180\n",
      "\n"
     ]
    }
   ],
   "source": [
    "cross_validation(mlq, clf, x_data_d, y_data_d, k=[10], n_repeats=[10], random_state=1)"
   ]
  },
  {
   "attachments": {},
   "cell_type": "markdown",
   "metadata": {},
   "source": [
    "### Evaluate Model Generalization"
   ]
  },
  {
   "cell_type": "code",
   "execution_count": 7,
   "metadata": {},
   "outputs": [
    {
     "name": "stdout",
     "output_type": "stream",
     "text": [
      "              precision    recall  f1-score   support\n",
      "\n",
      "           0      0.950     0.993     0.971       152\n",
      "           1      0.960     0.900     0.929       160\n",
      "           2      0.963     0.975     0.969       324\n",
      "           3      0.994     0.993     0.994       544\n",
      "\n",
      "    accuracy                          0.975      1180\n",
      "   macro avg      0.967     0.965     0.966      1180\n",
      "weighted avg      0.976     0.975     0.975      1180\n",
      "\n"
     ]
    },
    {
     "name": "stderr",
     "output_type": "stream",
     "text": [
      "c:\\Users\\dell\\AppData\\Local\\Programs\\Python\\Python38\\lib\\site-packages\\mlpath\\mlquest\\mlquest.py:115: UserWarning: Attempting to log a function when no run is active will do nothing\n",
      "  warnings.warn(\"Attempting to log a function when no run is active will do nothing\")\n"
     ]
    }
   ],
   "source": [
    "y_pred = mlq.l(cross_val_predict)(clf, x_data_d, y_data_d, cv=4)\n",
    "val_metrics = classification_report(y_data_d, y_pred, digits=3)\n",
    "val_acc, val_wf1 = get_metrics(val_metrics)\n",
    "print(val_metrics)"
   ]
  },
  {
   "attachments": {},
   "cell_type": "markdown",
   "metadata": {},
   "source": [
    "### Tracking"
   ]
  },
  {
   "cell_type": "code",
   "execution_count": 6,
   "metadata": {},
   "outputs": [
    {
     "ename": "AttributeError",
     "evalue": "type object 'mlquest' has no attribute 'show_logs'",
     "output_type": "error",
     "traceback": [
      "\u001b[1;31m---------------------------------------------------------------------------\u001b[0m",
      "\u001b[1;31mAttributeError\u001b[0m                            Traceback (most recent call last)",
      "Cell \u001b[1;32mIn[6], line 1\u001b[0m\n\u001b[1;32m----> 1\u001b[0m mlq\u001b[39m.\u001b[39;49mshow_logs(quest_name\u001b[39m=\u001b[39m\u001b[39m\"\u001b[39m\u001b[39mSVM\u001b[39m\u001b[39m\"\u001b[39m, table_dest\u001b[39m=\u001b[39m\u001b[39m\"\u001b[39m\u001b[39m../../\u001b[39m\u001b[39m\"\u001b[39m, last_k\u001b[39m=\u001b[39m\u001b[39m10\u001b[39m)\n",
      "\u001b[1;31mAttributeError\u001b[0m: type object 'mlquest' has no attribute 'show_logs'"
     ]
    }
   ],
   "source": [
    "mlq.show_logs(quest_name=\"SVM\", table_dest=\"../../\", last_k=10)"
   ]
  }
 ],
 "metadata": {
  "kernelspec": {
   "display_name": "base",
   "language": "python",
   "name": "python3"
  },
  "language_info": {
   "codemirror_mode": {
    "name": "ipython",
    "version": 3
   },
   "file_extension": ".py",
   "mimetype": "text/x-python",
   "name": "python",
   "nbconvert_exporter": "python",
   "pygments_lexer": "ipython3",
   "version": "3.8.5"
  },
  "orig_nbformat": 4
 },
 "nbformat": 4,
 "nbformat_minor": 2
}
