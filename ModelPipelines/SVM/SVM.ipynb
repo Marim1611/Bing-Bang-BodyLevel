{
 "cells": [
  {
   "cell_type": "code",
   "execution_count": 1,
   "metadata": {},
   "outputs": [],
   "source": [
    "import sys; sys.path.append('../../')\n",
    "import numpy as np\n",
    "from DataPreparation.DataPreparation import read_data\n",
    "from utils import load_hyperparameters, save_model, get_metrics\n",
    "from sklearn import svm\n",
    "from sklearn.metrics import classification_report\n",
    "from mlpath import mlquest as mlq\n",
    "from ModelAnalysis import cross_validation\n",
    "import pickle\n",
    "model_name = 'SVM'\n",
    "\n",
    "mlq.start_quest(model_name, table_dest=\"../../\")"
   ]
  },
  {
   "attachments": {},
   "cell_type": "markdown",
   "metadata": {},
   "source": [
    "# <font color=\"aqua\">SVM</font> Model"
   ]
  },
  {
   "attachments": {},
   "cell_type": "markdown",
   "metadata": {},
   "source": [
    "### Read the data"
   ]
  },
  {
   "cell_type": "code",
   "execution_count": 2,
   "metadata": {},
   "outputs": [],
   "source": [
    "x_data_d, y_data_d = mlq.l(read_data)(kind=\"Numerical\")\n",
    "opt_params = load_hyperparameters(model_name)"
   ]
  },
  {
   "attachments": {},
   "cell_type": "markdown",
   "metadata": {},
   "source": [
    "### Initiate model"
   ]
  },
  {
   "cell_type": "code",
   "execution_count": 3,
   "metadata": {},
   "outputs": [],
   "source": [
    "#clf = mlq.l(svm.SVC)(**opt_params)\n",
    "clf = mlq.l(svm.SVC)(kernel='linear', C=53)"
   ]
  },
  {
   "attachments": {},
   "cell_type": "markdown",
   "metadata": {},
   "source": [
    "### Evaluate Model Bias"
   ]
  },
  {
   "cell_type": "code",
   "execution_count": 4,
   "metadata": {},
   "outputs": [
    {
     "name": "stdout",
     "output_type": "stream",
     "text": [
      "              precision    recall  f1-score   support\n",
      "\n",
      "           0      0.980     0.987     0.984       152\n",
      "           1      0.969     0.969     0.969       160\n",
      "           2      0.994     0.985     0.989       324\n",
      "           3      0.996     1.000     0.998       544\n",
      "\n",
      "    accuracy                          0.990      1180\n",
      "   macro avg      0.985     0.985     0.985      1180\n",
      "weighted avg      0.990     0.990     0.990      1180\n",
      "\n"
     ]
    }
   ],
   "source": [
    "clf.fit(x_data_d, y_data_d)\n",
    "y_pred = clf.predict(x_data_d)\n",
    "train_metrics = classification_report(y_data_d, y_pred, digits=3)\n",
    "train_acc, train_wf1 = get_metrics(train_metrics)\n",
    "print(train_metrics)"
   ]
  },
  {
   "attachments": {},
   "cell_type": "markdown",
   "metadata": {},
   "source": [
    "### Evaluate Model Generalization"
   ]
  },
  {
   "cell_type": "code",
   "execution_count": 5,
   "metadata": {},
   "outputs": [
    {
     "data": {
      "text/html": [
       "<h2 style=\"text-align:left;\">Cross-Validation Accuracy</h2><table style=\"width:50%; border-collapse: collapse; font-size: 16px; text-align:center; padding: 10px; border: 1px solid #fff;\"><tr><td style=\"border: 1px solid #fff; text-align:center; padding: 10px; color: white; border-right: 1px solid #fff;\">loo_acc</td><td style=\"border: 1px solid #fff; text-align:center; padding: 10px; color: white; border-right: 1px solid #fff;\">10-Repeated 10-fold</td></tr><tr><td style=\"border: 1px solid #fff; text-align:center; padding: 10px; color: white; opacity: 0.8; border-left: 1px solid #fff;\">0.9771</td><td style=\"border: 1px solid #fff; text-align:center; padding: 10px; color: white; opacity: 0.8; border-left: 1px solid #fff;\">0.9839</td></tr>"
      ],
      "text/plain": [
       "<IPython.core.display.HTML object>"
      ]
     },
     "metadata": {},
     "output_type": "display_data"
    },
    {
     "data": {
      "text/html": [
       "<h2 style=\"text-align:left;\">Cross-Validation Weighted F1-Score</h2><table style=\"width:50%; border-collapse: collapse; font-size: 16px; text-align:center; padding: 10px; border: 1px solid #fff;\"><tr><td style=\"border: 1px solid #fff; text-align:center; padding: 10px; color: white; border-right: 1px solid #fff;\">loo_wf1</td><td style=\"border: 1px solid #fff; text-align:center; padding: 10px; color: white; border-right: 1px solid #fff;\">10-Repeated 10-fold</td></tr><tr><td style=\"border: 1px solid #fff; text-align:center; padding: 10px; color: white; opacity: 0.8; border-left: 1px solid #fff;\">0.977</td><td style=\"border: 1px solid #fff; text-align:center; padding: 10px; color: white; opacity: 0.8; border-left: 1px solid #fff;\">0.9839</td></tr>"
      ],
      "text/plain": [
       "<IPython.core.display.HTML object>"
      ]
     },
     "metadata": {},
     "output_type": "display_data"
    }
   ],
   "source": [
    "loo, kfold=cross_validation(clf, x_data_d, y_data_d, k=[10], n_repeats=[10], random_state=1)\n",
    "\n",
    "loo_acc=loo.get('loo_acc')\n",
    "loo_wf1=loo.get('loo_wf1')\n",
    "repeated_10fold_acc, repeated_10fold_wf1 = kfold.get(f'10-Repeated 10-fold')[:2]    \n",
    "\n",
    "# loo_report=loo.get('loo_report')\n",
    "# repeated_10fold_report= kfold.get(f'10-Repeated 10-fold')[2]\n",
    "# print(f'Leave-One-Out Report:\\n {loo_report}')\n",
    "# print(f'10-Repeated 10-fold Report:\\n {repeated_10fold_report}')"
   ]
  },
  {
   "attachments": {},
   "cell_type": "markdown",
   "metadata": {},
   "source": [
    "#### Save Model"
   ]
  },
  {
   "cell_type": "code",
   "execution_count": 6,
   "metadata": {},
   "outputs": [],
   "source": [
    "save_model(model_name, clf)"
   ]
  },
  {
   "attachments": {},
   "cell_type": "markdown",
   "metadata": {},
   "source": [
    "### Tracking"
   ]
  },
  {
   "cell_type": "code",
   "execution_count": 7,
   "metadata": {},
   "outputs": [
    {
     "data": {
      "text/html": [
       "<table>\n",
       "<tr>\n",
       "<th colspan=1 style=\"text-align: center; vertical-align: middle;\">info</th>\n",
       "<th colspan=1 style=\"text-align: center; vertical-align: middle;\">read_data</th>\n",
       "<th colspan=2 style=\"text-align: center; vertical-align: middle;\">SVC</th>\n",
       "<th colspan=7 style=\"text-align: center; vertical-align: middle;\">metrics</th>\n",
       "<th colspan=5 style=\"text-align: center; vertical-align: middle;\">cross_val_predict</th>\n",
       "</tr>\n",
       "<th style=\"text-align: center; vertical-align: middle;\">id</th>\n",
       "<th style=\"text-align: center; vertical-align: middle;\">kind</th>\n",
       "<th style=\"text-align: center; vertical-align: middle;\">kernel</th>\n",
       "<th style=\"text-align: center; vertical-align: middle;\">C</th>\n",
       "<th style=\"text-align: center; vertical-align: middle;\">train_acc</th>\n",
       "<th style=\"text-align: center; vertical-align: middle;\">train_wf1</th>\n",
       "<th style=\"text-align: center; vertical-align: middle;\">loo_acc</th>\n",
       "<th style=\"text-align: center; vertical-align: middle;\">loo_wf1</th>\n",
       "<th style=\"text-align: center; vertical-align: middle;\">repeated_10fold_acc</th>\n",
       "<th style=\"text-align: center; vertical-align: middle;\">repeated_10fold_wf1</th>\n",
       "<th style=\"text-align: center; vertical-align: middle;\">accuracy</th>\n",
       "<th style=\"text-align: center; vertical-align: middle;\">estimator</th>\n",
       "<th style=\"text-align: center; vertical-align: middle;\">cv</th>\n",
       "<th style=\"text-align: center; vertical-align: middle;\">verbose</th>\n",
       "<th style=\"text-align: center; vertical-align: middle;\">pre_dispatch</th>\n",
       "<th style=\"text-align: center; vertical-align: middle;\">method</th>\n",
       "</tr>\n",
       "<tr>\n",
       "<td style=\"text-align: center; vertical-align: middle;\"> <font color=white>1</font></td>\n",
       "<td style=\"text-align: center; vertical-align: middle;\"> <font color=white>Numerical</font></td>\n",
       "<td style=\"text-align: center; vertical-align: middle;\"> <font color=white>linear</font></td>\n",
       "<td style=\"text-align: center; vertical-align: middle;\"> <font color=white>1</font></td>\n",
       "<td style=\"text-align: center; vertical-align: middle;\"> <font color=white></font></td>\n",
       "<td style=\"text-align: center; vertical-align: middle;\"> <font color=white></font></td>\n",
       "<td style=\"text-align: center; vertical-align: middle;\"> <font color=white></font></td>\n",
       "<td style=\"text-align: center; vertical-align: middle;\"> <font color=white></font></td>\n",
       "<td style=\"text-align: center; vertical-align: middle;\"> <font color=white></font></td>\n",
       "<td style=\"text-align: center; vertical-align: middle;\"> <font color=white></font></td>\n",
       "<td style=\"text-align: center; vertical-align: middle;\"> <font color=white>0.9584745762711865</font></td>\n",
       "<td style=\"text-align: center; vertical-align: middle;\"> <font color=white>SVC(C=1, kernel='linear')</font></td>\n",
       "<td style=\"text-align: center; vertical-align: middle;\"> <font color=white>4</font></td>\n",
       "<td style=\"text-align: center; vertical-align: middle;\"> <font color=white>0</font></td>\n",
       "<td style=\"text-align: center; vertical-align: middle;\"> <font color=white>2*n_jobs</font></td>\n",
       "<td style=\"text-align: center; vertical-align: middle;\"> <font color=white>predict</font></td>\n",
       "</tr>\n",
       "<tr>\n",
       "<td style=\"text-align: center; vertical-align: middle;\"> <font color=white>3</font></td>\n",
       "<td style=\"text-align: center; vertical-align: middle;\"> <font color=white>Numerical</font></td>\n",
       "<td style=\"text-align: center; vertical-align: middle;\"> <font color=white>linear</font></td>\n",
       "<td style=\"text-align: center; vertical-align: middle;\"> <font color=yellow>7</font></td>\n",
       "<td style=\"text-align: center; vertical-align: middle;\"> <font color=white></font></td>\n",
       "<td style=\"text-align: center; vertical-align: middle;\"> <font color=white></font></td>\n",
       "<td style=\"text-align: center; vertical-align: middle;\"> <font color=white></font></td>\n",
       "<td style=\"text-align: center; vertical-align: middle;\"> <font color=white></font></td>\n",
       "<td style=\"text-align: center; vertical-align: middle;\"> <font color=white></font></td>\n",
       "<td style=\"text-align: center; vertical-align: middle;\"> <font color=white></font></td>\n",
       "<td style=\"text-align: center; vertical-align: middle;\"> <font color=yellow>0.9754237288135593</font></td>\n",
       "<td style=\"text-align: center; vertical-align: middle;\"> <font color=yellow>SVC(C=7, kernel='linear')</font></td>\n",
       "<td style=\"text-align: center; vertical-align: middle;\"> <font color=white>4</font></td>\n",
       "<td style=\"text-align: center; vertical-align: middle;\"> <font color=white>0</font></td>\n",
       "<td style=\"text-align: center; vertical-align: middle;\"> <font color=white>2*n_jobs</font></td>\n",
       "<td style=\"text-align: center; vertical-align: middle;\"> <font color=white>predict</font></td>\n",
       "</tr>\n",
       "<tr>\n",
       "<td style=\"text-align: center; vertical-align: middle;\"> <font color=white>17</font></td>\n",
       "<td style=\"text-align: center; vertical-align: middle;\"> <font color=white>Numerical</font></td>\n",
       "<td style=\"text-align: center; vertical-align: middle;\"> <font color=white>linear</font></td>\n",
       "<td style=\"text-align: center; vertical-align: middle;\"> <font color=yellow>53</font></td>\n",
       "<td style=\"text-align: center; vertical-align: middle;\"> <font color=yellow>0.99</font></td>\n",
       "<td style=\"text-align: center; vertical-align: middle;\"> <font color=yellow>0.99</font></td>\n",
       "<td style=\"text-align: center; vertical-align: middle;\"> <font color=yellow>0.9771</font></td>\n",
       "<td style=\"text-align: center; vertical-align: middle;\"> <font color=yellow>0.977</font></td>\n",
       "<td style=\"text-align: center; vertical-align: middle;\"> <font color=yellow>0.9839</font></td>\n",
       "<td style=\"text-align: center; vertical-align: middle;\"> <font color=yellow>0.9839</font></td>\n",
       "<td style=\"text-align: center; vertical-align: middle;\"> <font color=yellow></font></td>\n",
       "<td style=\"text-align: center; vertical-align: middle;\"> <font color=yellow></font></td>\n",
       "<td style=\"text-align: center; vertical-align: middle;\"> <font color=yellow></font></td>\n",
       "<td style=\"text-align: center; vertical-align: middle;\"> <font color=yellow></font></td>\n",
       "<td style=\"text-align: center; vertical-align: middle;\"> <font color=yellow></font></td>\n",
       "<td style=\"text-align: center; vertical-align: middle;\"> <font color=yellow></font></td>\n",
       "</tr>\n"
      ],
      "text/plain": [
       "<IPython.core.display.HTML object>"
      ]
     },
     "metadata": {},
     "output_type": "display_data"
    }
   ],
   "source": [
    "mlq.log_metrics(train_acc, train_wf1,loo_acc, loo_wf1, repeated_10fold_acc, repeated_10fold_wf1)\n",
    "mlq.end_quest()\n",
    "mlq.show_logs(\"SVM\", table_dest=\"../../\", last_k=6)"
   ]
  }
 ],
 "metadata": {
  "kernelspec": {
   "display_name": "base",
   "language": "python",
   "name": "python3"
  },
  "language_info": {
   "codemirror_mode": {
    "name": "ipython",
    "version": 3
   },
   "file_extension": ".py",
   "mimetype": "text/x-python",
   "name": "python",
   "nbconvert_exporter": "python",
   "pygments_lexer": "ipython3",
   "version": "3.10.9"
  },
  "orig_nbformat": 4
 },
 "nbformat": 4,
 "nbformat_minor": 2
}
