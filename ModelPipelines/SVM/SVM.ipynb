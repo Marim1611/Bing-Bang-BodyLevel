{
 "cells": [
  {
   "cell_type": "code",
   "execution_count": 1,
   "metadata": {},
   "outputs": [],
   "source": [
    "import sys; sys.path.append('../../')\n",
    "from DataPreparation.DataPreparation import read_data\n",
    "from sklearn import svm\n",
    "import numpy as np\n",
    "from sklearn.metrics import classification_report\n",
    "from sklearn.model_selection import cross_val_predict\n",
    "from ModelPipelines.ModelAnalysis import recursive_feature_elimination\n",
    "from mlpath import mlquest as mlq\n",
    "mlq.start_quest(\"SVM\", table_dest=\"../../\", log_defs=True)"
   ]
  },
  {
   "attachments": {},
   "cell_type": "markdown",
   "metadata": {},
   "source": [
    "### Read the data"
   ]
  },
  {
   "cell_type": "code",
   "execution_count": 2,
   "metadata": {},
   "outputs": [],
   "source": [
    "x_data_d, y_data_d = mlq.l(read_data)(kind=\"Numerical\")"
   ]
  },
  {
   "attachments": {},
   "cell_type": "markdown",
   "metadata": {},
   "source": [
    "### Initiate SVM"
   ]
  },
  {
   "cell_type": "code",
   "execution_count": 3,
   "metadata": {},
   "outputs": [],
   "source": [
    "clf = mlq.l(svm.SVC)(kernel='linear', C=7)"
   ]
  },
  {
   "attachments": {},
   "cell_type": "markdown",
   "metadata": {},
   "source": [
    "### Train & Evaluate SVM"
   ]
  },
  {
   "cell_type": "code",
   "execution_count": 4,
   "metadata": {},
   "outputs": [
    {
     "name": "stdout",
     "output_type": "stream",
     "text": [
      "              precision    recall  f1-score   support\n",
      "\n",
      "           0       0.95      0.99      0.97       152\n",
      "           1       0.96      0.90      0.93       160\n",
      "           2       0.96      0.98      0.97       324\n",
      "           3       0.99      0.99      0.99       544\n",
      "\n",
      "    accuracy                           0.98      1180\n",
      "   macro avg       0.97      0.97      0.97      1180\n",
      "weighted avg       0.98      0.98      0.98      1180\n",
      "\n"
     ]
    }
   ],
   "source": [
    "y_pred = mlq.l(cross_val_predict)(clf, x_data_d, y_data_d, cv=4)\n",
    "accuracy = np.mean(y_pred == y_data_d)\n",
    "mlq.log_metrics(accuracy=accuracy.item())\n",
    "print(classification_report(y_data_d, y_pred))\n",
    "mlq.end_quest()"
   ]
  },
  {
   "attachments": {},
   "cell_type": "markdown",
   "metadata": {},
   "source": [
    "### Tracking"
   ]
  },
  {
   "cell_type": "code",
   "execution_count": 5,
   "metadata": {},
   "outputs": [
    {
     "data": {
      "text/html": [
       "<table>\n",
       "<tr>\n",
       "<th colspan=1 style=\"text-align: center; vertical-align: middle;\">info</th>\n",
       "<th colspan=3 style=\"text-align: center; vertical-align: middle;\">read_data</th>\n",
       "<th colspan=13 style=\"text-align: center; vertical-align: middle;\">SVC</th>\n",
       "<th colspan=5 style=\"text-align: center; vertical-align: middle;\">cross_val_predict</th>\n",
       "<th colspan=1 style=\"text-align: center; vertical-align: middle;\">metrics</th>\n",
       "</tr>\n",
       "<th style=\"text-align: center; vertical-align: middle;\">id</th>\n",
       "<th style=\"text-align: center; vertical-align: middle;\">kind</th>\n",
       "<th style=\"text-align: center; vertical-align: middle;\">split</th>\n",
       "<th style=\"text-align: center; vertical-align: middle;\">standardize</th>\n",
       "<th style=\"text-align: center; vertical-align: middle;\">kernel</th>\n",
       "<th style=\"text-align: center; vertical-align: middle;\">C</th>\n",
       "<th style=\"text-align: center; vertical-align: middle;\">degree</th>\n",
       "<th style=\"text-align: center; vertical-align: middle;\">gamma</th>\n",
       "<th style=\"text-align: center; vertical-align: middle;\">coef0</th>\n",
       "<th style=\"text-align: center; vertical-align: middle;\">shrinking</th>\n",
       "<th style=\"text-align: center; vertical-align: middle;\">probability</th>\n",
       "<th style=\"text-align: center; vertical-align: middle;\">tol</th>\n",
       "<th style=\"text-align: center; vertical-align: middle;\">cache_size</th>\n",
       "<th style=\"text-align: center; vertical-align: middle;\">verbose</th>\n",
       "<th style=\"text-align: center; vertical-align: middle;\">max_iter</th>\n",
       "<th style=\"text-align: center; vertical-align: middle;\">decision_function_shape</th>\n",
       "<th style=\"text-align: center; vertical-align: middle;\">break_ties</th>\n",
       "<th style=\"text-align: center; vertical-align: middle;\">estimator</th>\n",
       "<th style=\"text-align: center; vertical-align: middle;\">cv</th>\n",
       "<th style=\"text-align: center; vertical-align: middle;\">verbose</th>\n",
       "<th style=\"text-align: center; vertical-align: middle;\">pre_dispatch</th>\n",
       "<th style=\"text-align: center; vertical-align: middle;\">method</th>\n",
       "<th style=\"text-align: center; vertical-align: middle;\">accuracy</th>\n",
       "</tr>\n",
       "<tr>\n",
       "<td style=\"text-align: center; vertical-align: middle;\"> <font color=white>1</font></td>\n",
       "<td style=\"text-align: center; vertical-align: middle;\"> <font color=white>Numerical</font></td>\n",
       "<td style=\"text-align: center; vertical-align: middle;\"> <font color=white>train</font></td>\n",
       "<td style=\"text-align: center; vertical-align: middle;\"> <font color=white>True</font></td>\n",
       "<td style=\"text-align: center; vertical-align: middle;\"> <font color=white>linear</font></td>\n",
       "<td style=\"text-align: center; vertical-align: middle;\"> <font color=white>1</font></td>\n",
       "<td style=\"text-align: center; vertical-align: middle;\"> <font color=white>3</font></td>\n",
       "<td style=\"text-align: center; vertical-align: middle;\"> <font color=white>scale</font></td>\n",
       "<td style=\"text-align: center; vertical-align: middle;\"> <font color=white>0.0</font></td>\n",
       "<td style=\"text-align: center; vertical-align: middle;\"> <font color=white>True</font></td>\n",
       "<td style=\"text-align: center; vertical-align: middle;\"> <font color=white>False</font></td>\n",
       "<td style=\"text-align: center; vertical-align: middle;\"> <font color=white>0.001</font></td>\n",
       "<td style=\"text-align: center; vertical-align: middle;\"> <font color=white>200</font></td>\n",
       "<td style=\"text-align: center; vertical-align: middle;\"> <font color=white>False</font></td>\n",
       "<td style=\"text-align: center; vertical-align: middle;\"> <font color=white>-1</font></td>\n",
       "<td style=\"text-align: center; vertical-align: middle;\"> <font color=white>ovr</font></td>\n",
       "<td style=\"text-align: center; vertical-align: middle;\"> <font color=white>False</font></td>\n",
       "<td style=\"text-align: center; vertical-align: middle;\"> <font color=white>SVC(C=1, kernel='linear')</font></td>\n",
       "<td style=\"text-align: center; vertical-align: middle;\"> <font color=white>4</font></td>\n",
       "<td style=\"text-align: center; vertical-align: middle;\"> <font color=white>0</font></td>\n",
       "<td style=\"text-align: center; vertical-align: middle;\"> <font color=white>2*n_jobs</font></td>\n",
       "<td style=\"text-align: center; vertical-align: middle;\"> <font color=white>predict</font></td>\n",
       "<td style=\"text-align: center; vertical-align: middle;\"> <font color=white>0.9584745762711865</font></td>\n",
       "</tr>\n",
       "<tr>\n",
       "<td style=\"text-align: center; vertical-align: middle;\"> <font color=white>3</font></td>\n",
       "<td style=\"text-align: center; vertical-align: middle;\"> <font color=white>Numerical</font></td>\n",
       "<td style=\"text-align: center; vertical-align: middle;\"> <font color=white>train</font></td>\n",
       "<td style=\"text-align: center; vertical-align: middle;\"> <font color=white>True</font></td>\n",
       "<td style=\"text-align: center; vertical-align: middle;\"> <font color=white>linear</font></td>\n",
       "<td style=\"text-align: center; vertical-align: middle;\"> <font color=yellow>7</font></td>\n",
       "<td style=\"text-align: center; vertical-align: middle;\"> <font color=white>3</font></td>\n",
       "<td style=\"text-align: center; vertical-align: middle;\"> <font color=white>scale</font></td>\n",
       "<td style=\"text-align: center; vertical-align: middle;\"> <font color=white>0.0</font></td>\n",
       "<td style=\"text-align: center; vertical-align: middle;\"> <font color=white>True</font></td>\n",
       "<td style=\"text-align: center; vertical-align: middle;\"> <font color=white>False</font></td>\n",
       "<td style=\"text-align: center; vertical-align: middle;\"> <font color=white>0.001</font></td>\n",
       "<td style=\"text-align: center; vertical-align: middle;\"> <font color=white>200</font></td>\n",
       "<td style=\"text-align: center; vertical-align: middle;\"> <font color=white>False</font></td>\n",
       "<td style=\"text-align: center; vertical-align: middle;\"> <font color=white>-1</font></td>\n",
       "<td style=\"text-align: center; vertical-align: middle;\"> <font color=white>ovr</font></td>\n",
       "<td style=\"text-align: center; vertical-align: middle;\"> <font color=white>False</font></td>\n",
       "<td style=\"text-align: center; vertical-align: middle;\"> <font color=yellow>SVC(C=7, kernel='linear')</font></td>\n",
       "<td style=\"text-align: center; vertical-align: middle;\"> <font color=white>4</font></td>\n",
       "<td style=\"text-align: center; vertical-align: middle;\"> <font color=white>0</font></td>\n",
       "<td style=\"text-align: center; vertical-align: middle;\"> <font color=white>2*n_jobs</font></td>\n",
       "<td style=\"text-align: center; vertical-align: middle;\"> <font color=white>predict</font></td>\n",
       "<td style=\"text-align: center; vertical-align: middle;\"> <font color=yellow>0.9754237288135593</font></td>\n",
       "</tr>\n"
      ],
      "text/plain": [
       "<IPython.core.display.HTML object>"
      ]
     },
     "metadata": {},
     "output_type": "display_data"
    }
   ],
   "source": [
    "mlq.show_logs(quest_name=\"SVM\", table_dest=\"../../\", last_k=10)"
   ]
  }
 ],
 "metadata": {
  "kernelspec": {
   "display_name": "base",
   "language": "python",
   "name": "python3"
  },
  "language_info": {
   "codemirror_mode": {
    "name": "ipython",
    "version": 3
   },
   "file_extension": ".py",
   "mimetype": "text/x-python",
   "name": "python",
   "nbconvert_exporter": "python",
   "pygments_lexer": "ipython3",
   "version": "3.9.13"
  },
  "orig_nbformat": 4
 },
 "nbformat": 4,
 "nbformat_minor": 2
}
