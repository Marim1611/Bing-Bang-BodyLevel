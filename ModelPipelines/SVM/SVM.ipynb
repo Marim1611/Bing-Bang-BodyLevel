{
 "cells": [
  {
   "cell_type": "code",
   "execution_count": 19,
   "metadata": {},
   "outputs": [],
   "source": [
    "import sys; sys.path.append('../../')\n",
    "import numpy as np\n",
    "from DataPreparation.DataPreparation import read_data\n",
    "from utils import load_hyperparameters, save_model, get_metrics\n",
    "from sklearn import svm\n",
    "from sklearn.metrics import classification_report\n",
    "from mlpath import mlquest as mlq\n",
    "from ModelAnalysis import cross_validation\n",
    "import pickle\n",
    "model_name = 'SVM'\n",
    "\n",
    "mlq.start_quest(model_name, table_dest=\"../../\", log_defs=True)"
   ]
  },
  {
   "attachments": {},
   "cell_type": "markdown",
   "metadata": {},
   "source": [
    "# <font color=\"aqua\">SVM</font> Model"
   ]
  },
  {
   "attachments": {},
   "cell_type": "markdown",
   "metadata": {},
   "source": [
    "### Read the data"
   ]
  },
  {
   "cell_type": "code",
   "execution_count": 20,
   "metadata": {},
   "outputs": [],
   "source": [
    "# x_data_d, y_data_d = mlq.l(read_data)(encode='Frequency', selected=False)\n",
    "x_data_d, y_data_d = mlq.l(read_data)(kind='Numerical', selected=False )\n",
    "\n",
    "# x_data_d =x_data_d [['Phys_Act','Height','Weight']]\n",
    "opt_params = load_hyperparameters(model_name)"
   ]
  },
  {
   "attachments": {},
   "cell_type": "markdown",
   "metadata": {},
   "source": [
    "### Initiate model"
   ]
  },
  {
   "cell_type": "code",
   "execution_count": 21,
   "metadata": {},
   "outputs": [],
   "source": [
    "# clf = mlq.l(svm.SVC)(**opt_params)\n",
    "clf = mlq.l(svm.SVC)(kernel='linear', C=1186.866)"
   ]
  },
  {
   "cell_type": "code",
   "execution_count": 22,
   "metadata": {},
   "outputs": [
    {
     "name": "stdout",
     "output_type": "stream",
     "text": [
      "{'C': 1186.865625052541, 'gamma': 0.551065306122449, 'kernel': 'linear'}\n"
     ]
    }
   ],
   "source": [
    "print(opt_params)"
   ]
  },
  {
   "attachments": {},
   "cell_type": "markdown",
   "metadata": {},
   "source": [
    "### Evaluate Model Bias"
   ]
  },
  {
   "cell_type": "code",
   "execution_count": 23,
   "metadata": {},
   "outputs": [
    {
     "name": "stdout",
     "output_type": "stream",
     "text": [
      "              precision    recall  f1-score   support\n",
      "\n",
      "           0      0.987     0.993     0.990       152\n",
      "           1      0.981     0.975     0.978       160\n",
      "           2      0.991     0.994     0.992       324\n",
      "           3      1.000     0.998     0.999       544\n",
      "\n",
      "    accuracy                          0.993      1180\n",
      "   macro avg      0.990     0.990     0.990      1180\n",
      "weighted avg      0.993     0.993     0.993      1180\n",
      "\n"
     ]
    }
   ],
   "source": [
    "clf.fit(x_data_d, y_data_d)\n",
    "y_pred = clf.predict(x_data_d)\n",
    "train_metrics = classification_report(y_data_d, y_pred, digits=3)\n",
    "train_acc, train_wf1 = get_metrics(train_metrics)\n",
    "print(train_metrics)"
   ]
  },
  {
   "cell_type": "code",
   "execution_count": 24,
   "metadata": {},
   "outputs": [
    {
     "name": "stdout",
     "output_type": "stream",
     "text": [
      "Percentage of support vectors:  55\n",
      "number of support vectors:  55\n"
     ]
    }
   ],
   "source": [
    "# perecentage of support vectors\n",
    "sv =int( np.sum(clf.n_support_)) #/ len(x_data_d)\n",
    "print(\"Percentage of support vectors: \",sv)\n",
    "print(\"number of support vectors: \", np.sum(clf.n_support_))"
   ]
  },
  {
   "attachments": {},
   "cell_type": "markdown",
   "metadata": {},
   "source": [
    "### Evaluate Model Generalization"
   ]
  },
  {
   "cell_type": "code",
   "execution_count": 25,
   "metadata": {},
   "outputs": [
    {
     "data": {
      "text/html": [
       "<h2 style=\"text-align:left;\">Cross-Validation Weighted F1-Score</h2><table style=\"width:50%; border-collapse: collapse; font-size: 16px; text-align:center; padding: 10px; border: 1px solid #fff;\"><tr><td style=\"border: 1px solid #fff; text-align:center; padding: 10px; color: white; border-right: 1px solid #fff;\">10-Repeated 10-fold</td></tr><tr><td style=\"border: 1px solid #fff; text-align:center; padding: 10px; color: white; opacity: 0.8; border-left: 1px solid #fff;\">0.9865</td></tr>"
      ],
      "text/plain": [
       "<IPython.core.display.HTML object>"
      ]
     },
     "metadata": {},
     "output_type": "display_data"
    }
   ],
   "source": [
    "kfold=cross_validation(clf, x_data_d, y_data_d, k=[10], n_repeats=[10], random_state=1,loo=False)\n",
    "\n",
    "val_wf1 = kfold.get(f'10-Repeated 10-fold')[0] \n",
    "# repeated_10fold_report= kfold.get(f'10-Repeated 10-fold')[1]\n",
    "# print(f'10-Repeated 10-fold Report:\\n {repeated_10fold_report}')\n",
    "\n",
    "# loo_wf1=loo.get('loo_wf1')\n",
    "# loo_report=loo.get('loo_report')\n",
    "# print(f'Leave-One-Out Report:\\n {loo_report}')"
   ]
  },
  {
   "attachments": {},
   "cell_type": "markdown",
   "metadata": {},
   "source": [
    "#### Save Model"
   ]
  },
  {
   "cell_type": "code",
   "execution_count": 26,
   "metadata": {},
   "outputs": [],
   "source": [
    "save_model(model_name, clf)"
   ]
  },
  {
   "attachments": {},
   "cell_type": "markdown",
   "metadata": {},
   "source": [
    "### Tracking"
   ]
  },
  {
   "cell_type": "code",
   "execution_count": 27,
   "metadata": {},
   "outputs": [
    {
     "data": {
      "text/html": [
       "<table>\n",
       "<tr>\n",
       "<th colspan=4 style=\"text-align: center; vertical-align: middle;\">info</th>\n",
       "<th colspan=5 style=\"text-align: center; vertical-align: middle;\">read_data</th>\n",
       "<th colspan=13 style=\"text-align: center; vertical-align: middle;\">SVC</th>\n",
       "<th colspan=4 style=\"text-align: center; vertical-align: middle;\">metrics</th>\n",
       "</tr>\n",
       "<th style=\"text-align: center; vertical-align: middle;\">time</th>\n",
       "<th style=\"text-align: center; vertical-align: middle;\">date</th>\n",
       "<th style=\"text-align: center; vertical-align: middle;\">duration</th>\n",
       "<th style=\"text-align: center; vertical-align: middle;\">id</th>\n",
       "<th style=\"text-align: center; vertical-align: middle;\">kind</th>\n",
       "<th style=\"text-align: center; vertical-align: middle;\">selected</th>\n",
       "<th style=\"text-align: center; vertical-align: middle;\">split</th>\n",
       "<th style=\"text-align: center; vertical-align: middle;\">standardize</th>\n",
       "<th style=\"text-align: center; vertical-align: middle;\">encode</th>\n",
       "<th style=\"text-align: center; vertical-align: middle;\">kernel</th>\n",
       "<th style=\"text-align: center; vertical-align: middle;\">C</th>\n",
       "<th style=\"text-align: center; vertical-align: middle;\">degree</th>\n",
       "<th style=\"text-align: center; vertical-align: middle;\">gamma</th>\n",
       "<th style=\"text-align: center; vertical-align: middle;\">coef0</th>\n",
       "<th style=\"text-align: center; vertical-align: middle;\">shrinking</th>\n",
       "<th style=\"text-align: center; vertical-align: middle;\">probability</th>\n",
       "<th style=\"text-align: center; vertical-align: middle;\">tol</th>\n",
       "<th style=\"text-align: center; vertical-align: middle;\">cache_size</th>\n",
       "<th style=\"text-align: center; vertical-align: middle;\">verbose</th>\n",
       "<th style=\"text-align: center; vertical-align: middle;\">max_iter</th>\n",
       "<th style=\"text-align: center; vertical-align: middle;\">decision_function_shape</th>\n",
       "<th style=\"text-align: center; vertical-align: middle;\">break_ties</th>\n",
       "<th style=\"text-align: center; vertical-align: middle;\">train_acc</th>\n",
       "<th style=\"text-align: center; vertical-align: middle;\">train_wf1</th>\n",
       "<th style=\"text-align: center; vertical-align: middle;\">val_wf1</th>\n",
       "<th style=\"text-align: center; vertical-align: middle;\">sv</th>\n",
       "</tr>\n",
       "<tr>\n",
       "<td style=\"text-align: center; vertical-align: middle;\"> <font color=white>16:05:58</font></td>\n",
       "<td style=\"text-align: center; vertical-align: middle;\"> <font color=white>05/14/23</font></td>\n",
       "<td style=\"text-align: center; vertical-align: middle;\"> <font color=white>12.49 s</font></td>\n",
       "<td style=\"text-align: center; vertical-align: middle;\"> <font color=white>1</font></td>\n",
       "<td style=\"text-align: center; vertical-align: middle;\"> <font color=white></font></td>\n",
       "<td style=\"text-align: center; vertical-align: middle;\"> <font color=white>False</font></td>\n",
       "<td style=\"text-align: center; vertical-align: middle;\"> <font color=white>train</font></td>\n",
       "<td style=\"text-align: center; vertical-align: middle;\"> <font color=white>True</font></td>\n",
       "<td style=\"text-align: center; vertical-align: middle;\"> <font color=white>Frequency</font></td>\n",
       "<td style=\"text-align: center; vertical-align: middle;\"> <font color=white>linear</font></td>\n",
       "<td style=\"text-align: center; vertical-align: middle;\"> <font color=white>1186.866</font></td>\n",
       "<td style=\"text-align: center; vertical-align: middle;\"> <font color=white>3</font></td>\n",
       "<td style=\"text-align: center; vertical-align: middle;\"> <font color=white>scale</font></td>\n",
       "<td style=\"text-align: center; vertical-align: middle;\"> <font color=white>0.0</font></td>\n",
       "<td style=\"text-align: center; vertical-align: middle;\"> <font color=white>True</font></td>\n",
       "<td style=\"text-align: center; vertical-align: middle;\"> <font color=white>False</font></td>\n",
       "<td style=\"text-align: center; vertical-align: middle;\"> <font color=white>0.001</font></td>\n",
       "<td style=\"text-align: center; vertical-align: middle;\"> <font color=white>200</font></td>\n",
       "<td style=\"text-align: center; vertical-align: middle;\"> <font color=white>False</font></td>\n",
       "<td style=\"text-align: center; vertical-align: middle;\"> <font color=white>-1</font></td>\n",
       "<td style=\"text-align: center; vertical-align: middle;\"> <font color=white>ovr</font></td>\n",
       "<td style=\"text-align: center; vertical-align: middle;\"> <font color=white>False</font></td>\n",
       "<td style=\"text-align: center; vertical-align: middle;\"> <font color=white>0.999</font></td>\n",
       "<td style=\"text-align: center; vertical-align: middle;\"> <font color=white>0.999</font></td>\n",
       "<td style=\"text-align: center; vertical-align: middle;\"> <font color=white>0.9702</font></td>\n",
       "<td style=\"text-align: center; vertical-align: middle;\"> <font color=white>80</font></td>\n",
       "</tr>\n",
       "<tr>\n",
       "<td style=\"text-align: center; vertical-align: middle;\"> <font color=white>16:06:37</font></td>\n",
       "<td style=\"text-align: center; vertical-align: middle;\"> <font color=white>05/14/23</font></td>\n",
       "<td style=\"text-align: center; vertical-align: middle;\"> <font color=white>13.26 s</font></td>\n",
       "<td style=\"text-align: center; vertical-align: middle;\"> <font color=white>2</font></td>\n",
       "<td style=\"text-align: center; vertical-align: middle;\"> <font color=yellow>Numerical</font></td>\n",
       "<td style=\"text-align: center; vertical-align: middle;\"> <font color=yellow>True</font></td>\n",
       "<td style=\"text-align: center; vertical-align: middle;\"> <font color=white>train</font></td>\n",
       "<td style=\"text-align: center; vertical-align: middle;\"> <font color=white>True</font></td>\n",
       "<td style=\"text-align: center; vertical-align: middle;\"> <font color=yellow></font></td>\n",
       "<td style=\"text-align: center; vertical-align: middle;\"> <font color=white>linear</font></td>\n",
       "<td style=\"text-align: center; vertical-align: middle;\"> <font color=white>1186.866</font></td>\n",
       "<td style=\"text-align: center; vertical-align: middle;\"> <font color=white>3</font></td>\n",
       "<td style=\"text-align: center; vertical-align: middle;\"> <font color=white>scale</font></td>\n",
       "<td style=\"text-align: center; vertical-align: middle;\"> <font color=white>0.0</font></td>\n",
       "<td style=\"text-align: center; vertical-align: middle;\"> <font color=white>True</font></td>\n",
       "<td style=\"text-align: center; vertical-align: middle;\"> <font color=white>False</font></td>\n",
       "<td style=\"text-align: center; vertical-align: middle;\"> <font color=white>0.001</font></td>\n",
       "<td style=\"text-align: center; vertical-align: middle;\"> <font color=white>200</font></td>\n",
       "<td style=\"text-align: center; vertical-align: middle;\"> <font color=white>False</font></td>\n",
       "<td style=\"text-align: center; vertical-align: middle;\"> <font color=white>-1</font></td>\n",
       "<td style=\"text-align: center; vertical-align: middle;\"> <font color=white>ovr</font></td>\n",
       "<td style=\"text-align: center; vertical-align: middle;\"> <font color=white>False</font></td>\n",
       "<td style=\"text-align: center; vertical-align: middle;\"> <font color=yellow>0.986</font></td>\n",
       "<td style=\"text-align: center; vertical-align: middle;\"> <font color=yellow>0.986</font></td>\n",
       "<td style=\"text-align: center; vertical-align: middle;\"> <font color=yellow>0.9839</font></td>\n",
       "<td style=\"text-align: center; vertical-align: middle;\"> <font color=yellow>55</font></td>\n",
       "</tr>\n",
       "<tr>\n",
       "<td style=\"text-align: center; vertical-align: middle;\"> <font color=white>16:07:13</font></td>\n",
       "<td style=\"text-align: center; vertical-align: middle;\"> <font color=white>05/14/23</font></td>\n",
       "<td style=\"text-align: center; vertical-align: middle;\"> <font color=white>25.56 s</font></td>\n",
       "<td style=\"text-align: center; vertical-align: middle;\"> <font color=white>3</font></td>\n",
       "<td style=\"text-align: center; vertical-align: middle;\"> <font color=white>Numerical</font></td>\n",
       "<td style=\"text-align: center; vertical-align: middle;\"> <font color=yellow>False</font></td>\n",
       "<td style=\"text-align: center; vertical-align: middle;\"> <font color=white>train</font></td>\n",
       "<td style=\"text-align: center; vertical-align: middle;\"> <font color=white>True</font></td>\n",
       "<td style=\"text-align: center; vertical-align: middle;\"> <font color=white></font></td>\n",
       "<td style=\"text-align: center; vertical-align: middle;\"> <font color=white>linear</font></td>\n",
       "<td style=\"text-align: center; vertical-align: middle;\"> <font color=white>1186.866</font></td>\n",
       "<td style=\"text-align: center; vertical-align: middle;\"> <font color=white>3</font></td>\n",
       "<td style=\"text-align: center; vertical-align: middle;\"> <font color=white>scale</font></td>\n",
       "<td style=\"text-align: center; vertical-align: middle;\"> <font color=white>0.0</font></td>\n",
       "<td style=\"text-align: center; vertical-align: middle;\"> <font color=white>True</font></td>\n",
       "<td style=\"text-align: center; vertical-align: middle;\"> <font color=white>False</font></td>\n",
       "<td style=\"text-align: center; vertical-align: middle;\"> <font color=white>0.001</font></td>\n",
       "<td style=\"text-align: center; vertical-align: middle;\"> <font color=white>200</font></td>\n",
       "<td style=\"text-align: center; vertical-align: middle;\"> <font color=white>False</font></td>\n",
       "<td style=\"text-align: center; vertical-align: middle;\"> <font color=white>-1</font></td>\n",
       "<td style=\"text-align: center; vertical-align: middle;\"> <font color=white>ovr</font></td>\n",
       "<td style=\"text-align: center; vertical-align: middle;\"> <font color=white>False</font></td>\n",
       "<td style=\"text-align: center; vertical-align: middle;\"> <font color=yellow>0.993</font></td>\n",
       "<td style=\"text-align: center; vertical-align: middle;\"> <font color=yellow>0.993</font></td>\n",
       "<td style=\"text-align: center; vertical-align: middle;\"> <font color=yellow>0.9865</font></td>\n",
       "<td style=\"text-align: center; vertical-align: middle;\"> <font color=white>55</font></td>\n",
       "</tr>\n"
      ],
      "text/plain": [
       "<IPython.core.display.HTML object>"
      ]
     },
     "metadata": {},
     "output_type": "display_data"
    }
   ],
   "source": [
    "mlq.log_metrics(train_acc, train_wf1, val_wf1, sv)\n",
    "mlq.end_quest()\n",
    "mlq.show_logs(\"SVM\", table_dest=\"../../\", last_k=10)"
   ]
  },
  {
   "cell_type": "code",
   "execution_count": null,
   "metadata": {},
   "outputs": [],
   "source": []
  }
 ],
 "metadata": {
  "kernelspec": {
   "display_name": "base",
   "language": "python",
   "name": "python3"
  },
  "language_info": {
   "codemirror_mode": {
    "name": "ipython",
    "version": 3
   },
   "file_extension": ".py",
   "mimetype": "text/x-python",
   "name": "python",
   "nbconvert_exporter": "python",
   "pygments_lexer": "ipython3",
   "version": "3.8.5"
  },
  "orig_nbformat": 4
 },
 "nbformat": 4,
 "nbformat_minor": 2
}
