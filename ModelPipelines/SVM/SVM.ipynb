{
 "cells": [
  {
   "cell_type": "code",
   "execution_count": 1,
   "metadata": {},
   "outputs": [],
   "source": [
    "import sys; sys.path.append('../../')\n",
    "from DataPreparation.DataPreparation import read_data\n",
    "from sklearn import svm\n",
    "import numpy as np\n",
    "from sklearn.metrics import classification_report\n",
    "from sklearn.model_selection import cross_val_predict\n",
    "from ModelPipelines.ModelAnalysis import recursive_feature_elimination\n",
    "from mlpath import mlquest as mlq\n",
    "mlq.start_quest(\"SVM\", table_dest=\"../../\", log_defs=True)"
   ]
  },
  {
   "attachments": {},
   "cell_type": "markdown",
   "metadata": {},
   "source": [
    "### Read the data"
   ]
  },
  {
   "cell_type": "code",
   "execution_count": 2,
   "metadata": {},
   "outputs": [],
   "source": [
    "x_data_d, y_data_d = mlq.l(read_data)(kind=\"Numerical\")"
   ]
  },
  {
   "attachments": {},
   "cell_type": "markdown",
   "metadata": {},
   "source": [
    "### Initiate SVM"
   ]
  },
  {
   "cell_type": "code",
   "execution_count": 3,
   "metadata": {},
   "outputs": [],
   "source": [
    "clf = mlq.l(svm.SVC)(kernel='linear', C=7)"
   ]
  },
  {
   "attachments": {},
   "cell_type": "markdown",
   "metadata": {},
   "source": [
    "### Train & Evaluate SVM"
   ]
  },
  {
   "cell_type": "code",
   "execution_count": 4,
   "metadata": {},
   "outputs": [
    {
     "name": "stdout",
     "output_type": "stream",
     "text": [
      "              precision    recall  f1-score   support\n",
      "\n",
      "           0       0.95      0.99      0.97       152\n",
      "           1       0.96      0.90      0.93       160\n",
      "           2       0.96      0.98      0.97       324\n",
      "           3       0.99      0.99      0.99       544\n",
      "\n",
      "    accuracy                           0.98      1180\n",
      "   macro avg       0.97      0.97      0.97      1180\n",
      "weighted avg       0.98      0.98      0.98      1180\n",
      "\n"
     ]
    }
   ],
   "source": [
    "y_pred = mlq.l(cross_val_predict)(clf, x_data_d, y_data_d, cv=4)\n",
    "accuracy = np.mean(y_pred == y_data_d)\n",
    "mlq.log_metrics(accuracy=accuracy.item())\n",
    "print(classification_report(y_data_d, y_pred))\n",
    "mlq.end_quest()"
   ]
  }
 ],
 "metadata": {
  "kernelspec": {
   "display_name": "base",
   "language": "python",
   "name": "python3"
  },
  "language_info": {
   "codemirror_mode": {
    "name": "ipython",
    "version": 3
   },
   "file_extension": ".py",
   "mimetype": "text/x-python",
   "name": "python",
   "nbconvert_exporter": "python",
   "pygments_lexer": "ipython3",
   "version": "3.9.13"
  },
  "orig_nbformat": 4
 },
 "nbformat": 4,
 "nbformat_minor": 2
}
