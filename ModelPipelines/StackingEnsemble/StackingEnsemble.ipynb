{
 "cells": [
  {
   "cell_type": "code",
   "execution_count": 21,
   "metadata": {},
   "outputs": [],
   "source": [
    "import sys; sys.path.append('../../')\n",
    "import numpy as np\n",
    "import pandas as pd\n",
    "from DataPreparation.DataPreparation import read_data\n",
    "from sklearn.metrics import classification_report\n",
    "from sklearn.model_selection import cross_val_predict\n",
    "from mlpath import mlquest as mlq\n",
    "from ModelAnalysis import cross_validation\n",
    "from utils import load_hyperparameters, save_model, get_metrics\n",
    "from sklearn.ensemble import RandomForestClassifier, StackingClassifier\n",
    "from sklearn.linear_model import LogisticRegression\n",
    "from sklearn.svm import SVC\n",
    "model_name = \"StackingEnsemble\"\n",
    "candidate_models = ['RandomForest']\n",
    "mlq.start_quest(\"StackingEnsemble\", table_dest=\"../../\", log_defs=False)\n"
   ]
  },
  {
   "attachments": {},
   "cell_type": "markdown",
   "metadata": {},
   "source": [
    "# <font color=\"aqua\">Stacking Ensemble</font> Model"
   ]
  },
  {
   "attachments": {},
   "cell_type": "markdown",
   "metadata": {},
   "source": [
    "### Read the data"
   ]
  },
  {
   "cell_type": "code",
   "execution_count": 22,
   "metadata": {},
   "outputs": [],
   "source": [
    "x_data_d, y_data_d = mlq.l(read_data)(kind='Numerical', standardize=True)\n",
    "candidate_opt_params = [load_hyperparameters(model_name) for model_name in candidate_models]"
   ]
  },
  {
   "attachments": {},
   "cell_type": "markdown",
   "metadata": {},
   "source": [
    "### Initiate model"
   ]
  },
  {
   "cell_type": "code",
   "execution_count": 23,
   "metadata": {},
   "outputs": [],
   "source": [
    "# TODO Edit candidate_opt_params\n",
    "# TODO Could tune clf_final\n",
    "clf_rf = RandomForestClassifier(candidate_opt_params[0])\n",
    "clf_svm = SVC(candidate_opt_params[1])\n",
    "clf_log = LogisticRegression(candidate_opt_params[2])\n",
    "clf_final = LogisticRegression(multi_class='multinomial', max_iter=1000)\n",
    "clf = mlq.l(StackingClassifier)(estimators=[('rf', clf_rf), ('svm', clf_svm), ('log', clf_log)], final_estimator=clf_final)"
   ]
  },
  {
   "attachments": {},
   "cell_type": "markdown",
   "metadata": {},
   "source": [
    "### Evaluate Model Bias"
   ]
  },
  {
   "cell_type": "code",
   "execution_count": null,
   "metadata": {},
   "outputs": [],
   "source": [
    "clf.fit(x_data_d, y_data_d)\n",
    "y_pred = clf.predict(x_data_d)\n",
    "train_metrics = classification_report(y_data_d, y_pred, digits=3)\n",
    "train_acc, train_wf1 = get_metrics(train_metrics)\n",
    "print(train_metrics)"
   ]
  },
  {
   "attachments": {},
   "cell_type": "markdown",
   "metadata": {},
   "source": [
    "### Evaluate Model Generalization"
   ]
  },
  {
   "cell_type": "code",
   "execution_count": null,
   "metadata": {},
   "outputs": [],
   "source": [
    "loo, kfold=cross_validation(clf, x_data_d, y_data_d, k=[10], n_repeats=[10], random_state=1)\n",
    "\n",
    "loo_acc=loo.get('loo_acc')\n",
    "loo_wf1=loo.get('loo_wf1')\n",
    "repeated_10fold_acc, repeated_10fold_wf1 = kfold.get(f'10-Repeated 10-fold')[:2]"
   ]
  },
  {
   "cell_type": "markdown",
   "metadata": {},
   "source": [
    "#### Save Model"
   ]
  },
  {
   "cell_type": "code",
   "execution_count": null,
   "metadata": {},
   "outputs": [],
   "source": [
    "save_model(model_name, clf)"
   ]
  },
  {
   "attachments": {},
   "cell_type": "markdown",
   "metadata": {},
   "source": [
    "### Tracking"
   ]
  },
  {
   "cell_type": "code",
   "execution_count": 25,
   "metadata": {},
   "outputs": [
    {
     "data": {
      "text/html": [
       "<table>\n",
       "<tr>\n",
       "<th colspan=4 style=\"text-align: center; vertical-align: middle;\">info</th>\n",
       "<th colspan=1 style=\"text-align: center; vertical-align: middle;\">read_data</th>\n",
       "<th colspan=1 style=\"text-align: center; vertical-align: middle;\">StackingClassifier</th>\n",
       "<th colspan=2 style=\"text-align: center; vertical-align: middle;\">cross_val_predict</th>\n",
       "<th colspan=1 style=\"text-align: center; vertical-align: middle;\">metrics</th>\n",
       "</tr>\n",
       "<th style=\"text-align: center; vertical-align: middle;\">time</th>\n",
       "<th style=\"text-align: center; vertical-align: middle;\">date</th>\n",
       "<th style=\"text-align: center; vertical-align: middle;\">duration</th>\n",
       "<th style=\"text-align: center; vertical-align: middle;\">id</th>\n",
       "<th style=\"text-align: center; vertical-align: middle;\">standardize</th>\n",
       "<th style=\"text-align: center; vertical-align: middle;\">final_estimator</th>\n",
       "<th style=\"text-align: center; vertical-align: middle;\">estimator</th>\n",
       "<th style=\"text-align: center; vertical-align: middle;\">cv</th>\n",
       "<th style=\"text-align: center; vertical-align: middle;\">accuracy</th>\n",
       "</tr>\n",
       "<tr>\n",
       "<td style=\"text-align: center; vertical-align: middle;\"> <font color=white>13:26:54</font></td>\n",
       "<td style=\"text-align: center; vertical-align: middle;\"> <font color=white>05/11/23</font></td>\n",
       "<td style=\"text-align: center; vertical-align: middle;\"> <font color=white>1.06 min</font></td>\n",
       "<td style=\"text-align: center; vertical-align: middle;\"> <font color=white>12</font></td>\n",
       "<td style=\"text-align: center; vertical-align: middle;\"> <font color=white>True</font></td>\n",
       "<td style=\"text-align: center; vertical-align: middle;\"> <font color=white>LogisticRegression(max_iter=1000, multi_class='multinomial')</font></td>\n",
       "<td style=\"text-align: center; vertical-align: middle;\"> <font color=yellow>StackingClassifier(estimators=[('rf',\n",
       "                      ...</font></td>\n",
       "<td style=\"text-align: center; vertical-align: middle;\"> <font color=white>5</font></td>\n",
       "<td style=\"text-align: center; vertical-align: middle;\"> <font color=white>0.9771186440677966</font></td>\n",
       "</tr>\n",
       "<tr>\n",
       "<td style=\"text-align: center; vertical-align: middle;\"> <font color=white>15:56:48</font></td>\n",
       "<td style=\"text-align: center; vertical-align: middle;\"> <font color=white>05/11/23</font></td>\n",
       "<td style=\"text-align: center; vertical-align: middle;\"> <font color=white>34.74 s</font></td>\n",
       "<td style=\"text-align: center; vertical-align: middle;\"> <font color=white>13</font></td>\n",
       "<td style=\"text-align: center; vertical-align: middle;\"> <font color=white>True</font></td>\n",
       "<td style=\"text-align: center; vertical-align: middle;\"> <font color=white>LogisticRegression(max_iter=1000, multi_class='multinomial')</font></td>\n",
       "<td style=\"text-align: center; vertical-align: middle;\"> <font color=yellow>StackingClassifier(estimators=[('rf', RandomForestClassifier...</font></td>\n",
       "<td style=\"text-align: center; vertical-align: middle;\"> <font color=white>5</font></td>\n",
       "<td style=\"text-align: center; vertical-align: middle;\"> <font color=yellow>0.9796610169491525</font></td>\n",
       "</tr>\n",
       "<tr>\n",
       "<td style=\"text-align: center; vertical-align: middle;\"> <font color=white>16:07:29</font></td>\n",
       "<td style=\"text-align: center; vertical-align: middle;\"> <font color=white>05/11/23</font></td>\n",
       "<td style=\"text-align: center; vertical-align: middle;\"> <font color=white>20.15 s</font></td>\n",
       "<td style=\"text-align: center; vertical-align: middle;\"> <font color=white>14</font></td>\n",
       "<td style=\"text-align: center; vertical-align: middle;\"> <font color=white>True</font></td>\n",
       "<td style=\"text-align: center; vertical-align: middle;\"> <font color=white>LogisticRegression(max_iter=1000, multi_class='multinomial')</font></td>\n",
       "<td style=\"text-align: center; vertical-align: middle;\"> <font color=white>StackingClassifier(estimators=[('rf', RandomForestClassifier...</font></td>\n",
       "<td style=\"text-align: center; vertical-align: middle;\"> <font color=white>5</font></td>\n",
       "<td style=\"text-align: center; vertical-align: middle;\"> <font color=yellow>0.9813559322033898</font></td>\n",
       "</tr>\n",
       "<tr>\n",
       "<td style=\"text-align: center; vertical-align: middle;\"> <font color=white>16:09:31</font></td>\n",
       "<td style=\"text-align: center; vertical-align: middle;\"> <font color=white>05/11/23</font></td>\n",
       "<td style=\"text-align: center; vertical-align: middle;\"> <font color=white>1.13 min</font></td>\n",
       "<td style=\"text-align: center; vertical-align: middle;\"> <font color=white>15</font></td>\n",
       "<td style=\"text-align: center; vertical-align: middle;\"> <font color=white>True</font></td>\n",
       "<td style=\"text-align: center; vertical-align: middle;\"> <font color=white>LogisticRegression(max_iter=1000, multi_class='multinomial')</font></td>\n",
       "<td style=\"text-align: center; vertical-align: middle;\"> <font color=white>StackingClassifier(estimators=[('rf', RandomForestClassifier...</font></td>\n",
       "<td style=\"text-align: center; vertical-align: middle;\"> <font color=white>5</font></td>\n",
       "<td style=\"text-align: center; vertical-align: middle;\"> <font color=yellow>0.9771186440677966</font></td>\n",
       "</tr>\n",
       "<tr>\n",
       "<td style=\"text-align: center; vertical-align: middle;\"> <font color=white>16:11:27</font></td>\n",
       "<td style=\"text-align: center; vertical-align: middle;\"> <font color=white>05/11/23</font></td>\n",
       "<td style=\"text-align: center; vertical-align: middle;\"> <font color=white>19.37 s</font></td>\n",
       "<td style=\"text-align: center; vertical-align: middle;\"> <font color=white>16</font></td>\n",
       "<td style=\"text-align: center; vertical-align: middle;\"> <font color=white>True</font></td>\n",
       "<td style=\"text-align: center; vertical-align: middle;\"> <font color=white>LogisticRegression(max_iter=1000, multi_class='multinomial')</font></td>\n",
       "<td style=\"text-align: center; vertical-align: middle;\"> <font color=white>StackingClassifier(estimators=[('rf', RandomForestClassifier...</font></td>\n",
       "<td style=\"text-align: center; vertical-align: middle;\"> <font color=white>5</font></td>\n",
       "<td style=\"text-align: center; vertical-align: middle;\"> <font color=yellow>0.9813559322033898</font></td>\n",
       "</tr>\n",
       "<tr>\n",
       "<td style=\"text-align: center; vertical-align: middle;\"> <font color=white>16:24:34</font></td>\n",
       "<td style=\"text-align: center; vertical-align: middle;\"> <font color=white>05/11/23</font></td>\n",
       "<td style=\"text-align: center; vertical-align: middle;\"> <font color=white>19.83 s</font></td>\n",
       "<td style=\"text-align: center; vertical-align: middle;\"> <font color=white>17</font></td>\n",
       "<td style=\"text-align: center; vertical-align: middle;\"> <font color=white>True</font></td>\n",
       "<td style=\"text-align: center; vertical-align: middle;\"> <font color=white>LogisticRegression(max_iter=1000, multi_class='multinomial')</font></td>\n",
       "<td style=\"text-align: center; vertical-align: middle;\"> <font color=white>StackingClassifier(estimators=[('rf', RandomForestClassifier...</font></td>\n",
       "<td style=\"text-align: center; vertical-align: middle;\"> <font color=white>5</font></td>\n",
       "<td style=\"text-align: center; vertical-align: middle;\"> <font color=yellow>0.9805084745762712</font></td>\n",
       "</tr>\n"
      ],
      "text/plain": [
       "<IPython.core.display.HTML object>"
      ]
     },
     "metadata": {},
     "output_type": "display_data"
    }
   ],
   "source": [
    "mlq.log_metrics(train_acc, train_wf1,loo_acc, loo_wf1, repeated_10fold_acc, repeated_10fold_wf1)\n",
    "mlq.end_quest()\n",
    "mlq.show_logs(\"StackingEnsemble\", table_dest=\"../../\", last_k=6)"
   ]
  }
 ],
 "metadata": {
  "kernelspec": {
   "display_name": "base",
   "language": "python",
   "name": "python3"
  },
  "language_info": {
   "codemirror_mode": {
    "name": "ipython",
    "version": 3
   },
   "file_extension": ".py",
   "mimetype": "text/x-python",
   "name": "python",
   "nbconvert_exporter": "python",
   "pygments_lexer": "ipython3",
   "version": "3.10.4"
  },
  "orig_nbformat": 4
 },
 "nbformat": 4,
 "nbformat_minor": 2
}
