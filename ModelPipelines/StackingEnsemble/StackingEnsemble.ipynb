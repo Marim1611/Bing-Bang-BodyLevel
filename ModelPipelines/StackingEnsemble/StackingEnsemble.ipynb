{
 "cells": [
  {
   "cell_type": "code",
   "execution_count": 4,
   "metadata": {},
   "outputs": [
    {
     "name": "stderr",
     "output_type": "stream",
     "text": [
      "/opt/anaconda3/envs/M1/lib/python3.9/site-packages/mlpath/mlquest/mlquest.py:66: UserWarning: Attempting to start a run while another one is active may cause data overwrite\n",
      "  if mlquest.active == True: warnings.warn(\"Attempting to start a run while another one is active may cause data overwrite\")\n"
     ]
    }
   ],
   "source": [
    "import sys; sys.path.append('../../')\n",
    "import numpy as np\n",
    "import pandas as pd\n",
    "from DataPreparation.DataPreparation import read_data\n",
    "from sklearn.metrics import classification_report\n",
    "from sklearn.model_selection import cross_val_predict\n",
    "from mlpath import mlquest as mlq\n",
    "from ModelAnalysis import cross_validation\n",
    "from utils import load_hyperparameters, save_model, get_metrics, load_model\n",
    "from sklearn.ensemble import RandomForestClassifier, StackingClassifier\n",
    "rf_model = 'RandomForest'\n",
    "from sklearn.linear_model import LogisticRegression\n",
    "lr_model = 'LogisticRegression'\n",
    "from sklearn.svm import SVC\n",
    "svm_model = 'SVM'\n",
    "model_name = \"StackingEnsemble\"\n",
    "mlq.start_quest(model_name, table_dest=\"../../\", log_defs=False)\n"
   ]
  },
  {
   "attachments": {},
   "cell_type": "markdown",
   "metadata": {},
   "source": [
    "# <font color=\"aqua\">Stacking Ensemble</font> Model"
   ]
  },
  {
   "attachments": {},
   "cell_type": "markdown",
   "metadata": {},
   "source": [
    "### Read the data"
   ]
  },
  {
   "cell_type": "code",
   "execution_count": 2,
   "metadata": {},
   "outputs": [],
   "source": [
    "x_data_d, y_data_d = mlq.l(read_data)(kind='Numerical', standardize=True, split='all-test')\n",
    "rf_opt_params = load_hyperparameters(rf_model)\n",
    "svm_opt_params = load_hyperparameters(svm_model)\n",
    "lr_opt_params = load_hyperparameters(lr_model)"
   ]
  },
  {
   "attachments": {},
   "cell_type": "markdown",
   "metadata": {},
   "source": [
    "### Initiate model"
   ]
  },
  {
   "cell_type": "code",
   "execution_count": 3,
   "metadata": {},
   "outputs": [],
   "source": [
    "clf_rf = RandomForestClassifier(**rf_opt_params)\n",
    "clf_svm = SVC(**svm_opt_params)\n",
    "clf_log = LogisticRegression(**lr_opt_params)\n",
    "clf_final = SVC(**svm_opt_params)\n",
    "clf = mlq.l(StackingClassifier)(estimators=[('svm', clf_svm), ('log', clf_log), ('rf', clf_rf)], final_estimator=clf_final)"
   ]
  },
  {
   "attachments": {},
   "cell_type": "markdown",
   "metadata": {},
   "source": [
    "### Evaluate Model Bias"
   ]
  },
  {
   "cell_type": "code",
   "execution_count": 4,
   "metadata": {},
   "outputs": [
    {
     "name": "stdout",
     "output_type": "stream",
     "text": [
      "              precision    recall  f1-score   support\n",
      "\n",
      "           0      1.000     0.993     0.996       270\n",
      "           1      0.993     0.989     0.991       284\n",
      "           2      0.995     1.000     0.997       574\n",
      "           3      1.000     1.000     1.000       972\n",
      "\n",
      "    accuracy                          0.998      2100\n",
      "   macro avg      0.997     0.996     0.996      2100\n",
      "weighted avg      0.998     0.998     0.998      2100\n",
      "\n"
     ]
    }
   ],
   "source": [
    "clf.fit(x_data_d, y_data_d)\n",
    "y_pred = clf.predict(x_data_d)\n",
    "train_metrics = classification_report(y_data_d, y_pred, digits=3)\n",
    "train_acc, train_wf1 = get_metrics(train_metrics)\n",
    "print(train_metrics)"
   ]
  },
  {
   "cell_type": "code",
   "execution_count": null,
   "metadata": {},
   "outputs": [
    {
     "data": {
      "text/html": [
       "<h2 style=\"text-align:left;\">Cross-Validation Weighted F1-Score</h2><table style=\"width:50%; border-collapse: collapse; font-size: 16px; text-align:center; padding: 10px; border: 1px solid #fff;\"><tr><td style=\"border: 1px solid #fff; text-align:center; padding: 10px; color: white; border-right: 1px solid #fff;\">10-Repeated 10-fold</td></tr><tr><td style=\"border: 1px solid #fff; text-align:center; padding: 10px; color: white; opacity: 0.8; border-left: 1px solid #fff;\">0.9912</td></tr>"
      ],
      "text/plain": [
       "<IPython.core.display.HTML object>"
      ]
     },
     "metadata": {},
     "output_type": "display_data"
    }
   ],
   "source": [
    "kfold=cross_validation(clf, x_data_d, y_data_d, k=[5], n_repeats=[10], random_state=1)\n",
    "\n",
    "repeated_10fold_wf1 = kfold.get(f'10-Repeated 10-fold')[0]"
   ]
  },
  {
   "attachments": {},
   "cell_type": "markdown",
   "metadata": {},
   "source": [
    "#### Save Model"
   ]
  },
  {
   "cell_type": "code",
   "execution_count": null,
   "metadata": {},
   "outputs": [],
   "source": [
    "save_model(model_name, clf)"
   ]
  },
  {
   "attachments": {},
   "cell_type": "markdown",
   "metadata": {},
   "source": [
    "### Tracking"
   ]
  },
  {
   "cell_type": "code",
   "execution_count": null,
   "metadata": {},
   "outputs": [
    {
     "data": {
      "text/html": [
       "<table>\n",
       "<tr>\n",
       "<th colspan=4 style=\"text-align: center; vertical-align: middle;\">info</th>\n",
       "<th colspan=1 style=\"text-align: center; vertical-align: middle;\">read_data</th>\n",
       "<th colspan=4 style=\"text-align: center; vertical-align: middle;\">metrics</th>\n",
       "<th colspan=2 style=\"text-align: center; vertical-align: middle;\">cross_val_predict</th>\n",
       "</tr>\n",
       "<th style=\"text-align: center; vertical-align: middle;\">time</th>\n",
       "<th style=\"text-align: center; vertical-align: middle;\">date</th>\n",
       "<th style=\"text-align: center; vertical-align: middle;\">duration</th>\n",
       "<th style=\"text-align: center; vertical-align: middle;\">id</th>\n",
       "<th style=\"text-align: center; vertical-align: middle;\">standardize</th>\n",
       "<th style=\"text-align: center; vertical-align: middle;\">train_acc</th>\n",
       "<th style=\"text-align: center; vertical-align: middle;\">train_wf1</th>\n",
       "<th style=\"text-align: center; vertical-align: middle;\">repeated_10fold_wf1</th>\n",
       "<th style=\"text-align: center; vertical-align: middle;\">accuracy</th>\n",
       "<th style=\"text-align: center; vertical-align: middle;\">estimator</th>\n",
       "<th style=\"text-align: center; vertical-align: middle;\">cv</th>\n",
       "</tr>\n",
       "<tr>\n",
       "<td style=\"text-align: center; vertical-align: middle;\"> <font color=white>15:52:17</font></td>\n",
       "<td style=\"text-align: center; vertical-align: middle;\"> <font color=white>05/15/23</font></td>\n",
       "<td style=\"text-align: center; vertical-align: middle;\"> <font color=white>2.34 min</font></td>\n",
       "<td style=\"text-align: center; vertical-align: middle;\"> <font color=white>22</font></td>\n",
       "<td style=\"text-align: center; vertical-align: middle;\"> <font color=white>True</font></td>\n",
       "<td style=\"text-align: center; vertical-align: middle;\"> <font color=yellow>0.989</font></td>\n",
       "<td style=\"text-align: center; vertical-align: middle;\"> <font color=yellow>0.989</font></td>\n",
       "<td style=\"text-align: center; vertical-align: middle;\"> <font color=yellow>0.9838</font></td>\n",
       "<td style=\"text-align: center; vertical-align: middle;\"> <font color=white></font></td>\n",
       "<td style=\"text-align: center; vertical-align: middle;\"> <font color=white></font></td>\n",
       "<td style=\"text-align: center; vertical-align: middle;\"> <font color=white></font></td>\n",
       "</tr>\n",
       "<tr>\n",
       "<td style=\"text-align: center; vertical-align: middle;\"> <font color=white>15:55:33</font></td>\n",
       "<td style=\"text-align: center; vertical-align: middle;\"> <font color=white>05/15/23</font></td>\n",
       "<td style=\"text-align: center; vertical-align: middle;\"> <font color=white>1.68 min</font></td>\n",
       "<td style=\"text-align: center; vertical-align: middle;\"> <font color=white>23</font></td>\n",
       "<td style=\"text-align: center; vertical-align: middle;\"> <font color=white>True</font></td>\n",
       "<td style=\"text-align: center; vertical-align: middle;\"> <font color=white>0.989</font></td>\n",
       "<td style=\"text-align: center; vertical-align: middle;\"> <font color=white>0.989</font></td>\n",
       "<td style=\"text-align: center; vertical-align: middle;\"> <font color=yellow>0.9831</font></td>\n",
       "<td style=\"text-align: center; vertical-align: middle;\"> <font color=white></font></td>\n",
       "<td style=\"text-align: center; vertical-align: middle;\"> <font color=white></font></td>\n",
       "<td style=\"text-align: center; vertical-align: middle;\"> <font color=white></font></td>\n",
       "</tr>\n",
       "<tr>\n",
       "<td style=\"text-align: center; vertical-align: middle;\"> <font color=white>17:44:30</font></td>\n",
       "<td style=\"text-align: center; vertical-align: middle;\"> <font color=white>05/16/23</font></td>\n",
       "<td style=\"text-align: center; vertical-align: middle;\"> <font color=white>14.94 min</font></td>\n",
       "<td style=\"text-align: center; vertical-align: middle;\"> <font color=white>24</font></td>\n",
       "<td style=\"text-align: center; vertical-align: middle;\"> <font color=white>True</font></td>\n",
       "<td style=\"text-align: center; vertical-align: middle;\"> <font color=yellow>0.999</font></td>\n",
       "<td style=\"text-align: center; vertical-align: middle;\"> <font color=yellow>0.999</font></td>\n",
       "<td style=\"text-align: center; vertical-align: middle;\"> <font color=yellow>0.9905</font></td>\n",
       "<td style=\"text-align: center; vertical-align: middle;\"> <font color=white></font></td>\n",
       "<td style=\"text-align: center; vertical-align: middle;\"> <font color=white></font></td>\n",
       "<td style=\"text-align: center; vertical-align: middle;\"> <font color=white></font></td>\n",
       "</tr>\n",
       "<tr>\n",
       "<td style=\"text-align: center; vertical-align: middle;\"> <font color=white>18:05:27</font></td>\n",
       "<td style=\"text-align: center; vertical-align: middle;\"> <font color=white>05/16/23</font></td>\n",
       "<td style=\"text-align: center; vertical-align: middle;\"> <font color=white>1.59 min</font></td>\n",
       "<td style=\"text-align: center; vertical-align: middle;\"> <font color=white>25</font></td>\n",
       "<td style=\"text-align: center; vertical-align: middle;\"> <font color=white>True</font></td>\n",
       "<td style=\"text-align: center; vertical-align: middle;\"> <font color=yellow>0.99</font></td>\n",
       "<td style=\"text-align: center; vertical-align: middle;\"> <font color=yellow>0.99</font></td>\n",
       "<td style=\"text-align: center; vertical-align: middle;\"> <font color=yellow>0.9824</font></td>\n",
       "<td style=\"text-align: center; vertical-align: middle;\"> <font color=white></font></td>\n",
       "<td style=\"text-align: center; vertical-align: middle;\"> <font color=white></font></td>\n",
       "<td style=\"text-align: center; vertical-align: middle;\"> <font color=white></font></td>\n",
       "</tr>\n",
       "<tr>\n",
       "<td style=\"text-align: center; vertical-align: middle;\"> <font color=white>18:09:46</font></td>\n",
       "<td style=\"text-align: center; vertical-align: middle;\"> <font color=white>05/16/23</font></td>\n",
       "<td style=\"text-align: center; vertical-align: middle;\"> <font color=white>43.86 min</font></td>\n",
       "<td style=\"text-align: center; vertical-align: middle;\"> <font color=white>26</font></td>\n",
       "<td style=\"text-align: center; vertical-align: middle;\"> <font color=white>True</font></td>\n",
       "<td style=\"text-align: center; vertical-align: middle;\"> <font color=yellow>0.998</font></td>\n",
       "<td style=\"text-align: center; vertical-align: middle;\"> <font color=yellow>0.998</font></td>\n",
       "<td style=\"text-align: center; vertical-align: middle;\"> <font color=yellow>0.9892</font></td>\n",
       "<td style=\"text-align: center; vertical-align: middle;\"> <font color=white></font></td>\n",
       "<td style=\"text-align: center; vertical-align: middle;\"> <font color=white></font></td>\n",
       "<td style=\"text-align: center; vertical-align: middle;\"> <font color=white></font></td>\n",
       "</tr>\n",
       "<tr>\n",
       "<td style=\"text-align: center; vertical-align: middle;\"> <font color=white>18:54:39</font></td>\n",
       "<td style=\"text-align: center; vertical-align: middle;\"> <font color=white>05/16/23</font></td>\n",
       "<td style=\"text-align: center; vertical-align: middle;\"> <font color=white>9.83 min</font></td>\n",
       "<td style=\"text-align: center; vertical-align: middle;\"> <font color=white>27</font></td>\n",
       "<td style=\"text-align: center; vertical-align: middle;\"> <font color=white>True</font></td>\n",
       "<td style=\"text-align: center; vertical-align: middle;\"> <font color=yellow>0.999</font></td>\n",
       "<td style=\"text-align: center; vertical-align: middle;\"> <font color=yellow>0.999</font></td>\n",
       "<td style=\"text-align: center; vertical-align: middle;\"> <font color=yellow>0.9912</font></td>\n",
       "<td style=\"text-align: center; vertical-align: middle;\"> <font color=white></font></td>\n",
       "<td style=\"text-align: center; vertical-align: middle;\"> <font color=white></font></td>\n",
       "<td style=\"text-align: center; vertical-align: middle;\"> <font color=white></font></td>\n",
       "</tr>\n"
      ],
      "text/plain": [
       "<IPython.core.display.HTML object>"
      ]
     },
     "metadata": {},
     "output_type": "display_data"
    }
   ],
   "source": [
    "mlq.log_metrics(train_acc, train_wf1, repeated_10fold_wf1)\n",
    "mlq.end_quest()\n",
    "mlq.show_logs(model_name, table_dest=\"../../\", last_k=6)"
   ]
  },
  {
   "attachments": {},
   "cell_type": "markdown",
   "metadata": {},
   "source": [
    "## Autopsy"
   ]
  },
  {
   "cell_type": "code",
   "execution_count": 12,
   "metadata": {},
   "outputs": [
    {
     "name": "stderr",
     "output_type": "stream",
     "text": [
      "99it [13:15,  8.03s/it]\n"
     ]
    }
   ],
   "source": [
    "from sklearn.model_selection import RepeatedStratifiedKFold, RepeatedKFold\n",
    "from sklearn.metrics import f1_score\n",
    "from tqdm import tqdm\n",
    "\n",
    "def CV_Evaluate(model, x_data, y_data):\n",
    "    \"\"\"\n",
    "    Evaluates the performance (F1) of the given model using leave-one-out or repeated KFold cross validation.\n",
    "    The fact that the function is defined here is a violation to the standards of ths project [Awaiting Fix]\n",
    "    \"\"\"\n",
    "    cval = RepeatedStratifiedKFold(n_splits=3, n_repeats=33, random_state=42)\n",
    "    f1_scores = []\n",
    "    for i, j in tqdm(cval.split(x_data, y_data)):           # splits yields indecies of the points in the current split\n",
    "        x_train, x_val = x_data.iloc[i], x_data.iloc[j]\n",
    "        y_train, y_val = y_data[i], y_data[j]\n",
    "        model.fit(x_train, y_train)\n",
    "        y_pred = model.predict(x_val)\n",
    "        # compute weighted f1 score\n",
    "        f1_scores.append(f1_score(y_val, y_pred, average='weighted'))\n",
    "    mean_f1_score = sum(f1_scores) / len(f1_scores)\n",
    "    var_f1_score = sum((f1_scores[i] - mean_f1_score)**2 for i in range(len(f1_scores))) / len(f1_scores)\n",
    "    return mean_f1_score, np.sqrt(var_f1_score), f1_scores\n",
    "\n",
    "mean_f1, std_f1, f1_scores = CV_Evaluate(clf, x_data_d, y_data_d)"
   ]
  },
  {
   "cell_type": "code",
   "execution_count": 15,
   "metadata": {},
   "outputs": [
    {
     "name": "stdout",
     "output_type": "stream",
     "text": [
      "0.9835404041619511 0.004763322732751002\n",
      "0.9727595385394641 0.9914449955990273\n"
     ]
    },
    {
     "data": {
      "image/png": "[encoded data removed]",
      "text/plain": [
       "<Figure size 1280x960 with 1 Axes>"
      ]
     },
     "metadata": {},
     "output_type": "display_data"
    }
   ],
   "source": [
    "print(mean_f1, std_f1)\n",
    "\n",
    "# show min and max f1 scores\n",
    "print(min(f1_scores), max(f1_scores))\n",
    "\n",
    "# Plot f1_scores with confidence interval for variance using seaborn\n",
    "import matplotlib.pyplot as plt\n",
    "\n",
    "\n",
    "# sort the f1_scores descendingly then plot\n",
    "# dark background\n",
    "plt.style.use('dark_background')\n",
    "plt.rcParams['figure.dpi'] = 200\n",
    "# disable grid\n",
    "plt.grid(False)\n",
    "plt.scatter(range(len(f1_scores)), f1_scores, s=0.5)\n",
    "\n",
    "# plot horizontal line for mean and mean + std\n",
    "plt.axhline(mean_f1, color='y', linestyle='-', linewidth=0.5)\n",
    "plt.axhline(mean_f1 + std_f1, color='b', linestyle='--', linewidth=0.5)\n",
    "plt.axhline(mean_f1 - std_f1, color='b', linestyle='--', linewidth=0.5)\n",
    "\n",
    "\n",
    "\n",
    "plt.xlabel('Cross Validation Split')\n",
    "plt.ylabel('F1 Score')\n",
    "plt.title('F1 Scores for each Cross Validation Split')\n",
    "plt.show()"
   ]
  },
  {
   "cell_type": "code",
   "execution_count": 5,
   "metadata": {},
   "outputs": [
    {
     "name": "stdout",
     "output_type": "stream",
     "text": [
      "              precision    recall  f1-score   support\n",
      "\n",
      "           0      0.964     1.000     0.982        80\n",
      "           1      0.987     0.940     0.963        83\n",
      "           2      0.988     0.988     0.988       168\n",
      "           3      0.997     1.000     0.998       292\n",
      "\n",
      "    accuracy                          0.989       623\n",
      "   macro avg      0.984     0.982     0.983       623\n",
      "weighted avg      0.989     0.989     0.989       623\n",
      "\n",
      "              precision    recall  f1-score   support\n",
      "\n",
      "           0      0.964     1.000     0.982        80\n",
      "           1      1.000     0.940     0.969        83\n",
      "           2      0.988     1.000     0.994       168\n",
      "           3      1.000     1.000     1.000       292\n",
      "\n",
      "    accuracy                          0.992       623\n",
      "   macro avg      0.988     0.985     0.986       623\n",
      "weighted avg      0.992     0.992     0.992       623\n",
      "\n"
     ]
    }
   ],
   "source": [
    "x_data_d, y_data_d = read_data(kind='Numerical', standardize=True, split='all')\n",
    "x_test, y_test = read_data(kind='Numerical', standardize=True, split='test')\n",
    "\n",
    "rf_opt_params = load_hyperparameters(rf_model)\n",
    "svm_opt_params = load_hyperparameters(svm_model)\n",
    "lr_opt_params = load_hyperparameters(lr_model)\n",
    "clf_rf = RandomForestClassifier(**rf_opt_params)\n",
    "clf_svm = SVC(**svm_opt_params)\n",
    "clf_log = LogisticRegression(**lr_opt_params)\n",
    "clf_final = SVC(**svm_opt_params)\n",
    "clf = StackingClassifier(estimators=[('svm', clf_svm), ('log', clf_log), ('rf', clf_rf)], final_estimator=clf_final)\n",
    "\n",
    "clf.fit(x_data_d, y_data_d)\n",
    "\n",
    "y_pred = clf.predict(x_test)\n",
    "test_metrics = classification_report(y_test, y_pred, digits=3)\n",
    "print(test_metrics)\n",
    "\n",
    "\n",
    "\n",
    "# load StackingEnsemble.ipynb into clf2\n",
    "clf2 = load_model(model_name)\n",
    "\n",
    "# predict using clf2\n",
    "y_pred2 = clf2.predict(x_test)\n",
    "test_metrics = classification_report(y_test, y_pred2, digits=3)\n",
    "print(test_metrics)"
   ]
  },
  {
   "cell_type": "code",
   "execution_count": 20,
   "metadata": {},
   "outputs": [
    {
     "name": "stdout",
     "output_type": "stream",
     "text": [
      "              precision    recall  f1-score   support\n",
      "\n",
      "           0      0.920     1.000     0.958        80\n",
      "           1      1.000     0.807     0.893        83\n",
      "           2      0.949     0.994     0.971       168\n",
      "           3      0.997     1.000     0.998       292\n",
      "\n",
      "    accuracy                          0.973       623\n",
      "   macro avg      0.966     0.950     0.955       623\n",
      "weighted avg      0.974     0.973     0.972       623\n",
      "\n"
     ]
    }
   ],
   "source": [
    "'''\n",
    "The final pipeline goes here (competition model) and its evaluation.\n",
    "'''\n",
    "import pickle \n",
    "import pandas as pd\n",
    "import os\n",
    "\n",
    "def read_sample():\n",
    "    '''\n",
    "    A read_sample function for when the model is to be evaluated\n",
    "    '''\n",
    "\n",
    "    x_data = pd.read_csv('../../DataFiles/test.csv')\n",
    "\n",
    "    # extract only the numerical features\n",
    "    cont_feats = [feat for feat in x_data.columns if type(x_data.iloc[0, x_data.columns.get_loc(feat)]) != str]\n",
    "    # remove the last column (target)\n",
    "    cont_feats = cont_feats[:-1]\n",
    "    x_data = x_data[cont_feats]\n",
    "    for feat in x_data.columns:\n",
    "        x_data[feat] = x_data[feat].astype(float)\n",
    "\n",
    "    # standardize the numerical features\n",
    "    #means=[24.30154547138047, 1.7044246599326598, 86.24393004377106, 2.4137310067340065, 1.9985143434343435, 2.603423063973064, 1.0657414511784513, 0.6401021212121212] \n",
    "    #stds=[6.187403093300774, 0.09328631635951697, 25.765476944060072, 0.5586174649270286, 0.6404876859634282, 0.8226938923003604, 0.8170331197353868, 0.5959943002074906,0.98989898989899]\n",
    "    #for i,feat in enumerate(x_data.columns):\n",
    "    #    x_data[feat] = (x_data[feat] - means[i])/stds[i]\n",
    "    \n",
    "    #means = [24.29041986,  1.70160229, 86.54228975,  2.42191212,  2.00512017,  2.68210374, 1.02310583,  0.65067154] \n",
    "    #stds = [ 6.32308119,  0.09465379, 26.27827729,  0.5407114,   0.62030746,  0.7907506, 0.84484037,  0.6051992 ]\n",
    "    #for i,feat in enumerate(x_data.columns):\n",
    "    #    x_data[feat] = (x_data[feat] - means[i])/stds[i]\n",
    "    \n",
    "    #print(means, stds)\n",
    "    #means = np.load('../../Saved/means.npy')\n",
    "    #stds = np.load('../../Saved/stds.npy')\n",
    "    #for i, feat in enumerate(x_data.columns):\n",
    "    #    if type(x_data.iloc[0, x_data.columns.get_loc(feat)]) != str:\n",
    "    #        x_data[feat] = (x_data[feat] - means[i])/stds[i]\n",
    "    return x_data\n",
    "\n",
    "\n",
    "def predict(model, x_test):\n",
    "    '''\n",
    "    Predicts the target variable for the given data.\n",
    "    '''\n",
    "    y_pred = model.predict(x_test)\n",
    "    return y_pred\n",
    "\n",
    "\n",
    "# Read the data\n",
    "x_test = read_sample()\n",
    "\n",
    "# Load the model\n",
    "model = load_model('StackingEnsemble')\n",
    "\n",
    "# Predict the target variable\n",
    "y_pred = predict(model, x_test)\n",
    "\n",
    "# print WF1 using y_pred and y_test\n",
    "test_metrics = classification_report(y_test, y_pred, digits=3)\n",
    "print(test_metrics)\n",
    "\n",
    "# write the predictions to a txt file\n",
    "with open('preds.txt', 'w') as f:\n",
    "    for i, item in enumerate(y_pred):\n",
    "        if i == len(y_pred) - 1:\n",
    "            f.write(\"%s\" % item)\n",
    "        else:\n",
    "            f.write(\"%s\\n\" % item)"
   ]
  }
 ],
 "metadata": {
  "kernelspec": {
   "display_name": "base",
   "language": "python",
   "name": "python3"
  },
  "language_info": {
   "codemirror_mode": {
    "name": "ipython",
    "version": 3
   },
   "file_extension": ".py",
   "mimetype": "text/x-python",
   "name": "python",
   "nbconvert_exporter": "python",
   "pygments_lexer": "ipython3",
   "version": "3.9.16"
  },
  "orig_nbformat": 4
 },
 "nbformat": 4,
 "nbformat_minor": 2
}
