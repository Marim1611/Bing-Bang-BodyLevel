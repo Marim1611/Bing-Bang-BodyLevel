{
 "cells": [
  {
   "cell_type": "code",
   "execution_count": 56,
   "metadata": {},
   "outputs": [],
   "source": [
    "import sys; sys.path.append('../../')\n",
    "import numpy as np\n",
    "import pandas as pd\n",
    "from DataPreparation.DataPreparation import read_data\n",
    "from sklearn.ensemble import RandomForestClassifier, StackingClassifier\n",
    "from sklearn.linear_model import LogisticRegression\n",
    "from sklearn.svm import SVC\n",
    "from sklearn.metrics import classification_report\n",
    "from sklearn.model_selection import cross_val_predict\n",
    "from mlpath import mlquest as mlq\n",
    "mlq.start_quest(\"StackingEnsemble\", table_dest=\"../../\", log_defs=False)"
   ]
  },
  {
   "attachments": {},
   "cell_type": "markdown",
   "metadata": {},
   "source": [
    "### Read the data"
   ]
  },
  {
   "cell_type": "code",
   "execution_count": 57,
   "metadata": {},
   "outputs": [],
   "source": [
    "x_data_d, y_data_d = mlq.l(read_data)(kind='Numerical', standardize=True)\n"
   ]
  },
  {
   "attachments": {},
   "cell_type": "markdown",
   "metadata": {},
   "source": [
    "### Initiate model"
   ]
  },
  {
   "cell_type": "code",
   "execution_count": 58,
   "metadata": {},
   "outputs": [],
   "source": [
    "clf_rf = RandomForestClassifier(n_estimators=500)\n",
    "clf_svm = SVC(kernel='linear', C=7)\n",
    "clf_log = LogisticRegression(multi_class='multinomial', max_iter=1000)\n",
    "\n",
    "clf = mlq.l(StackingClassifier)(estimators=[('rf', clf_rf), ('svm', clf_svm), ('log', clf_log)], final_estimator=LogisticRegression(multi_class='multinomial', max_iter=1000))"
   ]
  },
  {
   "attachments": {},
   "cell_type": "markdown",
   "metadata": {},
   "source": [
    "### Train and Evaluate"
   ]
  },
  {
   "cell_type": "code",
   "execution_count": 59,
   "metadata": {},
   "outputs": [
    {
     "name": "stdout",
     "output_type": "stream",
     "text": [
      "              precision    recall  f1-score   support\n",
      "\n",
      "           0       0.97      0.99      0.98       152\n",
      "           1       0.95      0.93      0.94       160\n",
      "           2       0.97      0.97      0.97       324\n",
      "           3       0.99      0.99      0.99       544\n",
      "\n",
      "    accuracy                           0.98      1180\n",
      "   macro avg       0.97      0.97      0.97      1180\n",
      "weighted avg       0.98      0.98      0.98      1180\n",
      "\n"
     ]
    }
   ],
   "source": [
    "y_pred = mlq.l(cross_val_predict)(clf, x_data_d, y_data_d, cv=5)\n",
    "accuracy = np.mean(y_pred == y_data_d)\n",
    "mlq.log_metrics(accuracy=accuracy.item())\n",
    "print(classification_report(y_data_d, y_pred))\n",
    "mlq.end_quest()"
   ]
  },
  {
   "attachments": {},
   "cell_type": "markdown",
   "metadata": {},
   "source": [
    "### Tracking"
   ]
  },
  {
   "cell_type": "code",
   "execution_count": 60,
   "metadata": {},
   "outputs": [
    {
     "data": {
      "text/html": [
       "<table>\n",
       "<tr>\n",
       "<th colspan=4 style=\"text-align: center; vertical-align: middle;\">info</th>\n",
       "<th colspan=2 style=\"text-align: center; vertical-align: middle;\">read_data</th>\n",
       "<th colspan=1 style=\"text-align: center; vertical-align: middle;\">StackingClassifier</th>\n",
       "<th colspan=2 style=\"text-align: center; vertical-align: middle;\">cross_val_predict</th>\n",
       "<th colspan=1 style=\"text-align: center; vertical-align: middle;\">metrics</th>\n",
       "</tr>\n",
       "<th style=\"text-align: center; vertical-align: middle;\">time</th>\n",
       "<th style=\"text-align: center; vertical-align: middle;\">date</th>\n",
       "<th style=\"text-align: center; vertical-align: middle;\">duration</th>\n",
       "<th style=\"text-align: center; vertical-align: middle;\">id</th>\n",
       "<th style=\"text-align: center; vertical-align: middle;\">kind</th>\n",
       "<th style=\"text-align: center; vertical-align: middle;\">standardize</th>\n",
       "<th style=\"text-align: center; vertical-align: middle;\">final_estimator</th>\n",
       "<th style=\"text-align: center; vertical-align: middle;\">estimator</th>\n",
       "<th style=\"text-align: center; vertical-align: middle;\">cv</th>\n",
       "<th style=\"text-align: center; vertical-align: middle;\">accuracy</th>\n",
       "</tr>\n",
       "<tr>\n",
       "<td style=\"text-align: center; vertical-align: middle;\"> <font color=white>13:15:02</font></td>\n",
       "<td style=\"text-align: center; vertical-align: middle;\"> <font color=white>05/11/23</font></td>\n",
       "<td style=\"text-align: center; vertical-align: middle;\"> <font color=white>20.62 s</font></td>\n",
       "<td style=\"text-align: center; vertical-align: middle;\"> <font color=white>6</font></td>\n",
       "<td style=\"text-align: center; vertical-align: middle;\"> <font color=white>Numerical</font></td>\n",
       "<td style=\"text-align: center; vertical-align: middle;\"> <font color=white>True</font></td>\n",
       "<td style=\"text-align: center; vertical-align: middle;\"> <font color=white>LogisticRegression(max_iter=1000, multi_class='multinomial')</font></td>\n",
       "<td style=\"text-align: center; vertical-align: middle;\"> <font color=white>StackingClassifier(estimators=[('rf', RandomForestClassifier...</font></td>\n",
       "<td style=\"text-align: center; vertical-align: middle;\"> <font color=white>5</font></td>\n",
       "<td style=\"text-align: center; vertical-align: middle;\"> <font color=yellow>0.976271186440678</font></td>\n",
       "</tr>\n",
       "<tr>\n",
       "<td style=\"text-align: center; vertical-align: middle;\"> <font color=white>13:19:10</font></td>\n",
       "<td style=\"text-align: center; vertical-align: middle;\"> <font color=white>05/11/23</font></td>\n",
       "<td style=\"text-align: center; vertical-align: middle;\"> <font color=white>33.76 s</font></td>\n",
       "<td style=\"text-align: center; vertical-align: middle;\"> <font color=white>7</font></td>\n",
       "<td style=\"text-align: center; vertical-align: middle;\"> <font color=white>Numerical</font></td>\n",
       "<td style=\"text-align: center; vertical-align: middle;\"> <font color=white>True</font></td>\n",
       "<td style=\"text-align: center; vertical-align: middle;\"> <font color=white>LogisticRegression(max_iter=1000, multi_class='multinomial')</font></td>\n",
       "<td style=\"text-align: center; vertical-align: middle;\"> <font color=white>StackingClassifier(estimators=[('rf', RandomForestClassifier...</font></td>\n",
       "<td style=\"text-align: center; vertical-align: middle;\"> <font color=white>5</font></td>\n",
       "<td style=\"text-align: center; vertical-align: middle;\"> <font color=yellow>0.9779661016949153</font></td>\n",
       "</tr>\n",
       "<tr>\n",
       "<td style=\"text-align: center; vertical-align: middle;\"> <font color=white>13:19:57</font></td>\n",
       "<td style=\"text-align: center; vertical-align: middle;\"> <font color=white>05/11/23</font></td>\n",
       "<td style=\"text-align: center; vertical-align: middle;\"> <font color=white>34.09 s</font></td>\n",
       "<td style=\"text-align: center; vertical-align: middle;\"> <font color=white>8</font></td>\n",
       "<td style=\"text-align: center; vertical-align: middle;\"> <font color=white>Numerical</font></td>\n",
       "<td style=\"text-align: center; vertical-align: middle;\"> <font color=white>True</font></td>\n",
       "<td style=\"text-align: center; vertical-align: middle;\"> <font color=yellow>LogisticRegression(max_iter=1500, multi_class='multinomial')</font></td>\n",
       "<td style=\"text-align: center; vertical-align: middle;\"> <font color=white>StackingClassifier(estimators=[('rf', RandomForestClassifier...</font></td>\n",
       "<td style=\"text-align: center; vertical-align: middle;\"> <font color=white>5</font></td>\n",
       "<td style=\"text-align: center; vertical-align: middle;\"> <font color=yellow>0.976271186440678</font></td>\n",
       "</tr>\n",
       "<tr>\n",
       "<td style=\"text-align: center; vertical-align: middle;\"> <font color=white>13:21:17</font></td>\n",
       "<td style=\"text-align: center; vertical-align: middle;\"> <font color=white>05/11/23</font></td>\n",
       "<td style=\"text-align: center; vertical-align: middle;\"> <font color=white>32.69 s</font></td>\n",
       "<td style=\"text-align: center; vertical-align: middle;\"> <font color=white>9</font></td>\n",
       "<td style=\"text-align: center; vertical-align: middle;\"> <font color=white>Numerical</font></td>\n",
       "<td style=\"text-align: center; vertical-align: middle;\"> <font color=white>True</font></td>\n",
       "<td style=\"text-align: center; vertical-align: middle;\"> <font color=yellow>LogisticRegression(max_iter=900, multi_class='multinomial')</font></td>\n",
       "<td style=\"text-align: center; vertical-align: middle;\"> <font color=white>StackingClassifier(estimators=[('rf', RandomForestClassifier...</font></td>\n",
       "<td style=\"text-align: center; vertical-align: middle;\"> <font color=white>5</font></td>\n",
       "<td style=\"text-align: center; vertical-align: middle;\"> <font color=yellow>0.9745762711864406</font></td>\n",
       "</tr>\n",
       "<tr>\n",
       "<td style=\"text-align: center; vertical-align: middle;\"> <font color=white>13:22:08</font></td>\n",
       "<td style=\"text-align: center; vertical-align: middle;\"> <font color=white>05/11/23</font></td>\n",
       "<td style=\"text-align: center; vertical-align: middle;\"> <font color=white>32.88 s</font></td>\n",
       "<td style=\"text-align: center; vertical-align: middle;\"> <font color=white>10</font></td>\n",
       "<td style=\"text-align: center; vertical-align: middle;\"> <font color=white>Numerical</font></td>\n",
       "<td style=\"text-align: center; vertical-align: middle;\"> <font color=white>True</font></td>\n",
       "<td style=\"text-align: center; vertical-align: middle;\"> <font color=yellow>LogisticRegression(max_iter=1000, multi_class='multinomial')</font></td>\n",
       "<td style=\"text-align: center; vertical-align: middle;\"> <font color=white>StackingClassifier(estimators=[('rf', RandomForestClassifier...</font></td>\n",
       "<td style=\"text-align: center; vertical-align: middle;\"> <font color=white>5</font></td>\n",
       "<td style=\"text-align: center; vertical-align: middle;\"> <font color=yellow>0.9771186440677966</font></td>\n",
       "</tr>\n",
       "<tr>\n",
       "<td style=\"text-align: center; vertical-align: middle;\"> <font color=white>13:26:54</font></td>\n",
       "<td style=\"text-align: center; vertical-align: middle;\"> <font color=white>05/11/23</font></td>\n",
       "<td style=\"text-align: center; vertical-align: middle;\"> <font color=white>1.06 min</font></td>\n",
       "<td style=\"text-align: center; vertical-align: middle;\"> <font color=white>12</font></td>\n",
       "<td style=\"text-align: center; vertical-align: middle;\"> <font color=white>Numerical</font></td>\n",
       "<td style=\"text-align: center; vertical-align: middle;\"> <font color=white>True</font></td>\n",
       "<td style=\"text-align: center; vertical-align: middle;\"> <font color=white>LogisticRegression(max_iter=1000, multi_class='multinomial')</font></td>\n",
       "<td style=\"text-align: center; vertical-align: middle;\"> <font color=yellow>StackingClassifier(estimators=[('rf',\n",
       "                      ...</font></td>\n",
       "<td style=\"text-align: center; vertical-align: middle;\"> <font color=white>5</font></td>\n",
       "<td style=\"text-align: center; vertical-align: middle;\"> <font color=white>0.9771186440677966</font></td>\n",
       "</tr>\n"
      ],
      "text/plain": [
       "<IPython.core.display.HTML object>"
      ]
     },
     "metadata": {},
     "output_type": "display_data"
    }
   ],
   "source": [
    "mlq.show_logs(\"StackingEnsemble\", table_dest=\"../../\", last_k=6)"
   ]
  }
 ],
 "metadata": {
  "kernelspec": {
   "display_name": "base",
   "language": "python",
   "name": "python3"
  },
  "language_info": {
   "codemirror_mode": {
    "name": "ipython",
    "version": 3
   },
   "file_extension": ".py",
   "mimetype": "text/x-python",
   "name": "python",
   "nbconvert_exporter": "python",
   "pygments_lexer": "ipython3",
   "version": "3.10.4"
  },
  "orig_nbformat": 4
 },
 "nbformat": 4,
 "nbformat_minor": 2
}
