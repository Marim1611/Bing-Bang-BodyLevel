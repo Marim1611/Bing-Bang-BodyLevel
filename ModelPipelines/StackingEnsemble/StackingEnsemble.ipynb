{
 "cells": [
  {
   "cell_type": "code",
   "execution_count": 75,
   "metadata": {},
   "outputs": [
    {
     "name": "stderr",
     "output_type": "stream",
     "text": [
      "/opt/anaconda3/envs/arm/lib/python3.9/site-packages/mlpath/mlquest/mlquest.py:66: UserWarning: Attempting to start a run while another one is active may cause data overwrite\n",
      "  if mlquest.active == True: warnings.warn(\"Attempting to start a run while another one is active may cause data overwrite\")\n"
     ]
    }
   ],
   "source": [
    "import sys; sys.path.append('../../')\n",
    "import numpy as np\n",
    "import pandas as pd\n",
    "from DataPreparation.DataPreparation import read_data\n",
    "from sklearn.metrics import classification_report\n",
    "from sklearn.model_selection import cross_val_predict\n",
    "from mlpath import mlquest as mlq\n",
    "from ModelAnalysis import cross_validation\n",
    "from utils import load_hyperparameters, save_model, get_metrics\n",
    "from sklearn.ensemble import RandomForestClassifier, StackingClassifier\n",
    "model_name = \"StackingEnsemble\"\n",
    "rf_model = 'RandomForest'\n",
    "from sklearn.linear_model import LogisticRegression\n",
    "lr_model = 'LogisticRegression'\n",
    "from sklearn.svm import SVC\n",
    "svm_model = 'SVM'\n",
    "mlq.start_quest(\"StackingEnsemble\", table_dest=\"../../\", log_defs=False)\n"
   ]
  },
  {
   "attachments": {},
   "cell_type": "markdown",
   "metadata": {},
   "source": [
    "# <font color=\"aqua\">Stacking Ensemble</font> Model"
   ]
  },
  {
   "attachments": {},
   "cell_type": "markdown",
   "metadata": {},
   "source": [
    "### Read the data"
   ]
  },
  {
   "cell_type": "code",
   "execution_count": 76,
   "metadata": {},
   "outputs": [],
   "source": [
    "x_data_d, y_data_d = mlq.l(read_data)(kind='Numerical', standardize=True)\n",
    "rf_opt_params = load_hyperparameters(rf_model)\n",
    "svm_opt_params = load_hyperparameters(svm_model)\n",
    "lr_opt_params = load_hyperparameters(lr_model)"
   ]
  },
  {
   "attachments": {},
   "cell_type": "markdown",
   "metadata": {},
   "source": [
    "### Initiate model"
   ]
  },
  {
   "cell_type": "code",
   "execution_count": 77,
   "metadata": {},
   "outputs": [],
   "source": [
    "# TODO Edit candidate_opt_params\n",
    "# TODO Could tune clf_final\n",
    "clf_rf = RandomForestClassifier(**rf_opt_params)\n",
    "clf_svm = SVC(**svm_opt_params)\n",
    "clf_log = LogisticRegression(**lr_opt_params)\n",
    "clf_final = RandomForestClassifier()\n",
    "clf = mlq.l(StackingClassifier)(estimators=[('svm', clf_svm), ('log', clf_log)], final_estimator=clf_final)"
   ]
  },
  {
   "attachments": {},
   "cell_type": "markdown",
   "metadata": {},
   "source": [
    "### Evaluate Model Bias"
   ]
  },
  {
   "cell_type": "code",
   "execution_count": 78,
   "metadata": {},
   "outputs": [
    {
     "name": "stdout",
     "output_type": "stream",
     "text": [
      "              precision    recall  f1-score   support\n",
      "\n",
      "           0      0.993     0.993     0.993       152\n",
      "           1      0.969     0.988     0.978       160\n",
      "           2      0.994     0.988     0.991       324\n",
      "           3      1.000     0.998     0.999       544\n",
      "\n",
      "    accuracy                          0.993      1180\n",
      "   macro avg      0.989     0.992     0.990      1180\n",
      "weighted avg      0.993     0.993     0.993      1180\n",
      "\n"
     ]
    }
   ],
   "source": [
    "clf.fit(x_data_d, y_data_d)\n",
    "y_pred = clf.predict(x_data_d)\n",
    "train_metrics = classification_report(y_data_d, y_pred, digits=3)\n",
    "train_acc, train_wf1 = get_metrics(train_metrics)\n",
    "print(train_metrics)"
   ]
  },
  {
   "attachments": {},
   "cell_type": "markdown",
   "metadata": {},
   "source": [
    "### Evaluate Model Generalization"
   ]
  },
  {
   "cell_type": "code",
   "execution_count": 79,
   "metadata": {},
   "outputs": [
    {
     "data": {
      "text/html": [
       "<h2 style=\"text-align:left;\">Cross-Validation Weighted F1-Score</h2><table style=\"width:50%; border-collapse: collapse; font-size: 16px; text-align:center; padding: 10px; border: 1px solid #fff;\"><tr><td style=\"border: 1px solid #fff; text-align:center; padding: 10px; color: white; border-right: 1px solid #fff;\">10-Repeated 10-fold</td></tr><tr><td style=\"border: 1px solid #fff; text-align:center; padding: 10px; color: white; opacity: 0.8; border-left: 1px solid #fff;\">0.9814</td></tr>"
      ],
      "text/plain": [
       "<IPython.core.display.HTML object>"
      ]
     },
     "metadata": {},
     "output_type": "display_data"
    }
   ],
   "source": [
    "kfold=cross_validation(clf, x_data_d, y_data_d, k=[10], n_repeats=[10], random_state=1)\n",
    "\n",
    "repeated_10fold_wf1 = kfold.get(f'10-Repeated 10-fold')[0]"
   ]
  },
  {
   "cell_type": "markdown",
   "metadata": {},
   "source": [
    "#### Save Model"
   ]
  },
  {
   "cell_type": "code",
   "execution_count": 80,
   "metadata": {},
   "outputs": [],
   "source": [
    "save_model(model_name, clf)"
   ]
  },
  {
   "attachments": {},
   "cell_type": "markdown",
   "metadata": {},
   "source": [
    "### Tracking"
   ]
  },
  {
   "cell_type": "code",
   "execution_count": 81,
   "metadata": {},
   "outputs": [
    {
     "data": {
      "text/html": [
       "<table>\n",
       "<tr>\n",
       "<th colspan=4 style=\"text-align: center; vertical-align: middle;\">info</th>\n",
       "<th colspan=1 style=\"text-align: center; vertical-align: middle;\">read_data</th>\n",
       "<th colspan=4 style=\"text-align: center; vertical-align: middle;\">metrics</th>\n",
       "<th colspan=2 style=\"text-align: center; vertical-align: middle;\">cross_val_predict</th>\n",
       "</tr>\n",
       "<th style=\"text-align: center; vertical-align: middle;\">time</th>\n",
       "<th style=\"text-align: center; vertical-align: middle;\">date</th>\n",
       "<th style=\"text-align: center; vertical-align: middle;\">duration</th>\n",
       "<th style=\"text-align: center; vertical-align: middle;\">id</th>\n",
       "<th style=\"text-align: center; vertical-align: middle;\">standardize</th>\n",
       "<th style=\"text-align: center; vertical-align: middle;\">train_acc</th>\n",
       "<th style=\"text-align: center; vertical-align: middle;\">train_wf1</th>\n",
       "<th style=\"text-align: center; vertical-align: middle;\">repeated_10fold_wf1</th>\n",
       "<th style=\"text-align: center; vertical-align: middle;\">accuracy</th>\n",
       "<th style=\"text-align: center; vertical-align: middle;\">estimator</th>\n",
       "<th style=\"text-align: center; vertical-align: middle;\">cv</th>\n",
       "</tr>\n",
       "<tr>\n",
       "<td style=\"text-align: center; vertical-align: middle;\"> <font color=white>16:09:31</font></td>\n",
       "<td style=\"text-align: center; vertical-align: middle;\"> <font color=white>05/11/23</font></td>\n",
       "<td style=\"text-align: center; vertical-align: middle;\"> <font color=white>1.13 min</font></td>\n",
       "<td style=\"text-align: center; vertical-align: middle;\"> <font color=white>15</font></td>\n",
       "<td style=\"text-align: center; vertical-align: middle;\"> <font color=white>True</font></td>\n",
       "<td style=\"text-align: center; vertical-align: middle;\"> <font color=white></font></td>\n",
       "<td style=\"text-align: center; vertical-align: middle;\"> <font color=white></font></td>\n",
       "<td style=\"text-align: center; vertical-align: middle;\"> <font color=white></font></td>\n",
       "<td style=\"text-align: center; vertical-align: middle;\"> <font color=yellow>0.9771186440677966</font></td>\n",
       "<td style=\"text-align: center; vertical-align: middle;\"> <font color=white>StackingClassifier(estimators=[('rf', RandomForestClassifier...</font></td>\n",
       "<td style=\"text-align: center; vertical-align: middle;\"> <font color=white>5</font></td>\n",
       "</tr>\n",
       "<tr>\n",
       "<td style=\"text-align: center; vertical-align: middle;\"> <font color=white>16:11:27</font></td>\n",
       "<td style=\"text-align: center; vertical-align: middle;\"> <font color=white>05/11/23</font></td>\n",
       "<td style=\"text-align: center; vertical-align: middle;\"> <font color=white>19.37 s</font></td>\n",
       "<td style=\"text-align: center; vertical-align: middle;\"> <font color=white>16</font></td>\n",
       "<td style=\"text-align: center; vertical-align: middle;\"> <font color=white>True</font></td>\n",
       "<td style=\"text-align: center; vertical-align: middle;\"> <font color=white></font></td>\n",
       "<td style=\"text-align: center; vertical-align: middle;\"> <font color=white></font></td>\n",
       "<td style=\"text-align: center; vertical-align: middle;\"> <font color=white></font></td>\n",
       "<td style=\"text-align: center; vertical-align: middle;\"> <font color=yellow>0.9813559322033898</font></td>\n",
       "<td style=\"text-align: center; vertical-align: middle;\"> <font color=white>StackingClassifier(estimators=[('rf', RandomForestClassifier...</font></td>\n",
       "<td style=\"text-align: center; vertical-align: middle;\"> <font color=white>5</font></td>\n",
       "</tr>\n",
       "<tr>\n",
       "<td style=\"text-align: center; vertical-align: middle;\"> <font color=white>16:24:34</font></td>\n",
       "<td style=\"text-align: center; vertical-align: middle;\"> <font color=white>05/11/23</font></td>\n",
       "<td style=\"text-align: center; vertical-align: middle;\"> <font color=white>19.83 s</font></td>\n",
       "<td style=\"text-align: center; vertical-align: middle;\"> <font color=white>17</font></td>\n",
       "<td style=\"text-align: center; vertical-align: middle;\"> <font color=white>True</font></td>\n",
       "<td style=\"text-align: center; vertical-align: middle;\"> <font color=white></font></td>\n",
       "<td style=\"text-align: center; vertical-align: middle;\"> <font color=white></font></td>\n",
       "<td style=\"text-align: center; vertical-align: middle;\"> <font color=white></font></td>\n",
       "<td style=\"text-align: center; vertical-align: middle;\"> <font color=yellow>0.9805084745762712</font></td>\n",
       "<td style=\"text-align: center; vertical-align: middle;\"> <font color=white>StackingClassifier(estimators=[('rf', RandomForestClassifier...</font></td>\n",
       "<td style=\"text-align: center; vertical-align: middle;\"> <font color=white>5</font></td>\n",
       "</tr>\n",
       "<tr>\n",
       "<td style=\"text-align: center; vertical-align: middle;\"> <font color=white>15:28:15</font></td>\n",
       "<td style=\"text-align: center; vertical-align: middle;\"> <font color=white>05/14/23</font></td>\n",
       "<td style=\"text-align: center; vertical-align: middle;\"> <font color=white>3.81 min</font></td>\n",
       "<td style=\"text-align: center; vertical-align: middle;\"> <font color=white>18</font></td>\n",
       "<td style=\"text-align: center; vertical-align: middle;\"> <font color=white>True</font></td>\n",
       "<td style=\"text-align: center; vertical-align: middle;\"> <font color=yellow>0.991</font></td>\n",
       "<td style=\"text-align: center; vertical-align: middle;\"> <font color=yellow>0.991</font></td>\n",
       "<td style=\"text-align: center; vertical-align: middle;\"> <font color=yellow>0.9813</font></td>\n",
       "<td style=\"text-align: center; vertical-align: middle;\"> <font color=yellow></font></td>\n",
       "<td style=\"text-align: center; vertical-align: middle;\"> <font color=yellow></font></td>\n",
       "<td style=\"text-align: center; vertical-align: middle;\"> <font color=yellow></font></td>\n",
       "</tr>\n",
       "<tr>\n",
       "<td style=\"text-align: center; vertical-align: middle;\"> <font color=white>15:32:42</font></td>\n",
       "<td style=\"text-align: center; vertical-align: middle;\"> <font color=white>05/14/23</font></td>\n",
       "<td style=\"text-align: center; vertical-align: middle;\"> <font color=white>31.52 s</font></td>\n",
       "<td style=\"text-align: center; vertical-align: middle;\"> <font color=white>19</font></td>\n",
       "<td style=\"text-align: center; vertical-align: middle;\"> <font color=white>True</font></td>\n",
       "<td style=\"text-align: center; vertical-align: middle;\"> <font color=white>0.991</font></td>\n",
       "<td style=\"text-align: center; vertical-align: middle;\"> <font color=white>0.991</font></td>\n",
       "<td style=\"text-align: center; vertical-align: middle;\"> <font color=white>0.9813</font></td>\n",
       "<td style=\"text-align: center; vertical-align: middle;\"> <font color=white></font></td>\n",
       "<td style=\"text-align: center; vertical-align: middle;\"> <font color=white></font></td>\n",
       "<td style=\"text-align: center; vertical-align: middle;\"> <font color=white></font></td>\n",
       "</tr>\n",
       "<tr>\n",
       "<td style=\"text-align: center; vertical-align: middle;\"> <font color=white>15:33:41</font></td>\n",
       "<td style=\"text-align: center; vertical-align: middle;\"> <font color=white>05/14/23</font></td>\n",
       "<td style=\"text-align: center; vertical-align: middle;\"> <font color=white>53.63 s</font></td>\n",
       "<td style=\"text-align: center; vertical-align: middle;\"> <font color=white>20</font></td>\n",
       "<td style=\"text-align: center; vertical-align: middle;\"> <font color=white>True</font></td>\n",
       "<td style=\"text-align: center; vertical-align: middle;\"> <font color=yellow>0.993</font></td>\n",
       "<td style=\"text-align: center; vertical-align: middle;\"> <font color=yellow>0.993</font></td>\n",
       "<td style=\"text-align: center; vertical-align: middle;\"> <font color=yellow>0.9814</font></td>\n",
       "<td style=\"text-align: center; vertical-align: middle;\"> <font color=white></font></td>\n",
       "<td style=\"text-align: center; vertical-align: middle;\"> <font color=white></font></td>\n",
       "<td style=\"text-align: center; vertical-align: middle;\"> <font color=white></font></td>\n",
       "</tr>\n"
      ],
      "text/plain": [
       "<IPython.core.display.HTML object>"
      ]
     },
     "metadata": {},
     "output_type": "display_data"
    }
   ],
   "source": [
    "mlq.log_metrics(train_acc, train_wf1, repeated_10fold_wf1)\n",
    "mlq.end_quest()\n",
    "mlq.show_logs(\"StackingEnsemble\", table_dest=\"../../\", last_k=6)"
   ]
  }
 ],
 "metadata": {
  "kernelspec": {
   "display_name": "base",
   "language": "python",
   "name": "python3"
  },
  "language_info": {
   "codemirror_mode": {
    "name": "ipython",
    "version": 3
   },
   "file_extension": ".py",
   "mimetype": "text/x-python",
   "name": "python",
   "nbconvert_exporter": "python",
   "pygments_lexer": "ipython3",
   "version": "3.9.13"
  },
  "orig_nbformat": 4
 },
 "nbformat": 4,
 "nbformat_minor": 2
}
