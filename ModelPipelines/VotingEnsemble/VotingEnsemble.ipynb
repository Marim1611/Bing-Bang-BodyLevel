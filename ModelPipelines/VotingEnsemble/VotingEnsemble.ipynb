{
 "cells": [
  {
   "cell_type": "code",
   "execution_count": 166,
   "metadata": {},
   "outputs": [],
   "source": [
    "import sys; sys.path.append('../../')\n",
    "import numpy as np\n",
    "import pandas as pd\n",
    "from DataPreparation.DataPreparation import read_data\n",
    "from sklearn.ensemble import RandomForestClassifier, VotingClassifier\n",
    "from sklearn.linear_model import LogisticRegression\n",
    "from sklearn.svm import SVC\n",
    "from sklearn.metrics import classification_report\n",
    "from sklearn.model_selection import cross_val_predict\n",
    "from mlpath import mlquest as mlq\n",
    "mlq.start_quest(\"VotingEnsemble\", table_dest=\"../../\", log_defs=False)"
   ]
  },
  {
   "attachments": {},
   "cell_type": "markdown",
   "metadata": {},
   "source": [
    "### Read the data"
   ]
  },
  {
   "cell_type": "code",
   "execution_count": 167,
   "metadata": {},
   "outputs": [],
   "source": [
    "x_data_d, y_data_d = mlq.l(read_data)(kind='Numerical', standardize=True)\n"
   ]
  },
  {
   "attachments": {},
   "cell_type": "markdown",
   "metadata": {},
   "source": [
    "### Initiate model"
   ]
  },
  {
   "cell_type": "code",
   "execution_count": 168,
   "metadata": {},
   "outputs": [],
   "source": [
    "clf_rf = RandomForestClassifier(n_estimators=300)\n",
    "clf_svm = SVC(kernel='linear', C=7)\n",
    "clf_log = LogisticRegression(multi_class='multinomial')\n",
    "\n",
    "clf = mlq.l(VotingClassifier)(estimators=[('rf', clf_rf), ('svm', clf_svm), ('log', clf_log)], voting='hard', weights=[2,2,1])"
   ]
  },
  {
   "attachments": {},
   "cell_type": "markdown",
   "metadata": {},
   "source": [
    "### Train and Evaluate"
   ]
  },
  {
   "cell_type": "code",
   "execution_count": 169,
   "metadata": {},
   "outputs": [
    {
     "name": "stdout",
     "output_type": "stream",
     "text": [
      "              precision    recall  f1-score   support\n",
      "\n",
      "           0       0.95      0.99      0.97       152\n",
      "           1       0.98      0.80      0.88       160\n",
      "           2       0.92      0.99      0.95       324\n",
      "           3       1.00      0.99      0.99       544\n",
      "\n",
      "    accuracy                           0.97      1180\n",
      "   macro avg       0.96      0.94      0.95      1180\n",
      "weighted avg       0.97      0.97      0.96      1180\n",
      "\n"
     ]
    }
   ],
   "source": [
    "y_pred = mlq.l(cross_val_predict)(clf, x_data_d, y_data_d, cv=4)\n",
    "accuracy = np.mean(y_pred == y_data_d)\n",
    "mlq.log_metrics(accuracy=accuracy.item())\n",
    "print(classification_report(y_data_d, y_pred))\n",
    "mlq.end_quest()"
   ]
  },
  {
   "attachments": {},
   "cell_type": "markdown",
   "metadata": {},
   "source": [
    "### Tracking"
   ]
  },
  {
   "cell_type": "code",
   "execution_count": 170,
   "metadata": {},
   "outputs": [
    {
     "data": {
      "text/html": [
       "<table>\n",
       "<tr>\n",
       "<th colspan=4 style=\"text-align: center; vertical-align: middle;\">info</th>\n",
       "<th colspan=1 style=\"text-align: center; vertical-align: middle;\">read_data</th>\n",
       "<th colspan=1 style=\"text-align: center; vertical-align: middle;\">VotingClassifier</th>\n",
       "<th colspan=2 style=\"text-align: center; vertical-align: middle;\">cross_val_predict</th>\n",
       "<th colspan=1 style=\"text-align: center; vertical-align: middle;\">metrics</th>\n",
       "</tr>\n",
       "<th style=\"text-align: center; vertical-align: middle;\">time</th>\n",
       "<th style=\"text-align: center; vertical-align: middle;\">date</th>\n",
       "<th style=\"text-align: center; vertical-align: middle;\">duration</th>\n",
       "<th style=\"text-align: center; vertical-align: middle;\">id</th>\n",
       "<th style=\"text-align: center; vertical-align: middle;\">standardize</th>\n",
       "<th style=\"text-align: center; vertical-align: middle;\">voting</th>\n",
       "<th style=\"text-align: center; vertical-align: middle;\">estimator</th>\n",
       "<th style=\"text-align: center; vertical-align: middle;\">cv</th>\n",
       "<th style=\"text-align: center; vertical-align: middle;\">accuracy</th>\n",
       "</tr>\n",
       "<tr>\n",
       "<td style=\"text-align: center; vertical-align: middle;\"> <font color=white>11:48:01</font></td>\n",
       "<td style=\"text-align: center; vertical-align: middle;\"> <font color=white>05/11/23</font></td>\n",
       "<td style=\"text-align: center; vertical-align: middle;\"> <font color=white>3.36 s</font></td>\n",
       "<td style=\"text-align: center; vertical-align: middle;\"> <font color=white>24</font></td>\n",
       "<td style=\"text-align: center; vertical-align: middle;\"> <font color=white>True</font></td>\n",
       "<td style=\"text-align: center; vertical-align: middle;\"> <font color=white>hard</font></td>\n",
       "<td style=\"text-align: center; vertical-align: middle;\"> <font color=white>VotingClassifier(estimators=[('rf', RandomForestClassifier(n...</font></td>\n",
       "<td style=\"text-align: center; vertical-align: middle;\"> <font color=white>5</font></td>\n",
       "<td style=\"text-align: center; vertical-align: middle;\"> <font color=yellow>0.9661016949152542</font></td>\n",
       "</tr>\n",
       "<tr>\n",
       "<td style=\"text-align: center; vertical-align: middle;\"> <font color=white>11:48:09</font></td>\n",
       "<td style=\"text-align: center; vertical-align: middle;\"> <font color=white>05/11/23</font></td>\n",
       "<td style=\"text-align: center; vertical-align: middle;\"> <font color=white>3.38 s</font></td>\n",
       "<td style=\"text-align: center; vertical-align: middle;\"> <font color=white>25</font></td>\n",
       "<td style=\"text-align: center; vertical-align: middle;\"> <font color=white>True</font></td>\n",
       "<td style=\"text-align: center; vertical-align: middle;\"> <font color=white>hard</font></td>\n",
       "<td style=\"text-align: center; vertical-align: middle;\"> <font color=white>VotingClassifier(estimators=[('rf', RandomForestClassifier(n...</font></td>\n",
       "<td style=\"text-align: center; vertical-align: middle;\"> <font color=white>5</font></td>\n",
       "<td style=\"text-align: center; vertical-align: middle;\"> <font color=yellow>0.9669491525423729</font></td>\n",
       "</tr>\n",
       "<tr>\n",
       "<td style=\"text-align: center; vertical-align: middle;\"> <font color=white>11:48:20</font></td>\n",
       "<td style=\"text-align: center; vertical-align: middle;\"> <font color=white>05/11/23</font></td>\n",
       "<td style=\"text-align: center; vertical-align: middle;\"> <font color=white>4.62 s</font></td>\n",
       "<td style=\"text-align: center; vertical-align: middle;\"> <font color=white>26</font></td>\n",
       "<td style=\"text-align: center; vertical-align: middle;\"> <font color=white>True</font></td>\n",
       "<td style=\"text-align: center; vertical-align: middle;\"> <font color=white>hard</font></td>\n",
       "<td style=\"text-align: center; vertical-align: middle;\"> <font color=white>VotingClassifier(estimators=[('rf', RandomForestClassifier(n...</font></td>\n",
       "<td style=\"text-align: center; vertical-align: middle;\"> <font color=white>5</font></td>\n",
       "<td style=\"text-align: center; vertical-align: middle;\"> <font color=yellow>0.9661016949152542</font></td>\n",
       "</tr>\n",
       "<tr>\n",
       "<td style=\"text-align: center; vertical-align: middle;\"> <font color=white>11:48:56</font></td>\n",
       "<td style=\"text-align: center; vertical-align: middle;\"> <font color=white>05/11/23</font></td>\n",
       "<td style=\"text-align: center; vertical-align: middle;\"> <font color=white>4.98 s</font></td>\n",
       "<td style=\"text-align: center; vertical-align: middle;\"> <font color=white>28</font></td>\n",
       "<td style=\"text-align: center; vertical-align: middle;\"> <font color=white>True</font></td>\n",
       "<td style=\"text-align: center; vertical-align: middle;\"> <font color=white>hard</font></td>\n",
       "<td style=\"text-align: center; vertical-align: middle;\"> <font color=white>VotingClassifier(estimators=[('rf', RandomForestClassifier(n...</font></td>\n",
       "<td style=\"text-align: center; vertical-align: middle;\"> <font color=white>5</font></td>\n",
       "<td style=\"text-align: center; vertical-align: middle;\"> <font color=yellow>0.964406779661017</font></td>\n",
       "</tr>\n",
       "<tr>\n",
       "<td style=\"text-align: center; vertical-align: middle;\"> <font color=white>11:49:28</font></td>\n",
       "<td style=\"text-align: center; vertical-align: middle;\"> <font color=white>05/11/23</font></td>\n",
       "<td style=\"text-align: center; vertical-align: middle;\"> <font color=white>4.97 s</font></td>\n",
       "<td style=\"text-align: center; vertical-align: middle;\"> <font color=white>29</font></td>\n",
       "<td style=\"text-align: center; vertical-align: middle;\"> <font color=white>True</font></td>\n",
       "<td style=\"text-align: center; vertical-align: middle;\"> <font color=white>hard</font></td>\n",
       "<td style=\"text-align: center; vertical-align: middle;\"> <font color=white>VotingClassifier(estimators=[('rf', RandomForestClassifier(n...</font></td>\n",
       "<td style=\"text-align: center; vertical-align: middle;\"> <font color=white>5</font></td>\n",
       "<td style=\"text-align: center; vertical-align: middle;\"> <font color=yellow>0.9669491525423729</font></td>\n",
       "</tr>\n",
       "<tr>\n",
       "<td style=\"text-align: center; vertical-align: middle;\"> <font color=white>11:50:34</font></td>\n",
       "<td style=\"text-align: center; vertical-align: middle;\"> <font color=white>05/11/23</font></td>\n",
       "<td style=\"text-align: center; vertical-align: middle;\"> <font color=white>3.47 s</font></td>\n",
       "<td style=\"text-align: center; vertical-align: middle;\"> <font color=white>31</font></td>\n",
       "<td style=\"text-align: center; vertical-align: middle;\"> <font color=white>True</font></td>\n",
       "<td style=\"text-align: center; vertical-align: middle;\"> <font color=white>hard</font></td>\n",
       "<td style=\"text-align: center; vertical-align: middle;\"> <font color=white>VotingClassifier(estimators=[('rf', RandomForestClassifier(n...</font></td>\n",
       "<td style=\"text-align: center; vertical-align: middle;\"> <font color=yellow>4</font></td>\n",
       "<td style=\"text-align: center; vertical-align: middle;\"> <font color=yellow>0.9652542372881356</font></td>\n",
       "</tr>\n"
      ],
      "text/plain": [
       "<IPython.core.display.HTML object>"
      ]
     },
     "metadata": {},
     "output_type": "display_data"
    }
   ],
   "source": [
    "mlq.show_logs(\"VotingEnsemble\", table_dest=\"../../\", last_k=6)"
   ]
  }
 ],
 "metadata": {
  "kernelspec": {
   "display_name": "base",
   "language": "python",
   "name": "python3"
  },
  "language_info": {
   "codemirror_mode": {
    "name": "ipython",
    "version": 3
   },
   "file_extension": ".py",
   "mimetype": "text/x-python",
   "name": "python",
   "nbconvert_exporter": "python",
   "pygments_lexer": "ipython3",
   "version": "3.10.4"
  },
  "orig_nbformat": 4
 },
 "nbformat": 4,
 "nbformat_minor": 2
}
